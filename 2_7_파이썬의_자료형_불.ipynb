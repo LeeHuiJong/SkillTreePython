{
  "nbformat": 4,
  "nbformat_minor": 0,
  "metadata": {
    "colab": {
      "name": "2-7.파이썬의 자료형_불.ipynb",
      "provenance": [],
      "collapsed_sections": [],
      "include_colab_link": true
    },
    "kernelspec": {
      "name": "python3",
      "display_name": "Python 3"
    },
    "language_info": {
      "name": "python"
    }
  },
  "cells": [
    {
      "cell_type": "markdown",
      "metadata": {
        "id": "view-in-github",
        "colab_type": "text"
      },
      "source": [
        "<a href=\"https://colab.research.google.com/github/LeeHuiJong/SkillTreePython/blob/main/2_7_%ED%8C%8C%EC%9D%B4%EC%8D%AC%EC%9D%98_%EC%9E%90%EB%A3%8C%ED%98%95_%EB%B6%88.ipynb\" target=\"_parent\"><img src=\"https://colab.research.google.com/assets/colab-badge.svg\" alt=\"Open In Colab\"/></a>"
      ]
    },
    {
      "cell_type": "markdown",
      "source": [
        "# 2-7.파이썬의 자료형:불 \n",
        "---\n",
        "* 날짜:\n",
        "* 이름:"
      ],
      "metadata": {
        "id": "kB5IciXEm6o4"
      }
    },
    {
      "cell_type": "markdown",
      "source": [
        ""
      ],
      "metadata": {
        "id": "4iN8NFzHRJ2D"
      }
    },
    {
      "cell_type": "markdown",
      "source": [
        "### **(1) 생성**\n",
        "\n",
        "불 자료형은 단 두가지의 값, `True`와 `False`만을 가지고 있습니다. \n",
        "\n",
        "* True\n",
        "\n",
        "```\n",
        "bool_t = True\n",
        "print(bool_t, type(bool_t))\n",
        "```"
      ],
      "metadata": {
        "id": "MAM8MDnfw68b"
      }
    },
    {
      "cell_type": "code",
      "source": [
        "bool_t=True\n",
        "bool_t,type(bool_t)"
      ],
      "metadata": {
        "id": "-A_CdM3VvJwE",
        "colab": {
          "base_uri": "https://localhost:8080/"
        },
        "outputId": "a5306a4f-4a67-48c4-8ef8-40cbeb288156"
      },
      "execution_count": null,
      "outputs": [
        {
          "output_type": "execute_result",
          "data": {
            "text/plain": [
              "(True, bool)"
            ]
          },
          "metadata": {},
          "execution_count": 1
        }
      ]
    },
    {
      "cell_type": "markdown",
      "source": [
        "* False\n",
        "\n",
        "```\n",
        "bool_f = False\n",
        "print(bool_f, type(bool_f))\n",
        "```"
      ],
      "metadata": {
        "id": "ve0Q78levM7y"
      }
    },
    {
      "cell_type": "code",
      "source": [
        "bool_t=False\n",
        "bool_t,type(bool_t)"
      ],
      "metadata": {
        "id": "oL0peiU6vNLW",
        "colab": {
          "base_uri": "https://localhost:8080/"
        },
        "outputId": "53fc16ec-5c2e-492c-d188-23ef1a1dd879"
      },
      "execution_count": null,
      "outputs": [
        {
          "output_type": "execute_result",
          "data": {
            "text/plain": [
              "(False, bool)"
            ]
          },
          "metadata": {},
          "execution_count": 2
        }
      ]
    },
    {
      "cell_type": "markdown",
      "source": [
        "### **(2) 비교연산자**\n",
        "\n",
        "보통 불 자료형은 참과 거짓을 판단할 때 사용 합니다. 비교연산자를 통해 데이터 간의 관계를 판별하고 이를 불 자료형으로 저장할 수 있습니다.\n",
        "\n",
        "|설명|코드|\n",
        "|--|--|\n",
        "|같다|`==`|\n",
        "|다르다|`!=`|\n",
        "|크다/작다|`<`/`>`|\n",
        "|크거나 같다/작거나 같다|`<=`/`>=`|\n"
      ],
      "metadata": {
        "id": "RSd2HMOPvXJX"
      }
    },
    {
      "cell_type": "markdown",
      "source": [
        "```\n",
        "a = 10\n",
        "b = 10\n",
        "c = 20\n",
        "```"
      ],
      "metadata": {
        "id": "lChKfbz6vghh"
      }
    },
    {
      "cell_type": "code",
      "source": [
        "a=10\n",
        "b=10\n",
        "c=20"
      ],
      "metadata": {
        "id": "Iql1vi-uvhyX"
      },
      "execution_count": null,
      "outputs": []
    },
    {
      "cell_type": "markdown",
      "source": [
        "\n",
        "#### **같다**\n",
        "\n",
        "* `==`\n",
        "\n",
        "```\n",
        "print(a==b)\n",
        "print(a==c)\n",
        "```"
      ],
      "metadata": {
        "id": "sb_fMnF4vZ8M"
      }
    },
    {
      "cell_type": "code",
      "source": [
        "a==b,a==c"
      ],
      "metadata": {
        "id": "WJk0qA7FvOJn",
        "colab": {
          "base_uri": "https://localhost:8080/"
        },
        "outputId": "32bafa87-35ec-411e-980e-20be8a69e502"
      },
      "execution_count": null,
      "outputs": [
        {
          "output_type": "execute_result",
          "data": {
            "text/plain": [
              "(True, False)"
            ]
          },
          "metadata": {},
          "execution_count": 8
        }
      ]
    },
    {
      "cell_type": "markdown",
      "source": [
        "#### **다르다**\n",
        "\n",
        "* `!=`\n",
        "\n",
        "```\n",
        "print(a!=b)\n",
        "print(a!=c)\n",
        "```"
      ],
      "metadata": {
        "id": "Ko2-jAkLvcr9"
      }
    },
    {
      "cell_type": "code",
      "source": [
        "a!=b"
      ],
      "metadata": {
        "id": "Q0OHkDldvbMe",
        "colab": {
          "base_uri": "https://localhost:8080/"
        },
        "outputId": "4d8ee91b-3d6b-4161-a21c-21e95b966b4d"
      },
      "execution_count": null,
      "outputs": [
        {
          "output_type": "execute_result",
          "data": {
            "text/plain": [
              "False"
            ]
          },
          "metadata": {},
          "execution_count": 10
        }
      ]
    },
    {
      "cell_type": "markdown",
      "source": [
        "#### **크다/작다**\n",
        "\n",
        "* `>`\n",
        "* `<`\n",
        "\n",
        "```\n",
        "print(a>c)\n",
        "print(a<c)\n",
        "```"
      ],
      "metadata": {
        "id": "8xA_skATvpnF"
      }
    },
    {
      "cell_type": "code",
      "source": [
        "a>c"
      ],
      "metadata": {
        "id": "LjhSc6J6vlf9",
        "colab": {
          "base_uri": "https://localhost:8080/"
        },
        "outputId": "e31fc729-2ea6-4b97-88b0-a70c00d6bdff"
      },
      "execution_count": null,
      "outputs": [
        {
          "output_type": "execute_result",
          "data": {
            "text/plain": [
              "False"
            ]
          },
          "metadata": {},
          "execution_count": 11
        }
      ]
    },
    {
      "cell_type": "markdown",
      "source": [
        "#### **크거나 같다/작다**\n",
        "\n",
        "* `>=`\n",
        "* `<=`\n",
        "\n",
        "```\n",
        "print(a>=c)\n",
        "print(a<=c)\n",
        "```"
      ],
      "metadata": {
        "id": "0H5UpFNqvstu"
      }
    },
    {
      "cell_type": "code",
      "source": [
        "a<=c"
      ],
      "metadata": {
        "id": "j6g27kAyvrb4",
        "colab": {
          "base_uri": "https://localhost:8080/"
        },
        "outputId": "dfd3f5a4-a741-47e3-da7a-02938f5b3540"
      },
      "execution_count": null,
      "outputs": [
        {
          "output_type": "execute_result",
          "data": {
            "text/plain": [
              "True"
            ]
          },
          "metadata": {},
          "execution_count": 12
        }
      ]
    },
    {
      "cell_type": "markdown",
      "source": [
        "###  **(3) Identity 연산자**\n",
        "\n",
        "|설명|코드|\n",
        "|--|--|\n",
        "|(메모리주소가)같다|`is`|\n",
        "|(메모리주소가)다르다|`is not`|\n",
        "\n",
        "`Identity` 라고 하는 것은 두 변수가 같은 메모리 주소를 가리키는 것을 일컫습니다. 아래와 같이 세개의 값 `a`, `b`, `c`가 숫자 10으로 바인딩 되어 있습니다.\n",
        "\n",
        "```\n",
        "a = 10\n",
        "b = 10.0\n",
        "```\n"
      ],
      "metadata": {
        "id": "eF4oulf5vwEJ"
      }
    },
    {
      "cell_type": "code",
      "source": [
        "a=10\n",
        "b=10.0\n",
        "type(a),type(b)"
      ],
      "metadata": {
        "id": "ktyXZcurvuCY",
        "colab": {
          "base_uri": "https://localhost:8080/"
        },
        "outputId": "47fac97d-6bab-441d-ca19-893c76272ae3"
      },
      "execution_count": null,
      "outputs": [
        {
          "output_type": "execute_result",
          "data": {
            "text/plain": [
              "(int, float)"
            ]
          },
          "metadata": {},
          "execution_count": 13
        }
      ]
    },
    {
      "cell_type": "markdown",
      "source": [
        "\n",
        "#### **(메모리주소가) 같을 때**\n",
        "\n",
        "*  `is`\n",
        "\n",
        "\n",
        "`a==b` 는 `True` 이고 `a is b` 는 `False`임을 확인할 수 있습니다. `a`와 `b` 모두 값 자체는 `10`으로 동일하기 때문에 `a==b`는 `True` 값을 가지지만, `a`는 `int`이고 `b`는 `float` 자료형이기 때문에 `a is b`의 결과는 `False` 입니다.\n",
        "\n",
        "```\n",
        "print(a==b) # a, b 의 값이 같은지 판별\n",
        "print(a is b) # a, b 가 같은 메모리 주소에 있는지 판별\n",
        "```\n"
      ],
      "metadata": {
        "id": "9Yv_CuPOv0J8"
      }
    },
    {
      "cell_type": "code",
      "source": [
        "print(a==b) #값이 같은지를 판별하는것\n",
        "print(a is b) #메모리 주소가 같은지 판별"
      ],
      "metadata": {
        "id": "uHpcb8vwvyYd",
        "colab": {
          "base_uri": "https://localhost:8080/"
        },
        "outputId": "4f72edeb-091c-4bb1-ae11-240b4ee44c93"
      },
      "execution_count": null,
      "outputs": [
        {
          "output_type": "stream",
          "name": "stdout",
          "text": [
            "True\n",
            "False\n"
          ]
        }
      ]
    },
    {
      "cell_type": "markdown",
      "source": [
        "#### **(메모리주소가) 다를 때**\n",
        "\n",
        "* `is not`\n",
        "\n",
        "\n",
        "반대의 경우입니다. `!=` 를 사용할 때는  `True`이고 `is not`은 `True` 입니다.  \n",
        "\n",
        "```\n",
        "print(a!=b)  # a, b 의 값이 다른지 판별\n",
        "print(a is not b) # a, b 가 다른 메모리 주소에 있는지 판별\n",
        "```\n"
      ],
      "metadata": {
        "id": "D-5lT6Rjv_TJ"
      }
    },
    {
      "cell_type": "code",
      "source": [
        "print(a!=b)\n",
        "print(a is not b)"
      ],
      "metadata": {
        "id": "ZRtzSicOgYfQ",
        "colab": {
          "base_uri": "https://localhost:8080/"
        },
        "outputId": "790795e9-c681-4ea7-bbb1-12a8500224b3"
      },
      "execution_count": null,
      "outputs": [
        {
          "output_type": "stream",
          "name": "stdout",
          "text": [
            "False\n",
            "True\n"
          ]
        }
      ]
    },
    {
      "cell_type": "markdown",
      "source": [
        "### **(4) 논리연산자**\n",
        "\n",
        "\n"
      ],
      "metadata": {
        "id": "Pepzbg-WwErt"
      }
    },
    {
      "cell_type": "markdown",
      "source": [
        "#### **`and` 연산자** ★\n",
        "\n",
        "* `and` : 모두 `True`여야 `True`, 그 외엔 `False`\n",
        "\n",
        "|A|B| 결과 |\n",
        "|--|--|--|\n",
        "|False|False|False| \n",
        "|False|True|False| \n",
        "|True|False|False| \n",
        "|True|True|True| \n",
        "\n",
        "```\n",
        "a = True\n",
        "b = False\n",
        "print(a and b)\n",
        "```"
      ],
      "metadata": {
        "id": "mmKaSILLxix2"
      }
    },
    {
      "cell_type": "code",
      "source": [
        "a=True\n",
        "b=True\n",
        "a and b"
      ],
      "metadata": {
        "id": "c3a1U92Tv9je",
        "colab": {
          "base_uri": "https://localhost:8080/"
        },
        "outputId": "25d10859-2a96-4cba-e3ac-2369e197322d"
      },
      "execution_count": null,
      "outputs": [
        {
          "output_type": "execute_result",
          "data": {
            "text/plain": [
              "True"
            ]
          },
          "metadata": {},
          "execution_count": 17
        }
      ]
    },
    {
      "cell_type": "code",
      "source": [
        "n=10\n",
        "a=n>5 #True\n",
        "b=n<20 #True\n",
        "a and b #True"
      ],
      "metadata": {
        "colab": {
          "base_uri": "https://localhost:8080/"
        },
        "id": "2Pvh7l5nt5lv",
        "outputId": "2600a30d-142b-41e6-daa8-ef769171cdc4"
      },
      "execution_count": null,
      "outputs": [
        {
          "output_type": "execute_result",
          "data": {
            "text/plain": [
              "True"
            ]
          },
          "metadata": {},
          "execution_count": 18
        }
      ]
    },
    {
      "cell_type": "markdown",
      "source": [
        "#### **`or` 연산자**\n",
        "\n",
        "* `or` : 모두 `False`여야 `False`, 그 외엔 `True`\n",
        "\n",
        "|A|B| 결과 |\n",
        "|--|--|--|\n",
        "|False|False|False| \n",
        "|False|True|True| \n",
        "|True|False|True| \n",
        "|True|True|True| \n",
        "\n",
        "```\n",
        "a = True\n",
        "b = False\n",
        "print(a or b)\n",
        "```\n"
      ],
      "metadata": {
        "id": "YhxIRN0swIMk"
      }
    },
    {
      "cell_type": "code",
      "source": [
        "a=True\n",
        "b=False\n",
        "a or b"
      ],
      "metadata": {
        "id": "FKszLHP8wGq4",
        "colab": {
          "base_uri": "https://localhost:8080/"
        },
        "outputId": "de55ccf6-6a4a-412f-91b0-5d1813d6c8c3"
      },
      "execution_count": null,
      "outputs": [
        {
          "output_type": "execute_result",
          "data": {
            "text/plain": [
              "True"
            ]
          },
          "metadata": {},
          "execution_count": 19
        }
      ]
    },
    {
      "cell_type": "markdown",
      "source": [
        "#### **`not` 연산자**\n",
        "\n",
        "* `not` : 반대\n",
        "\n",
        "|A|결과 |\n",
        "|--|--|\n",
        "|False|True| \n",
        "|False|False|\n",
        "\n",
        "```\n",
        "a = True\n",
        "print(not a)\n",
        "```"
      ],
      "metadata": {
        "id": "tPQXQ820wKx6"
      }
    },
    {
      "cell_type": "code",
      "source": [
        "a= True\n",
        "not a"
      ],
      "metadata": {
        "id": "TN8hYesmwJR3",
        "colab": {
          "base_uri": "https://localhost:8080/"
        },
        "outputId": "b9e20d9c-247c-4b36-b97a-e702597351df"
      },
      "execution_count": null,
      "outputs": [
        {
          "output_type": "execute_result",
          "data": {
            "text/plain": [
              "False"
            ]
          },
          "metadata": {},
          "execution_count": 20
        }
      ]
    },
    {
      "cell_type": "markdown",
      "source": [
        "### **(5) 자료형의 True/False**\n",
        "\n",
        "|값\t|자료형|\tTrue OR False |\n",
        "|--|--|--|\n",
        "\"hi\"|\tstr\t|True\n",
        "\"\"\t|str\t|False\n",
        "[1,2,3]\t|list|\tTrue\n",
        "[]|\tlist\t|False\n",
        "(1,2,3)\t|tuple|\tTrue\n",
        "()|\ttuple|\tFalse\n",
        "{}|\tdictionary|\tFalse\n",
        "1\t|int|\tTrue\n",
        "0\t|int|\tFalse\n"
      ],
      "metadata": {
        "id": "f6ZwYMcQwMq1"
      }
    },
    {
      "cell_type": "markdown",
      "source": [
        "#### **문자**\n",
        "\n",
        "문자가 하나라도 포함되어 있으면 `True` 입니다.\n",
        "\n",
        "```\n",
        "print(bool(\"abc\"))\n",
        "print(bool(\"\"))\n",
        "```\n"
      ],
      "metadata": {
        "id": "iu9Qsd9SwPRp"
      }
    },
    {
      "cell_type": "code",
      "source": [
        "a=\"a\"\n",
        "bool(a),bool(\"\")"
      ],
      "metadata": {
        "id": "cADkAygFwLlw",
        "colab": {
          "base_uri": "https://localhost:8080/"
        },
        "outputId": "e1a2b4e6-2f75-48d6-a147-3b412ef25651"
      },
      "execution_count": null,
      "outputs": [
        {
          "output_type": "execute_result",
          "data": {
            "text/plain": [
              "(True, False)"
            ]
          },
          "metadata": {},
          "execution_count": 22
        }
      ]
    },
    {
      "cell_type": "markdown",
      "source": [
        "\n",
        "#### **리스트/튜플/딕셔너리**\n",
        "\n",
        "리스트(튜플/딕셔너리)에 하나라도 포함되어 있으면 `True` 입니다\n",
        "\n",
        "```\n",
        "print(bool([1,2]))\n",
        "print(bool([]))\n",
        "```"
      ],
      "metadata": {
        "id": "RCxgNv7HwTTH"
      }
    },
    {
      "cell_type": "code",
      "source": [
        "bool([]),bool([1])"
      ],
      "metadata": {
        "id": "1zj7UJIxwRr1",
        "colab": {
          "base_uri": "https://localhost:8080/"
        },
        "outputId": "341290d9-d493-47bc-960e-586d483e9278"
      },
      "execution_count": null,
      "outputs": [
        {
          "output_type": "execute_result",
          "data": {
            "text/plain": [
              "(False, True)"
            ]
          },
          "metadata": {},
          "execution_count": 23
        }
      ]
    },
    {
      "cell_type": "markdown",
      "source": [
        "#### **수치자료형**\n",
        "\n",
        "0일때만 `False` 입니다.\n",
        "\n",
        "```\n",
        "print(bool(10))\n",
        "print(bool(-10))\n",
        "print(bool(0))\n",
        "```"
      ],
      "metadata": {
        "id": "ckclBKQAwXkd"
      }
    },
    {
      "cell_type": "code",
      "source": [
        "bool(10),bool(),bool(0),bool(-1)"
      ],
      "metadata": {
        "id": "sWhI9ZRXwWSt",
        "colab": {
          "base_uri": "https://localhost:8080/"
        },
        "outputId": "557d9dcd-348e-4139-c02e-ef557680ee17"
      },
      "execution_count": null,
      "outputs": [
        {
          "output_type": "execute_result",
          "data": {
            "text/plain": [
              "(True, False, False, True)"
            ]
          },
          "metadata": {},
          "execution_count": 26
        }
      ]
    },
    {
      "cell_type": "markdown",
      "source": [
        "## 문제풀이\n",
        "---"
      ],
      "metadata": {
        "id": "EOKHJNE_wdPo"
      }
    },
    {
      "cell_type": "markdown",
      "source": [
        "\n",
        "\n",
        "**예제 01**\n",
        "\n",
        "아래 결과를 예측하세요\n",
        "\n",
        "```\n",
        "bool(\"안녕\")\n",
        "```"
      ],
      "metadata": {
        "id": "eLhnxNGawcKi"
      }
    },
    {
      "cell_type": "code",
      "source": [
        "bool(\"안녕\")"
      ],
      "metadata": {
        "id": "W1SP3TtVwe7_",
        "colab": {
          "base_uri": "https://localhost:8080/"
        },
        "outputId": "f8c6bd33-51c0-4e63-de29-8c5d9d41649f"
      },
      "execution_count": null,
      "outputs": [
        {
          "output_type": "execute_result",
          "data": {
            "text/plain": [
              "True"
            ]
          },
          "metadata": {},
          "execution_count": 27
        }
      ]
    },
    {
      "cell_type": "markdown",
      "source": [
        "**예제 02**\n",
        "\n",
        "아래 결과를 예측하세요\n",
        "\n",
        "```\n",
        "bool(\"\")\n",
        "```"
      ],
      "metadata": {
        "id": "xGNJ9y5Wwf54"
      }
    },
    {
      "cell_type": "code",
      "source": [
        "bool(\"\")"
      ],
      "metadata": {
        "id": "gHzUxS0Lwgzz",
        "colab": {
          "base_uri": "https://localhost:8080/"
        },
        "outputId": "8b9e7e57-5f93-4b1f-83a0-a1d429905f36"
      },
      "execution_count": null,
      "outputs": [
        {
          "output_type": "execute_result",
          "data": {
            "text/plain": [
              "False"
            ]
          },
          "metadata": {},
          "execution_count": 28
        }
      ]
    },
    {
      "cell_type": "markdown",
      "source": [
        "**예제 03**\n",
        "\n",
        "아래 결과를 예측하세요\n",
        "\n",
        "\n",
        "```\n",
        "bool([2,4,6])\n",
        "```"
      ],
      "metadata": {
        "id": "Tg2gHNY3wgAR"
      }
    },
    {
      "cell_type": "code",
      "source": [
        "bool([2,4,6])"
      ],
      "metadata": {
        "id": "vOJSteeUwiKM",
        "colab": {
          "base_uri": "https://localhost:8080/"
        },
        "outputId": "f838d412-9b81-4b41-beec-b9056a233a6b"
      },
      "execution_count": null,
      "outputs": [
        {
          "output_type": "execute_result",
          "data": {
            "text/plain": [
              "True"
            ]
          },
          "metadata": {},
          "execution_count": 29
        }
      ]
    },
    {
      "cell_type": "markdown",
      "source": [
        "**예제 04**\n",
        "\n",
        "\n",
        "아래 결과를 예측하세요\n",
        "\n",
        "\n",
        "```\n",
        "bool([0])\n",
        "```"
      ],
      "metadata": {
        "id": "uwujor7AwiRX"
      }
    },
    {
      "cell_type": "code",
      "source": [
        "bool([0])"
      ],
      "metadata": {
        "id": "5XzG9e4lwjZp",
        "colab": {
          "base_uri": "https://localhost:8080/"
        },
        "outputId": "0cac8562-e81a-474f-f054-2f83c1c6a4ad"
      },
      "execution_count": null,
      "outputs": [
        {
          "output_type": "execute_result",
          "data": {
            "text/plain": [
              "True"
            ]
          },
          "metadata": {},
          "execution_count": 30
        }
      ]
    },
    {
      "cell_type": "markdown",
      "source": [
        "**예제 05**\n",
        "\n",
        " 아래 결과를 예측하세요\n",
        "\n",
        "\n",
        "```\n",
        "bool(0)\n",
        "```"
      ],
      "metadata": {
        "id": "l1mgEeerwjep"
      }
    },
    {
      "cell_type": "code",
      "source": [
        "bool(0)"
      ],
      "metadata": {
        "id": "UZby3aNmwkd7",
        "colab": {
          "base_uri": "https://localhost:8080/"
        },
        "outputId": "38238c5f-90f8-4b7c-fd3a-56fbb61361d1"
      },
      "execution_count": null,
      "outputs": [
        {
          "output_type": "execute_result",
          "data": {
            "text/plain": [
              "False"
            ]
          },
          "metadata": {},
          "execution_count": 31
        }
      ]
    },
    {
      "cell_type": "markdown",
      "source": [
        "**예제 06**\n",
        "\n",
        " 아래 결과를 예측하세요\n",
        "\n",
        "\n",
        "```\n",
        "bool(1)\n",
        "```"
      ],
      "metadata": {
        "id": "PpUlq1KWwkio"
      }
    },
    {
      "cell_type": "code",
      "source": [
        "bool(1)"
      ],
      "metadata": {
        "id": "A9rPYh0pwlca",
        "colab": {
          "base_uri": "https://localhost:8080/"
        },
        "outputId": "a749718f-ada5-4590-c833-648210a1080d"
      },
      "execution_count": null,
      "outputs": [
        {
          "output_type": "execute_result",
          "data": {
            "text/plain": [
              "True"
            ]
          },
          "metadata": {},
          "execution_count": 32
        }
      ]
    },
    {
      "cell_type": "markdown",
      "source": [
        "**예제 07**\n",
        "\n",
        "아래 결과를 예측하세요\n",
        "\n",
        "```\n",
        "bool([1])\n",
        "```"
      ],
      "metadata": {
        "id": "yxuynfU6wlgX"
      }
    },
    {
      "cell_type": "code",
      "source": [
        "bool([1])"
      ],
      "metadata": {
        "id": "hwyvS1cywmil",
        "colab": {
          "base_uri": "https://localhost:8080/"
        },
        "outputId": "f247687c-8e01-4896-c52b-1045e601294e"
      },
      "execution_count": null,
      "outputs": [
        {
          "output_type": "execute_result",
          "data": {
            "text/plain": [
              "True"
            ]
          },
          "metadata": {},
          "execution_count": 33
        }
      ]
    },
    {
      "cell_type": "markdown",
      "source": [
        "**예제 08**\n",
        "\n",
        " 아래 결과를 예측하세요\n",
        "\n",
        "```\n",
        " print(3==5)\n",
        "```\n"
      ],
      "metadata": {
        "id": "C8gQteDmwmnT"
      }
    },
    {
      "cell_type": "code",
      "source": [
        "print(3==5)"
      ],
      "metadata": {
        "id": "vTdk0nAMwobn",
        "colab": {
          "base_uri": "https://localhost:8080/"
        },
        "outputId": "4140bdab-a6de-4058-9d21-43948ad90e48"
      },
      "execution_count": null,
      "outputs": [
        {
          "output_type": "stream",
          "name": "stdout",
          "text": [
            "False\n"
          ]
        }
      ]
    },
    {
      "cell_type": "markdown",
      "source": [
        "**예제 09**\n",
        "\n",
        "아래 결과를 예측하세요\n",
        "```\n",
        " print(3<5)\n",
        "```"
      ],
      "metadata": {
        "id": "pV4o_x-LwohH"
      }
    },
    {
      "cell_type": "code",
      "source": [
        "print(3<5)"
      ],
      "metadata": {
        "id": "iEHsL_jtwp_U",
        "colab": {
          "base_uri": "https://localhost:8080/"
        },
        "outputId": "340c03ce-9638-4910-9655-7ad390fe626f"
      },
      "execution_count": null,
      "outputs": [
        {
          "output_type": "stream",
          "name": "stdout",
          "text": [
            "True\n"
          ]
        }
      ]
    },
    {
      "cell_type": "markdown",
      "source": [
        "**예제 10**\n",
        "\n",
        " 아래 결과를 예측하세요\n",
        "\n",
        "```\n",
        "x = 4\n",
        "print(1<x<5)\n",
        "```\n"
      ],
      "metadata": {
        "id": "pWIRx-BBwqHk"
      }
    },
    {
      "cell_type": "code",
      "source": [
        "x=4\n",
        "print(1<x<5)"
      ],
      "metadata": {
        "id": "Ye-UEjJpwrLb",
        "colab": {
          "base_uri": "https://localhost:8080/"
        },
        "outputId": "5cdf9452-19c4-4018-831e-a837be742dd0"
      },
      "execution_count": null,
      "outputs": [
        {
          "output_type": "stream",
          "name": "stdout",
          "text": [
            "True\n"
          ]
        }
      ]
    },
    {
      "cell_type": "markdown",
      "source": [
        "\n",
        "**예제 11**\n",
        "\n",
        "아래 결과를 예측하세요\n",
        "\n",
        "```\n",
        "print ((3 == 3) and (4 != 3))\n",
        "```"
      ],
      "metadata": {
        "id": "Q12O-j1bwrfQ"
      }
    },
    {
      "cell_type": "code",
      "source": [
        "print((3==3) and (4!=3))\n",
        "       #ture      #true"
      ],
      "metadata": {
        "id": "CtRh6aFXwsdd",
        "colab": {
          "base_uri": "https://localhost:8080/"
        },
        "outputId": "7e9b6eff-3698-43ef-8d32-e51d388531e2"
      },
      "execution_count": null,
      "outputs": [
        {
          "output_type": "stream",
          "name": "stdout",
          "text": [
            "True\n"
          ]
        }
      ]
    },
    {
      "cell_type": "markdown",
      "source": [
        "\n",
        "**예제 12**\n",
        "\n",
        "아래 결과를 예측하세요\n",
        "\n",
        "```\n",
        "'a' in 'abc'\n",
        "```\n"
      ],
      "metadata": {
        "id": "rUiji_6nwshi"
      }
    },
    {
      "cell_type": "code",
      "source": [
        "'a' in 'abc'"
      ],
      "metadata": {
        "id": "ZxDpZkC_wtj7",
        "colab": {
          "base_uri": "https://localhost:8080/"
        },
        "outputId": "4bc7f4b5-4231-4cd4-f374-8ad2b0c51813"
      },
      "execution_count": null,
      "outputs": [
        {
          "output_type": "execute_result",
          "data": {
            "text/plain": [
              "True"
            ]
          },
          "metadata": {},
          "execution_count": 38
        }
      ]
    },
    {
      "cell_type": "markdown",
      "source": [
        "**예제 13**\n",
        "\n",
        "\n",
        "아래 결과를 예측하세요\n",
        "\n",
        "```\n",
        "'a' in ['d','b','c']\n",
        "```\n"
      ],
      "metadata": {
        "id": "lJ_bWq0Fwtow"
      }
    },
    {
      "cell_type": "code",
      "source": [
        "'a' in ['d','b','c']"
      ],
      "metadata": {
        "id": "E0whSkKFwvF9",
        "colab": {
          "base_uri": "https://localhost:8080/"
        },
        "outputId": "8bd75f82-9f34-44d0-a2c3-014525cbc94c"
      },
      "execution_count": null,
      "outputs": [
        {
          "output_type": "execute_result",
          "data": {
            "text/plain": [
              "False"
            ]
          },
          "metadata": {},
          "execution_count": 39
        }
      ]
    },
    {
      "cell_type": "markdown",
      "source": [
        "**예제 14**\n",
        "\n",
        "\n",
        "아래 결과를 예측하세요\n",
        "\n",
        "```\n",
        "'a' not in ['a','b','c']\n",
        "```"
      ],
      "metadata": {
        "id": "fyRztNmYwvKN"
      }
    },
    {
      "cell_type": "code",
      "source": [
        "'a' not in ['a','b','c']"
      ],
      "metadata": {
        "id": "6-1cfkVxwwSl",
        "colab": {
          "base_uri": "https://localhost:8080/"
        },
        "outputId": "c571a929-7b59-46e8-b70b-a64e9afc613f"
      },
      "execution_count": null,
      "outputs": [
        {
          "output_type": "execute_result",
          "data": {
            "text/plain": [
              "False"
            ]
          },
          "metadata": {},
          "execution_count": 40
        }
      ]
    },
    {
      "cell_type": "markdown",
      "source": [
        "**예제 15**\n",
        "\n",
        "아래 결과를 예측하세요\n",
        "\n",
        "```\n",
        "'a' not in 'abc'\n",
        "```"
      ],
      "metadata": {
        "id": "Lwx6We67wwYz"
      }
    },
    {
      "cell_type": "code",
      "source": [
        "'a' not in 'abc'"
      ],
      "metadata": {
        "id": "tprm6Yrdwy1p",
        "colab": {
          "base_uri": "https://localhost:8080/"
        },
        "outputId": "cd23ca40-45fe-4e56-e11f-7e9ba12e856b"
      },
      "execution_count": null,
      "outputs": [
        {
          "output_type": "execute_result",
          "data": {
            "text/plain": [
              "False"
            ]
          },
          "metadata": {},
          "execution_count": 41
        }
      ]
    },
    {
      "cell_type": "markdown",
      "source": [
        "**예제 16**\n",
        "\n",
        "아래 결과가 나오도록 코드를 작성하세요\n",
        "\n",
        "\n",
        "```\n",
        ">> a = #코드를작성하세요\n",
        ">> b = #코드를작성하세요\n",
        ">> a and b\n",
        "True\n",
        "```"
      ],
      "metadata": {
        "id": "M7tF0Uzdwy6W"
      }
    },
    {
      "cell_type": "code",
      "source": [
        "a=3<4\n",
        "b=5<7\n",
        "a and b"
      ],
      "metadata": {
        "id": "gltL5ievw0G9",
        "colab": {
          "base_uri": "https://localhost:8080/"
        },
        "outputId": "1bdbc8af-348c-4ea0-b1be-2061c37e66bd"
      },
      "execution_count": null,
      "outputs": [
        {
          "output_type": "execute_result",
          "data": {
            "text/plain": [
              "True"
            ]
          },
          "metadata": {},
          "execution_count": 42
        }
      ]
    },
    {
      "cell_type": "markdown",
      "source": [
        "\n",
        "**예제 17**\n",
        "\n",
        "아래 결과가 나오도록 코드를 작성하세요\n",
        "\n",
        "\n",
        "```\n",
        ">> a = #코드를작성하세요\n",
        ">> b = #코드를작성하세요\n",
        ">> a or b\n",
        "False\n",
        "```"
      ],
      "metadata": {
        "id": "hK8VBKPdw0Ml"
      }
    },
    {
      "cell_type": "code",
      "source": [
        "a= 1==2\n",
        "b= 3==4\n",
        "a or b"
      ],
      "metadata": {
        "colab": {
          "base_uri": "https://localhost:8080/"
        },
        "id": "TlPIU4C0zVxm",
        "outputId": "1315b82c-46cf-4d7e-883e-d6bf1766480d"
      },
      "execution_count": null,
      "outputs": [
        {
          "output_type": "execute_result",
          "data": {
            "text/plain": [
              "False"
            ]
          },
          "metadata": {},
          "execution_count": 44
        }
      ]
    },
    {
      "cell_type": "code",
      "source": [
        ""
      ],
      "metadata": {
        "id": "uGeaGOPew1Nw"
      },
      "execution_count": null,
      "outputs": []
    }
  ]
}