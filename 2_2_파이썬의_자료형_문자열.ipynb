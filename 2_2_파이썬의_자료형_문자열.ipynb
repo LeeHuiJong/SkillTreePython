{
  "nbformat": 4,
  "nbformat_minor": 0,
  "metadata": {
    "colab": {
      "name": "2-2.파이썬의 자료형_문자열.ipynb",
      "provenance": [],
      "collapsed_sections": [],
      "toc_visible": true,
      "include_colab_link": true
    },
    "kernelspec": {
      "name": "python3",
      "display_name": "Python 3"
    },
    "language_info": {
      "name": "python"
    }
  },
  "cells": [
    {
      "cell_type": "markdown",
      "metadata": {
        "id": "view-in-github",
        "colab_type": "text"
      },
      "source": [
        "<a href=\"https://colab.research.google.com/github/LeeHuiJong/SkillTreePython/blob/main/2_2_%ED%8C%8C%EC%9D%B4%EC%8D%AC%EC%9D%98_%EC%9E%90%EB%A3%8C%ED%98%95_%EB%AC%B8%EC%9E%90%EC%97%B4.ipynb\" target=\"_parent\"><img src=\"https://colab.research.google.com/assets/colab-badge.svg\" alt=\"Open In Colab\"/></a>"
      ]
    },
    {
      "cell_type": "markdown",
      "source": [
        "# 2-2.파이썬의 자료형:문자열\n",
        "---\n",
        "* 날짜:\n",
        "* 이름:"
      ],
      "metadata": {
        "id": "kB5IciXEm6o4"
      }
    },
    {
      "cell_type": "markdown",
      "source": [
        "## 개념정리\n",
        "---\n",
        "\n",
        "이번 시간에 다룰 자료형은 문자열 (String) 자료형 입니다. 문자열 도한 숫자와 마찬가지로 기본적인 데이터 타입이며 광범위하게 사용됩니다. 문자열 문자들의 집합으로 이루어져 있습니다."
      ],
      "metadata": {
        "id": "4iN8NFzHRJ2D"
      }
    },
    {
      "cell_type": "markdown",
      "source": [
        "### (1) 문자열 생성하기\n",
        "\n",
        "\n",
        "* 작은따음표 `'` \n",
        "\n",
        "```\n",
        "a = 'hello'\n",
        "print(a), type(a)\n",
        "```\n",
        "\n",
        "\n",
        "\n",
        "\n",
        "\n"
      ],
      "metadata": {
        "id": "UKlkHH0IRL5h"
      }
    },
    {
      "cell_type": "code",
      "source": [
        "a='hello'\n",
        "a,type(a)"
      ],
      "metadata": {
        "id": "DwxmxrH90x6c",
        "colab": {
          "base_uri": "https://localhost:8080/"
        },
        "outputId": "65028ce0-6a56-46d9-88b0-c3c60ec0abba"
      },
      "execution_count": 3,
      "outputs": [
        {
          "output_type": "execute_result",
          "data": {
            "text/plain": [
              "('hello', str)"
            ]
          },
          "metadata": {},
          "execution_count": 3
        }
      ]
    },
    {
      "cell_type": "markdown",
      "source": [
        "* 큰따음표 `\"`\n",
        "\n",
        "```\n",
        "a = \"hello\"\n",
        "print(a), type(a)\n",
        "```\n"
      ],
      "metadata": {
        "id": "ftvQ5Pfk0yBf"
      }
    },
    {
      "cell_type": "code",
      "source": [
        "a=\"hello\"\n",
        "a, type(a)"
      ],
      "metadata": {
        "id": "phUxr9LP0y7Q",
        "colab": {
          "base_uri": "https://localhost:8080/"
        },
        "outputId": "3ec5db10-ff15-4c25-9bbf-603566a32e97"
      },
      "execution_count": 2,
      "outputs": [
        {
          "output_type": "execute_result",
          "data": {
            "text/plain": [
              "('hello', str)"
            ]
          },
          "metadata": {},
          "execution_count": 2
        }
      ]
    },
    {
      "cell_type": "markdown",
      "source": [
        "\n",
        "* 작은따음표 세개 `'''`\n",
        "\n",
        "```\n",
        "a = '''hello'''\n",
        "print(a), type(a)\n",
        "```\n",
        "\n"
      ],
      "metadata": {
        "id": "RMpem26n0zBR"
      }
    },
    {
      "cell_type": "code",
      "source": [
        "a='''hello'''\n",
        "a, type(a)"
      ],
      "metadata": {
        "id": "oLRaHKFD0zsX",
        "colab": {
          "base_uri": "https://localhost:8080/"
        },
        "outputId": "2c11f9ea-78e4-4ec0-c47c-cf2604e499b6"
      },
      "execution_count": 4,
      "outputs": [
        {
          "output_type": "execute_result",
          "data": {
            "text/plain": [
              "('hello', str)"
            ]
          },
          "metadata": {},
          "execution_count": 4
        }
      ]
    },
    {
      "cell_type": "markdown",
      "source": [
        "* 큰따음표 세개 `\"\"\"`\n",
        "\n",
        "```\n",
        "a = \"\"\"hello\"\"\"\n",
        "print(a), type(a)\n",
        "```\n"
      ],
      "metadata": {
        "id": "TZkDN8560z1N"
      }
    },
    {
      "cell_type": "code",
      "source": [
        "a=\"\"\"hello\"\"\"\n",
        "a, type(a)"
      ],
      "metadata": {
        "id": "vQMs78BT00c-",
        "colab": {
          "base_uri": "https://localhost:8080/"
        },
        "outputId": "7655ed3f-28ad-4e55-ccd2-e09ee7e34cb9"
      },
      "execution_count": 5,
      "outputs": [
        {
          "output_type": "execute_result",
          "data": {
            "text/plain": [
              "('hello', str)"
            ]
          },
          "metadata": {},
          "execution_count": 5
        }
      ]
    },
    {
      "cell_type": "markdown",
      "source": [
        "#### **작은따음표나 큰따음표가 포함된 문자열**\n",
        "\n",
        "위에서 우리는 작은따음표나 큰따음표를 이용해서 문자열을 생성하였습니다. 그런데 언제 작은따음표를 쓰고, 큰따음표를 써야할까요? 대부분의 경우 사용자의 편의에 맞춰서 사용하시면 되지만 특정 상황에 따라 적절히 선택해서 문자열을 생성해야 합니다. \n",
        "\n",
        "* 작은따음표 포함시키기\n",
        "\n",
        "```\n",
        "a = \"It's nice day!\"\n",
        "print(a)\n",
        "```"
      ],
      "metadata": {
        "id": "-6nvbRvd02kK"
      }
    },
    {
      "cell_type": "code",
      "source": [
        "a=\"It's nice day!\"\n",
        "a"
      ],
      "metadata": {
        "id": "7AfuxTvH4tdg",
        "colab": {
          "base_uri": "https://localhost:8080/",
          "height": 35
        },
        "outputId": "2d98ae03-0d64-4e5d-a559-b610beccdc76"
      },
      "execution_count": 9,
      "outputs": [
        {
          "output_type": "execute_result",
          "data": {
            "text/plain": [
              "\"It's nice day!\""
            ],
            "application/vnd.google.colaboratory.intrinsic+json": {
              "type": "string"
            }
          },
          "metadata": {},
          "execution_count": 9
        }
      ]
    },
    {
      "cell_type": "markdown",
      "source": [
        "* 큰따음표 포함시키기\n",
        "\n",
        "```\n",
        "a = 'he said, \"nice day!\"'\n",
        "print(a)\n",
        "```"
      ],
      "metadata": {
        "id": "MHzcVeyz5IzP"
      }
    },
    {
      "cell_type": "code",
      "source": [
        "a='he said, \"nice day!\"'\n",
        "print(a)"
      ],
      "metadata": {
        "id": "GZR3Ujq95QRk",
        "colab": {
          "base_uri": "https://localhost:8080/"
        },
        "outputId": "10bcaac5-0bdf-4167-87b1-738a37af65e3"
      },
      "execution_count": 13,
      "outputs": [
        {
          "output_type": "stream",
          "name": "stdout",
          "text": [
            "he said, \"nice day!\"\n"
          ]
        }
      ]
    },
    {
      "cell_type": "markdown",
      "source": [
        "#### **연속된 따옴표의 사용**\n",
        "\n",
        "연속된 따옴표는 표현의 자유도가 높습니다. 우선 여러줄의 문자열을 생성할 수 있습니다. \n",
        "\n",
        "* 작음 따옴표 / 큰 따옴표\n",
        "\n",
        "따옴표 한개를 사용할 때 줄 바꿈을 적용하면 에러 메시지가 뜹니다.\n",
        "\n",
        "```\n",
        "a = 'nice\n",
        "day !'\n",
        "```\n",
        "\n"
      ],
      "metadata": {
        "id": "opbfNksrAq4P"
      }
    },
    {
      "cell_type": "code",
      "source": [
        "a='nice\n",
        "day !'"
      ],
      "metadata": {
        "id": "8wPrBcJS5i5x",
        "colab": {
          "base_uri": "https://localhost:8080/",
          "height": 137
        },
        "outputId": "284c6119-0492-4aed-f0ab-a264ad5d64b5"
      },
      "execution_count": 14,
      "outputs": [
        {
          "output_type": "error",
          "ename": "SyntaxError",
          "evalue": "ignored",
          "traceback": [
            "\u001b[0;36m  File \u001b[0;32m\"<ipython-input-14-a6f734fd89e6>\"\u001b[0;36m, line \u001b[0;32m1\u001b[0m\n\u001b[0;31m    a='nice\u001b[0m\n\u001b[0m           ^\u001b[0m\n\u001b[0;31mSyntaxError\u001b[0m\u001b[0;31m:\u001b[0m EOL while scanning string literal\n"
          ]
        }
      ]
    },
    {
      "cell_type": "markdown",
      "source": [
        "* 작음 따옴표 / 큰 따옴표 세개\n",
        "\n",
        "따음표 세개를 쓰면 줄 바꿈이 가능합니다.\n",
        "\n",
        "```\n",
        "a = '''\n",
        "nice\n",
        "day !\n",
        "'''\n",
        "```\n"
      ],
      "metadata": {
        "id": "cWLVpy9R5oEq"
      }
    },
    {
      "cell_type": "code",
      "source": [
        "a='''\n",
        "nice\n",
        "day!\n",
        "'''\n",
        "print(a)"
      ],
      "metadata": {
        "id": "ovhFYYpI5sd_",
        "colab": {
          "base_uri": "https://localhost:8080/"
        },
        "outputId": "4c6d8104-df90-4fe6-e8dd-70649fb3c51f"
      },
      "execution_count": 16,
      "outputs": [
        {
          "output_type": "stream",
          "name": "stdout",
          "text": [
            "\n",
            "nice\n",
            "day!\n",
            "\n"
          ]
        }
      ]
    },
    {
      "cell_type": "markdown",
      "source": [
        "또한 문자열 안에 큰따음표나 작은따옴표를 자유롭게 포함할 수 있습니다. ★\n",
        "\n",
        "```\n",
        "a = '''\n",
        "It's\n",
        "nice\n",
        "day !\n",
        "'''\n",
        "```"
      ],
      "metadata": {
        "id": "II4NczMb5yYl"
      }
    },
    {
      "cell_type": "code",
      "source": [
        "a='''\n",
        "it's\n",
        "nice\n",
        "day !\n",
        "'''\n",
        "print(a)"
      ],
      "metadata": {
        "id": "cApA3Fwn5tbJ",
        "colab": {
          "base_uri": "https://localhost:8080/"
        },
        "outputId": "94e2286c-445f-4cc0-ea59-6389487a393f"
      },
      "execution_count": 18,
      "outputs": [
        {
          "output_type": "stream",
          "name": "stdout",
          "text": [
            "\n",
            "it's\n",
            "nice\n",
            "day !\n",
            "\n"
          ]
        }
      ]
    },
    {
      "cell_type": "markdown",
      "source": [
        "### (2) 이스케이프 코드\n",
        "\n",
        "이스케이프 코드는 프로그래밍할 때 사용할 수 있도록 미리 만들어 둔 문자조합 입니다. 출력물을 보기 좋게 정렬하는 용도로 사용되며 주로 사용되는 이스케이프 코드를 정리하면 아래와 같습니다. \n",
        "\n",
        "* `\\n` : 문자열 내에서 줄을 바꿉니다.\n",
        "\n",
        "```\n",
        "a = 'nice\\nday!'\n",
        "print(a)\n",
        "```\n"
      ],
      "metadata": {
        "id": "8qoGgPDT55BR"
      }
    },
    {
      "cell_type": "code",
      "source": [
        "a='nice\\nday'\n",
        "print(a)"
      ],
      "metadata": {
        "id": "4n7IDBuq5-hv",
        "colab": {
          "base_uri": "https://localhost:8080/"
        },
        "outputId": "1f4d9495-a197-4dcf-c46b-ccbebbebb762"
      },
      "execution_count": 20,
      "outputs": [
        {
          "output_type": "stream",
          "name": "stdout",
          "text": [
            "nice\n",
            "day\n"
          ]
        }
      ]
    },
    {
      "cell_type": "markdown",
      "source": [
        "* `\\t` : 문자열 내에서 탭 간격만큼 띄어쓰기 합니다.\n",
        "\n",
        "```\n",
        "a = 'nice\\tday!'\n",
        "print(a)\n",
        "```"
      ],
      "metadata": {
        "id": "LcAJr9hK6Api"
      }
    },
    {
      "cell_type": "code",
      "source": [
        "a='nice\\tday!'\n",
        "print(a)"
      ],
      "metadata": {
        "id": "esQ1Vclb6EPw",
        "colab": {
          "base_uri": "https://localhost:8080/"
        },
        "outputId": "c7e66cfc-070f-4a12-98f4-6c210d012f48"
      },
      "execution_count": 22,
      "outputs": [
        {
          "output_type": "stream",
          "name": "stdout",
          "text": [
            "nice\tday!\n"
          ]
        }
      ]
    },
    {
      "cell_type": "markdown",
      "source": [
        "* `\\\\` : 문자열 내에서 `\\` 를 문자 그대로 표시합니다.\n",
        "\n",
        "```\n",
        "a = 'nice\\\\day!'\n",
        "print(a)\n",
        "```"
      ],
      "metadata": {
        "id": "WUaMrp516Gpt"
      }
    },
    {
      "cell_type": "code",
      "source": [
        "a='nice\\\\day!'\n",
        "print(a)"
      ],
      "metadata": {
        "id": "-dIGYh-k6FDJ",
        "colab": {
          "base_uri": "https://localhost:8080/"
        },
        "outputId": "06bdfa23-46d6-4ec7-c9f6-a6717890ad9e"
      },
      "execution_count": 23,
      "outputs": [
        {
          "output_type": "stream",
          "name": "stdout",
          "text": [
            "nice\\day!\n"
          ]
        }
      ]
    },
    {
      "cell_type": "markdown",
      "source": [
        "* `\\'` : 문자열 내에서 작은 따음표 `'` 를 문자 그대로 표시합니다.\n",
        "\n",
        "```\n",
        "a = 'nice\\'day!'\n",
        "print(a)\n",
        "```"
      ],
      "metadata": {
        "id": "4xbxgNT06Pz6"
      }
    },
    {
      "cell_type": "code",
      "source": [
        "a='nice\\'day!'\n",
        "print(a)"
      ],
      "metadata": {
        "id": "89Fv1jo_6Pz7",
        "colab": {
          "base_uri": "https://localhost:8080/"
        },
        "outputId": "16a74d12-a103-4500-d58a-802683e9874b"
      },
      "execution_count": 24,
      "outputs": [
        {
          "output_type": "stream",
          "name": "stdout",
          "text": [
            "nice'day!\n"
          ]
        }
      ]
    },
    {
      "cell_type": "markdown",
      "source": [
        "* `\\\"` : 문자열 내에서 큰따음표 `\"` 를 문자 그대로 표시합니다.\n",
        "\n",
        "```\n",
        "a = 'nice\\\"day!'\n",
        "print(a)\n",
        "```"
      ],
      "metadata": {
        "id": "QSzXTGff7uw4"
      }
    },
    {
      "cell_type": "code",
      "source": [
        "'nice\\\".day!'\n",
        "print(a)"
      ],
      "metadata": {
        "id": "R40_NPU47uw-",
        "colab": {
          "base_uri": "https://localhost:8080/"
        },
        "outputId": "17704a6d-d9a0-42a0-d162-1f1a278db078"
      },
      "execution_count": 25,
      "outputs": [
        {
          "output_type": "stream",
          "name": "stdout",
          "text": [
            "nice'day!\n"
          ]
        }
      ]
    },
    {
      "cell_type": "markdown",
      "source": [
        "### (3) 문자열 포매팅(Formatting)\n",
        "\n",
        "문자열 안에 변수가 포함된 경우를 생각해 보겠습니다. \n",
        "\n",
        "```\n",
        "It's nice day!\n",
        "It's good day!\n",
        "It's happy day!\n",
        "```\n",
        "\n",
        "위 문장들의 공통 값은 `It's --- day` 이고 변하는 값들은 `nice`, `good`, `happy` 가 됩니다. \n",
        "\n",
        "이 때 변하는 값들을 문장 내에서 처리해 주는 것이 포매팅 입니다. 아직까진 어떤 의미인지 잘 이해가 안갈 수 있습니다. 여러가지 방법들을 하나씩 따라하면서 감을 잡아 봅시다.\n",
        "\n"
      ],
      "metadata": {
        "id": "yKAeHMtt74ad"
      }
    },
    {
      "cell_type": "markdown",
      "source": [
        "####  **`%`  이용하기**\n",
        "\n",
        "변수는 `a` 이고 전체 문장은 `s`입니다. 문장내에 변수를 `%s`로 두고 문장 끝에 %s에 들어갈 것이 `a`임을 표시해 줍니다.\n",
        "\n",
        "```\n",
        "a = 'nice'\n",
        "s = \"It's %s day!\"%(a)\n",
        "print(s)\n",
        "```\n",
        "\n"
      ],
      "metadata": {
        "id": "QgMmtjem_VIT"
      }
    },
    {
      "cell_type": "code",
      "source": [
        "a='nice'\n",
        "s=\"it's %s day!\"%(a)\n",
        "print(s)"
      ],
      "metadata": {
        "id": "LOPlbk426N__",
        "colab": {
          "base_uri": "https://localhost:8080/"
        },
        "outputId": "7a287592-3195-46df-cd29-f5876bc781df"
      },
      "execution_count": 27,
      "outputs": [
        {
          "output_type": "stream",
          "name": "stdout",
          "text": [
            "it's nice day!\n"
          ]
        }
      ]
    },
    {
      "cell_type": "markdown",
      "source": [
        "변수 `b`와 `c`를 추가하고 각각 `good`, `happy`로 바인딩 합시다. 문자 끝에 무엇을 넣어줄지 정해 다양한 변수를 지정할 수 있습니다. \n",
        "\n",
        "```\n",
        "a = 'nice'\n",
        "b = 'good'\n",
        "c = 'happy'\n",
        "s = \"It's %s day!\"%(b)\n",
        "print(s)\n",
        "```"
      ],
      "metadata": {
        "id": "7kep77Ls__Q2"
      }
    },
    {
      "cell_type": "code",
      "source": [
        "a='nice'\n",
        "b='good'\n",
        "c='happy'\n",
        "s=\"it's %s day!\"%(b)\n",
        "print(s)"
      ],
      "metadata": {
        "id": "9edAonWp_6SH",
        "colab": {
          "base_uri": "https://localhost:8080/"
        },
        "outputId": "2cdc955c-3170-4f71-b67c-7ea8d7cce7ca"
      },
      "execution_count": 29,
      "outputs": [
        {
          "output_type": "stream",
          "name": "stdout",
          "text": [
            "it's good day!\n"
          ]
        }
      ]
    },
    {
      "cell_type": "markdown",
      "source": [
        "두개 이상의 변수도 다룰 수 있습니다. \n",
        "\n",
        "```\n",
        "a = 'nice'\n",
        "b = 'good'\n",
        "c = 'happy'\n",
        "s = \"It's %s, %s, and %s day!\"%(a, b, c)\n",
        "print(s)\n",
        "```"
      ],
      "metadata": {
        "id": "CaR1T3S7Aaw3"
      }
    },
    {
      "cell_type": "code",
      "source": [
        "a='nice'\n",
        "b='good'\n",
        "c='happy'\n",
        "s=\"it's %s,%s, and %s day!\"%(a,b,c)\n",
        "print(s)"
      ],
      "metadata": {
        "id": "2hH45AgVAV03",
        "colab": {
          "base_uri": "https://localhost:8080/"
        },
        "outputId": "203302b0-26d3-4e73-e760-d67ae7e2a317"
      },
      "execution_count": 30,
      "outputs": [
        {
          "output_type": "stream",
          "name": "stdout",
          "text": [
            "it's nice,good, and happy day!\n"
          ]
        }
      ]
    },
    {
      "cell_type": "markdown",
      "source": [
        "이 때 문장 내에 `%s`로 변수를 지칭하는 것을 볼 수 있습니다. `s`가 뜻하는 것은 `string`입니다. 즉, 우리가 변수로 사용할 `a`, `b`, `c`가 문자열(string) 이기 때문에 `%s`로 문장 내에 변수를 표시합니다. \n",
        "\n",
        "그렇다면 문자열이 아닌 정수일 때는 어떻게 표시할까요? 이 때는 `%d`로 표시합니다.\n",
        "\n",
        "★%s 만 사용해도 무관\n",
        "\n",
        "\n",
        "\n",
        "```\n",
        "a = 2\n",
        "s = '%d apples.'%(a)\n",
        "print(s)\n",
        "```\n",
        "\n"
      ],
      "metadata": {
        "id": "XXcIbOqRApxi"
      }
    },
    {
      "cell_type": "code",
      "source": [
        "a=2\n",
        "s='%s appeles.'%(a)\n",
        "print(s)"
      ],
      "metadata": {
        "id": "cF5rP4FBAjpa",
        "colab": {
          "base_uri": "https://localhost:8080/"
        },
        "outputId": "3164168d-38ab-48fd-8b71-50b887e20058"
      },
      "execution_count": 32,
      "outputs": [
        {
          "output_type": "stream",
          "name": "stdout",
          "text": [
            "2 appeles.\n"
          ]
        }
      ]
    },
    {
      "cell_type": "markdown",
      "source": [
        "이 밖에 `a`의 자료형에 따라 적절한 코드를 사용합니다. \n",
        "\n",
        "| 코드 | 설명 |\n",
        "| --|-- |\n",
        "|%s|\t문자열(String)|\n",
        "|%c|\t문자 1개(character)|\n",
        "|%d|\t정수(Integer)|\n",
        "|%f\t|부동소수(floating-point)|\n",
        "|%o\t|8진수|\n",
        "|%x\t|16진수|\n",
        "|%%\t|Literal % (문자 % 자체)|\n",
        "\n",
        "이제 문자열 포매팅에 대한 기본적인 이해는 되었습니다. 더 많은 포매팅 방법을 알아보고 본인에게 가장 편리한 방법을 사용해 보도록 합시다."
      ],
      "metadata": {
        "id": "2dSPARaCBPIf"
      }
    },
    {
      "cell_type": "markdown",
      "source": [
        "#### **`.format()` 이용하기**\n",
        "\n",
        "\n",
        "이 방식에서 문자열 안의 변수는 `{}` 로 표현됩니다. 그리고 어떤 변수가 오는 지는 `.format()`을 이용합니다. 이 방식은 이전과 달리 변수의 타입에 관계없이 항상 `{}` 기호를 써서 나타냅니다. \n",
        "\n",
        "\n",
        "```\n",
        "a = 'nice'\n",
        "s = \"It's {} day!\".format(a)\n",
        "print(s)\n",
        "```\n"
      ],
      "metadata": {
        "id": "WbPuzriMBSsB"
      }
    },
    {
      "cell_type": "code",
      "source": [
        "a='nice'\n",
        "s=\"it's {} day!\".format(a)\n",
        "print(s)"
      ],
      "metadata": {
        "id": "lU2dMDiNEFac",
        "colab": {
          "base_uri": "https://localhost:8080/"
        },
        "outputId": "737d1543-fcb9-47e9-8c00-1187b4e8923e"
      },
      "execution_count": 33,
      "outputs": [
        {
          "output_type": "stream",
          "name": "stdout",
          "text": [
            "it's nice day!\n"
          ]
        }
      ]
    },
    {
      "cell_type": "markdown",
      "source": [
        "* 여러개의 변수\n",
        "\n",
        "```\n",
        "a = 3\n",
        "b = 'apples'\n",
        "s = 'there are {} {}'.format(a, b)\n",
        "print(s)\n",
        "```\n"
      ],
      "metadata": {
        "id": "CiYaXRPVBSt-"
      }
    },
    {
      "cell_type": "code",
      "source": [
        "a=3\n",
        "b='apples'\n",
        "s='there are {} {}'.format(a,b)\n",
        "print(s)"
      ],
      "metadata": {
        "id": "8PiiujY3BK13",
        "colab": {
          "base_uri": "https://localhost:8080/"
        },
        "outputId": "d3b09cd6-b6de-4f72-b5c1-9981d006ef1a"
      },
      "execution_count": 35,
      "outputs": [
        {
          "output_type": "stream",
          "name": "stdout",
          "text": [
            "there are 3 apples\n"
          ]
        }
      ]
    },
    {
      "cell_type": "markdown",
      "source": [
        "* 괄호 인덱싱 : 변수를 나타내는 괄호 `{}` 안에 번호로 인덱싱을 할 수 있습니다.\n",
        "\n",
        "d% 이거도 번호 인덱싱 가능?\n",
        "\n",
        "\n",
        "```\n",
        "a = '3'\n",
        "b = 'apples'\n",
        "c = 'oranges'\n",
        "s = 'there are {0} {1} and {0} {2}'.format(a, b, c)\n",
        "print(s)\n",
        "``` \n",
        "이 때 `{0}`, `{1}`, `{2}` 는 차례대로 `a`, `b`, `c` 가 됩니다.\n"
      ],
      "metadata": {
        "id": "jnIYWLtfEcX0"
      }
    },
    {
      "cell_type": "code",
      "source": [
        "a='3'\n",
        "b='apples'\n",
        "c='oranges'\n",
        "s='threre are {0} {1} and {0} {2}'.format(a,b,c)\n",
        "print(s)"
      ],
      "metadata": {
        "id": "jVLUKFNmEX--",
        "colab": {
          "base_uri": "https://localhost:8080/"
        },
        "outputId": "40e5a67c-3a26-4c63-dfd3-8024d40aa2c6"
      },
      "execution_count": 36,
      "outputs": [
        {
          "output_type": "stream",
          "name": "stdout",
          "text": [
            "threre are 3 apples and 3 oranges\n"
          ]
        }
      ]
    },
    {
      "cell_type": "markdown",
      "source": [
        "* 괄호 태그 : 변수를 나타내는 괄호 `{}` 안에 태그로 인덱싱을 할 수 있습니다.\n",
        "\n",
        "```\n",
        "a = '3'\n",
        "b = 'apples'\n",
        "c = 'oranges'\n",
        "s = 'there are {num} {fruit1} and {num} {fruit2}'.format(num=a, fruit1=b, fruit2=c)\n",
        "print(s)\n",
        "``` \n"
      ],
      "metadata": {
        "id": "9kXyc4KFEwhD"
      }
    },
    {
      "cell_type": "code",
      "source": [
        "a = '3'\n",
        "b = 'apples'\n",
        "c = 'oranges'\n",
        "s='there are {num} {fruit} and {fruit2}'.format(num=a,fruit=b,fruit2=c)\n",
        "print(s)"
      ],
      "metadata": {
        "id": "7t4bGJuvEnRx",
        "colab": {
          "base_uri": "https://localhost:8080/"
        },
        "outputId": "c1e813ce-ce5f-4253-ac87-5f4005ba7d43"
      },
      "execution_count": 39,
      "outputs": [
        {
          "output_type": "stream",
          "name": "stdout",
          "text": [
            "there are 3 apples and oranges\n"
          ]
        }
      ]
    },
    {
      "cell_type": "markdown",
      "source": [
        "#### **f-string 문법**\n",
        "\n",
        "\n",
        "Python 3.6 이상의 버전부터 f-string 문법을 사용할 수 있게 되었습니다. 문자열 앞에 접두사 `f`를 붙이고 문장내에 변수를 중괄호 `{}`로 처리합니다. 그리고 어떤 변수가 들어갈지를 중괄호 `{}` 안에 바로 작성해줍니다. ★\n",
        "\n",
        " \n",
        "\n",
        "```\n",
        "a = '3'\n",
        "b = 'apples'\n",
        "c = 'oranges'\n",
        "s = f'there are {a} {b} and {a} {c}'\n",
        "print(s)\n",
        "```\n"
      ],
      "metadata": {
        "id": "bYUxh00NFHWZ"
      }
    },
    {
      "cell_type": "code",
      "source": [
        "a='3'\n",
        "b='apples'\n",
        "c='oranges'\n",
        "s=f'there are {a} {b} and {a} {c}'\n",
        "print(s)"
      ],
      "metadata": {
        "id": "N1XFYDRfFHWZ",
        "colab": {
          "base_uri": "https://localhost:8080/"
        },
        "outputId": "8fe7a60d-6efb-4887-c985-684b5bf46464"
      },
      "execution_count": 40,
      "outputs": [
        {
          "output_type": "stream",
          "name": "stdout",
          "text": [
            "there are 3 apples and 3 oranges\n"
          ]
        }
      ]
    },
    {
      "cell_type": "markdown",
      "source": [
        "### (4) 인덱싱과 슬라이싱\n",
        "\n",
        "\n"
      ],
      "metadata": {
        "id": "OW5u5aPEIGIP"
      }
    },
    {
      "cell_type": "markdown",
      "source": [
        "#### **인덱싱 (indexing)**\n",
        "\n",
        "문자열의 인덱싱(indexing) 이란 주어진 문자열의 특정 값의 위치를 가리키는 것입니다. 파이썬은 `0`부터 시작함을 유의하세요. 아래 그림과 같이 첫번째 문자는 `0`번째 index를 가지고 순차적으로 증가합니다. \n",
        "\n",
        "![](https://github.com/yebiny/SkillTreePython/blob/main/imgs/2-2-1.PNG?raw=true)\n",
        "\n",
        "* 양수 인덱스 : 양수 값에 위치한 문자를 인덱싱합니다.\n",
        "\n",
        "```\n",
        "a = 'nice day!'\n",
        "print(a[5])\n",
        "```"
      ],
      "metadata": {
        "id": "CiCymDWPIJyd"
      }
    },
    {
      "cell_type": "code",
      "source": [
        "a='nice day!'\n",
        "print(a[5])"
      ],
      "metadata": {
        "id": "3zLNBfeRFATW",
        "colab": {
          "base_uri": "https://localhost:8080/"
        },
        "outputId": "66ab2fd0-7e2b-4abe-8b91-80ac38bf876a"
      },
      "execution_count": 42,
      "outputs": [
        {
          "output_type": "stream",
          "name": "stdout",
          "text": [
            "d\n"
          ]
        }
      ]
    },
    {
      "cell_type": "markdown",
      "source": [
        "* 음수 인덱스 : 마지막 문자는 -1 이고 마지막에서 두번째는 -2 가 됩니다. \n",
        "\n",
        "```\n",
        "a = 'nice day!'\n",
        "print(a[-1])\n",
        "print(a[-4])\n",
        "```"
      ],
      "metadata": {
        "id": "vOiUFzc3IQOj"
      }
    },
    {
      "cell_type": "code",
      "source": [
        "a='nice day!'\n",
        "print(a[-1])\n",
        "print(a[-4])"
      ],
      "metadata": {
        "id": "GoQLluZSIOpI",
        "colab": {
          "base_uri": "https://localhost:8080/"
        },
        "outputId": "9ac57a34-45aa-4cc2-a795-852140e630a1"
      },
      "execution_count": 43,
      "outputs": [
        {
          "output_type": "stream",
          "name": "stdout",
          "text": [
            "!\n",
            "d\n"
          ]
        }
      ]
    },
    {
      "cell_type": "markdown",
      "source": [
        "#### **슬라이싱 (Slicing)**\n",
        "\n",
        "문자열의 슬라이싱(Slicing) 은 문자열 내의 특정 구간을 잘라내는 것입니다. 슬라이싱에서의 순서는 인덱싱과 마찬가지로 0부터 시작합니다. 하지만 슬라이싱의 인덱스는 문자열의 위치를 가리키는게 아니라 문자열 사이사이의 칸막이를 가리키는 것으로 이해하셔야 헷갈리지 않습니다. 아래 그림을 참고하세요.\n",
        "\n",
        "![](https://github.com/yebiny/SkillTreePython/blob/main/imgs/2-2-2.PNG?raw=true)\n",
        "\n",
        "*  `a[start:end]` : 문자열 `a`의 `start` 부터 `end`까지 구간을 슬라이싱합니다.\n",
        "\n",
        "```\n",
        "a = 'nice day!'\n",
        "print(a[1:4])\n",
        "```"
      ],
      "metadata": {
        "id": "HkFYQ6riIswz"
      }
    },
    {
      "cell_type": "code",
      "source": [
        "a='nice day!'\n",
        "print(a[1:4])"
      ],
      "metadata": {
        "id": "CuP424IgIT5Q",
        "colab": {
          "base_uri": "https://localhost:8080/"
        },
        "outputId": "622af998-23ce-45ec-d10f-a49d86dedac0"
      },
      "execution_count": 44,
      "outputs": [
        {
          "output_type": "stream",
          "name": "stdout",
          "text": [
            "ice\n"
          ]
        }
      ]
    },
    {
      "cell_type": "markdown",
      "source": [
        "만약  `start` 나 `end` 값을 적지 않으면 어떻게 될까요?\n",
        "\n",
        "```\n",
        "a = 'nice day!'\n",
        "print(a[:4])\n",
        "```\n",
        "\n",
        "`start` 값을 적지 않았지만 자동으로 `0`으로 인식하여 슬라이싱 합니다. 반대로 `end` 값을 적지 않으면 마지막(칸막이)을 뜻하는 `-1`이 인식됩니다."
      ],
      "metadata": {
        "id": "CG4gOxN8Iznp"
      }
    },
    {
      "cell_type": "code",
      "source": [
        "a='nice day!'\n",
        "print(a[:4])"
      ],
      "metadata": {
        "id": "uaoZZQFIIyZ2",
        "colab": {
          "base_uri": "https://localhost:8080/"
        },
        "outputId": "01e4971d-618c-4a04-e7b7-f474ee0b547d"
      },
      "execution_count": 45,
      "outputs": [
        {
          "output_type": "stream",
          "name": "stdout",
          "text": [
            "nice\n"
          ]
        }
      ]
    },
    {
      "cell_type": "markdown",
      "source": [
        "\n",
        "따라서 아래 코드는 처음부터 끝까지 슬라이싱 하라는 것과 동일합니다. \n",
        "\n",
        "```\n",
        "a = 'nice day!'\n",
        "print(a[:])\n",
        "```\n",
        "\n",
        "\n"
      ],
      "metadata": {
        "id": "W5j566GxI4hc"
      }
    },
    {
      "cell_type": "code",
      "source": [
        "print(a[:]) #슬라이싱에서 end 값 start 값을 안쓰면 젤 끝의 값을 나타낸다."
      ],
      "metadata": {
        "id": "L9vlbxXuI2Fd",
        "colab": {
          "base_uri": "https://localhost:8080/"
        },
        "outputId": "2a20dafa-bce0-4f65-87b0-d8ff64c39f73"
      },
      "execution_count": 49,
      "outputs": [
        {
          "output_type": "stream",
          "name": "stdout",
          "text": [
            "nice\n"
          ]
        }
      ]
    },
    {
      "cell_type": "code",
      "source": [
        "a='ababab'\n",
        "a[1:-1]"
      ],
      "metadata": {
        "colab": {
          "base_uri": "https://localhost:8080/",
          "height": 35
        },
        "id": "QCTb3guXWiry",
        "outputId": "75ab57cd-3d83-4b23-df59-0a556290942b"
      },
      "execution_count": 92,
      "outputs": [
        {
          "output_type": "execute_result",
          "data": {
            "text/plain": [
              "'baba'"
            ],
            "application/vnd.google.colaboratory.intrinsic+json": {
              "type": "string"
            }
          },
          "metadata": {},
          "execution_count": 92
        }
      ]
    },
    {
      "cell_type": "markdown",
      "source": [
        "### (5) 문자열 연산\n",
        "\n",
        "문자열도 수치자료형처럼 몇가지 연산이 가능합니다. 더하기 `+`와 곱셈 `*`을 사용할 수 있습니다.\n"
      ],
      "metadata": {
        "id": "I8LnkqP8KsaZ"
      }
    },
    {
      "cell_type": "markdown",
      "source": [
        "\n",
        "#### **더하기**\n",
        "\n",
        "* `a+b` : 문자열 `a`와 문자열 `b`를 하나의 문자열로 변환합니다.\n",
        "\n",
        "```\n",
        "a = 'nice'\n",
        "b = 'day!'\n",
        "print(a+b)\n",
        "```\n"
      ],
      "metadata": {
        "id": "8aUbNRGiKdE9"
      }
    },
    {
      "cell_type": "code",
      "source": [
        "a='nice'\n",
        "b='day!'\n",
        "a+b"
      ],
      "metadata": {
        "id": "--dLtQdXKSb2",
        "colab": {
          "base_uri": "https://localhost:8080/",
          "height": 35
        },
        "outputId": "dd04b109-57cd-453d-dd9b-5a53d3a24c94"
      },
      "execution_count": 47,
      "outputs": [
        {
          "output_type": "execute_result",
          "data": {
            "text/plain": [
              "'niceday!'"
            ],
            "application/vnd.google.colaboratory.intrinsic+json": {
              "type": "string"
            }
          },
          "metadata": {},
          "execution_count": 47
        }
      ]
    },
    {
      "cell_type": "markdown",
      "source": [
        "#### **곱하기**\n",
        "\n",
        "* `a*b` 문자열 `a`를 정수 `b`번 반복합니다. \n",
        "\n",
        "```\n",
        "a = 'nice'\n",
        "b = 'day!'\n",
        "print(a*3+b)\n",
        "```"
      ],
      "metadata": {
        "id": "kPmXu9HrKkak"
      }
    },
    {
      "cell_type": "code",
      "source": [
        "a='nice'\n",
        "b='day!'\n",
        "print(a*3+b)"
      ],
      "metadata": {
        "id": "j029NDxLKjNQ",
        "colab": {
          "base_uri": "https://localhost:8080/"
        },
        "outputId": "c6806b38-cf20-4a58-8683-42a32523bfd4"
      },
      "execution_count": 50,
      "outputs": [
        {
          "output_type": "stream",
          "name": "stdout",
          "text": [
            "niceniceniceday!\n"
          ]
        }
      ]
    },
    {
      "cell_type": "markdown",
      "source": [
        "### (6) 문자열 메서드\n",
        "\n",
        "\n",
        "아래 표와 같이 문자열 메서드는 아주 다양합니다. 여기서는 자주 쓰이는 몇가지 함수만 간단히 배워보도록 합니다. 만약 코드를 작성하면서 더 다양한 문자열 메서드가 필요할 경우엔 표를 참고하고 해당 함수를 검색해보고 사용방법을 익혀가는 것도 좋습니다.\n",
        "\n",
        "len,min,max,count★\n",
        "\n",
        "|종류|함수|\n",
        "|--|--|\n",
        "|string calculation| `len()`, `min()`, `max()`, `count()`|\n",
        "|encoding/decoding| `encode()`, `decode()`|\n",
        "|string search|`startswith()`, `endswith()`, `find()`, `rfind()`, `index()`, `rindex()`|\n",
        "|number/character|`isalnum()`, `isalpha()`, `isdigit()`, `isnumeric()`, `isdecimal()`|\n",
        "|lower/upper| `islower()`, `isupper()`, `lower()`, `upper()`, `swapcase()`, `istitle()`, `title()`, `capitalize()`|\n",
        "|space/strip| `isstrip()`, `rstrip()`, `strip()`, `isspace()`, `center()`|\n",
        "|split/ join / fill | `split()`, `splitlines()`, `replace()`, `join()`, `zfill()`, `ljust()`, `rjust()`|\n"
      ],
      "metadata": {
        "id": "TqG0SPsMKybG"
      }
    },
    {
      "cell_type": "markdown",
      "source": [
        "#### **String calculation**\n",
        "\n",
        "* `len(x)` : 문자열 `x`의 **길이**를 반환합니다.\n",
        "\n",
        "```\n",
        "x  = 'abcde'\n",
        "print(len(x))\n",
        "```\n"
      ],
      "metadata": {
        "id": "ubTi__L8K6dR"
      }
    },
    {
      "cell_type": "code",
      "source": [
        "x='abcde'\n",
        "print(len(x))"
      ],
      "metadata": {
        "id": "33I4_rM3Ktv1",
        "colab": {
          "base_uri": "https://localhost:8080/"
        },
        "outputId": "c01486da-5dfa-47e6-f7ac-a60091651a2e"
      },
      "execution_count": 51,
      "outputs": [
        {
          "output_type": "stream",
          "name": "stdout",
          "text": [
            "5\n"
          ]
        }
      ]
    },
    {
      "cell_type": "markdown",
      "source": [
        "* `max(x)` : 문자열 `x`의 **최대값**을 반환합니다.\n",
        "\n",
        "\n",
        "문자열의 정렬 순서는 ★**기호-숫자-대문자-소문자**★ 입니다. 먼저 정렬 되는 문자가 최소값으로, 나중에 정렬되는 값이 최대값이 됩니다.\n",
        "\n",
        "\n",
        "```\n",
        "x  = 'abcde'\n",
        "print(max(x))\n",
        "```"
      ],
      "metadata": {
        "id": "0xOIdn0SK-vM"
      }
    },
    {
      "cell_type": "code",
      "source": [
        "x='abcde123'\n",
        "print(max(x),min(x))"
      ],
      "metadata": {
        "id": "KbxFJGLbK9Rn",
        "colab": {
          "base_uri": "https://localhost:8080/"
        },
        "outputId": "806a0bf2-aab7-48f0-8614-cada97b8eba9"
      },
      "execution_count": 56,
      "outputs": [
        {
          "output_type": "stream",
          "name": "stdout",
          "text": [
            "e 1\n"
          ]
        }
      ]
    },
    {
      "cell_type": "markdown",
      "source": [
        "#### **String search**\n",
        "\n",
        "* `x.startswith(w)`:  문자열 `x`가 특정 문자 `w`로 **시작되는지** 여부를 확인합니다.\n",
        "\n",
        "```\n",
        "a = 'abcde'\n",
        "print(a.startswith('abc'))\n",
        "```\n"
      ],
      "metadata": {
        "id": "9-mHMeV2NQvv"
      }
    },
    {
      "cell_type": "code",
      "source": [
        "a='abcde'\n",
        "a.startswith('aaa')"
      ],
      "metadata": {
        "id": "2jJJRswKNSaZ",
        "colab": {
          "base_uri": "https://localhost:8080/"
        },
        "outputId": "8887bf4a-2dc7-4f48-873f-91ccf2f0f918"
      },
      "execution_count": 59,
      "outputs": [
        {
          "output_type": "execute_result",
          "data": {
            "text/plain": [
              "False"
            ]
          },
          "metadata": {},
          "execution_count": 59
        }
      ]
    },
    {
      "cell_type": "markdown",
      "source": [
        "* `x.endswith(w)`:  문자열 `x`가 특정 문자 `w`로 **끝나는지 **여부를 확인합니다.\n",
        "\n",
        "```\n",
        "a = 'abcde'\n",
        "print(a.endswith('abc'))\n",
        "```\n"
      ],
      "metadata": {
        "id": "BkimuFv2NSeV"
      }
    },
    {
      "cell_type": "code",
      "source": [
        "a='abcde'\n",
        "a.endswith('de')"
      ],
      "metadata": {
        "id": "o7cggDDmNM2l",
        "colab": {
          "base_uri": "https://localhost:8080/"
        },
        "outputId": "21ed22ab-9f60-4297-82c7-57b26b2bc3ac"
      },
      "execution_count": 62,
      "outputs": [
        {
          "output_type": "execute_result",
          "data": {
            "text/plain": [
              "True"
            ]
          },
          "metadata": {},
          "execution_count": 62
        }
      ]
    },
    {
      "cell_type": "markdown",
      "source": [
        "#### **Lower/upper**\n",
        "\n",
        "* `x.lower()` : 문자열 `x`의 모든 알파벳을 **소문자**로 변환합니다.\n",
        "\n",
        "```\n",
        "a = 'ABCDE'\n",
        "print(a.lower())\n",
        "```"
      ],
      "metadata": {
        "id": "P9dFMBGmNc_Q"
      }
    },
    {
      "cell_type": "code",
      "source": [
        "a='ABCDE'\n",
        "a.lower()"
      ],
      "metadata": {
        "id": "v-hdqCgUNXDe",
        "colab": {
          "base_uri": "https://localhost:8080/",
          "height": 35
        },
        "outputId": "289708b0-5010-4980-ca62-567a4baa3f7e"
      },
      "execution_count": 64,
      "outputs": [
        {
          "output_type": "execute_result",
          "data": {
            "text/plain": [
              "'abcde'"
            ],
            "application/vnd.google.colaboratory.intrinsic+json": {
              "type": "string"
            }
          },
          "metadata": {},
          "execution_count": 64
        }
      ]
    },
    {
      "cell_type": "markdown",
      "source": [
        "* `x.upper()` : 문자열 `x`의 모든 알파벳을 **대문자**로 변환합니다.\n",
        "\n",
        "```\n",
        "a = 'abcde'\n",
        "print(a.upper())\n",
        "```"
      ],
      "metadata": {
        "id": "WVWQ5PVSNhcQ"
      }
    },
    {
      "cell_type": "code",
      "source": [
        "a='abcde'\n",
        "a.upper()"
      ],
      "metadata": {
        "id": "bQPMKC2tNgbF",
        "colab": {
          "base_uri": "https://localhost:8080/",
          "height": 35
        },
        "outputId": "223d9563-406c-40d3-800e-0868277abcd2"
      },
      "execution_count": 65,
      "outputs": [
        {
          "output_type": "execute_result",
          "data": {
            "text/plain": [
              "'ABCDE'"
            ],
            "application/vnd.google.colaboratory.intrinsic+json": {
              "type": "string"
            }
          },
          "metadata": {},
          "execution_count": 65
        }
      ]
    },
    {
      "cell_type": "markdown",
      "source": [
        "* `x.capitalize()` : 문자열 `x`의 **첫글자**를 **대문자**로 변환합니다.\n",
        "\n",
        "```\n",
        "a = 'abcde'\n",
        "print(a.capitalize())\n",
        "```"
      ],
      "metadata": {
        "id": "FMYVrryXNkfm"
      }
    },
    {
      "cell_type": "code",
      "source": [
        "a='abcde'\n",
        "a.capitalize()"
      ],
      "metadata": {
        "id": "49oaOV42NjiH",
        "colab": {
          "base_uri": "https://localhost:8080/",
          "height": 35
        },
        "outputId": "ebd835ab-fb7e-4e70-fb6f-e734e1f942ca"
      },
      "execution_count": 67,
      "outputs": [
        {
          "output_type": "execute_result",
          "data": {
            "text/plain": [
              "'Abcde'"
            ],
            "application/vnd.google.colaboratory.intrinsic+json": {
              "type": "string"
            }
          },
          "metadata": {},
          "execution_count": 67
        }
      ]
    },
    {
      "cell_type": "markdown",
      "source": [
        "#### **split/join/replace**\n",
        "\n"
      ],
      "metadata": {
        "id": "9XBv4jlpNoTe"
      }
    },
    {
      "cell_type": "markdown",
      "source": [
        "* `x.split(sep=w)` : 문자열 `x`를 문자열 `w` 를 기준으로 분할하여 리스트 형태로 반환합니다. `sep` 의 디폴트 값은 '` `' (공백) 입니다.\n",
        "\n",
        "이 때 `리스트` 라는 타입은 아직 배우지 않았습니다. 파이썬의 여러가지 자료형 중 하나이며 이에 대한 자세한 내용은 다음 시간에 배우도록 합니다. \n",
        "\n",
        "```\n",
        "a ='nice day!'\n",
        "print(a.split())\n",
        "```"
      ],
      "metadata": {
        "id": "8wuaAaywN5hP"
      }
    },
    {
      "cell_type": "code",
      "source": [
        "a='nice day!'\n",
        "a.split(sep='e')"
      ],
      "metadata": {
        "id": "POE--Jr0NnaF",
        "colab": {
          "base_uri": "https://localhost:8080/"
        },
        "outputId": "e67d8195-fd56-4418-cebe-3093b8fdcfb7"
      },
      "execution_count": 70,
      "outputs": [
        {
          "output_type": "execute_result",
          "data": {
            "text/plain": [
              "['nic', ' day!']"
            ]
          },
          "metadata": {},
          "execution_count": 70
        }
      ]
    },
    {
      "cell_type": "markdown",
      "source": [
        "* `w.join(l)` : 리스트 `l`의 값들을 문자열로 변환합니다. 변환 시 값 사이에 문자열 `w`를 끼어 넣습니다.\n",
        "\n",
        "```\n",
        "l = ['nice', 'day!']\n",
        "print(' '.join(a))\n",
        "```"
      ],
      "metadata": {
        "id": "v66Jjj_AN6tG"
      }
    },
    {
      "cell_type": "code",
      "source": [
        "l=['nice','day!','a']\n",
        "\"\".join(l)"
      ],
      "metadata": {
        "id": "qca8pvnfN-kN",
        "colab": {
          "base_uri": "https://localhost:8080/",
          "height": 35
        },
        "outputId": "0e814b21-9f84-464d-910a-b1fa1aea263e"
      },
      "execution_count": 71,
      "outputs": [
        {
          "output_type": "execute_result",
          "data": {
            "text/plain": [
              "'niceday!a'"
            ],
            "application/vnd.google.colaboratory.intrinsic+json": {
              "type": "string"
            }
          },
          "metadata": {},
          "execution_count": 71
        }
      ]
    },
    {
      "cell_type": "markdown",
      "source": [
        "* `a.replace(w1, w2)` :  문자열 `a` 에 포함된 문자열 `w1`을 새로운 문자열 `w2`로 변경합니다. \n",
        "\n",
        "```\n",
        "a = 'nice day!'\n",
        "print(a.replace('nice', 'good'))\n",
        "```"
      ],
      "metadata": {
        "id": "qEtziwNZN9_u"
      }
    },
    {
      "cell_type": "code",
      "source": [
        "a='nice day!'\n",
        "a.replace('nice','good')"
      ],
      "metadata": {
        "id": "cc0zT0VJNr7H",
        "colab": {
          "base_uri": "https://localhost:8080/",
          "height": 35
        },
        "outputId": "e9e0235f-c52d-49a8-975d-aa901ae985bc"
      },
      "execution_count": 72,
      "outputs": [
        {
          "output_type": "execute_result",
          "data": {
            "text/plain": [
              "'good day!'"
            ],
            "application/vnd.google.colaboratory.intrinsic+json": {
              "type": "string"
            }
          },
          "metadata": {},
          "execution_count": 72
        }
      ]
    },
    {
      "cell_type": "markdown",
      "source": [
        "## 문제풀이\n",
        "---\n"
      ],
      "metadata": {
        "id": "8x1cuwCDOE6N"
      }
    },
    {
      "cell_type": "markdown",
      "source": [
        "**예제 01**\n",
        "\n",
        "아래 문장을 출력하는 코드를 작성하세요\n",
        "\n",
        "```\n",
        "/menu/ \"Americano\" : 1000\n",
        "```\n"
      ],
      "metadata": {
        "id": "ZRBYoVIVOFiZ"
      }
    },
    {
      "cell_type": "code",
      "source": [
        "a='/menu/ \"Americano\" : 1000'\n",
        "print(a)"
      ],
      "metadata": {
        "id": "MAVicogJOBj9",
        "colab": {
          "base_uri": "https://localhost:8080/"
        },
        "outputId": "dcc3bd8b-b484-4d17-cbac-f6a989976c09"
      },
      "execution_count": 74,
      "outputs": [
        {
          "output_type": "stream",
          "name": "stdout",
          "text": [
            "/menu/ \"Americano\" : 1000\n"
          ]
        }
      ]
    },
    {
      "cell_type": "markdown",
      "source": [
        "**예제 02**\n",
        "\n",
        "아래 문장을 출력하는 코드를 **이스케이프 코드**를 사용하여 작성하세요\n",
        "\n",
        "```\n",
        "/menu/\n",
        "\"Americano\" : 1000\n",
        "\"Latte\" : 2000\n",
        "\"Ade\" : 2500\n",
        "```"
      ],
      "metadata": {
        "id": "XiTpBd3EOI29"
      }
    },
    {
      "cell_type": "code",
      "source": [
        "a='/menu/\\n\"Americano\" : 1000\\n\"Latte\" : 2000\\n\"Ade\" : 2500' #print를 써야지 이스케이프 코드가 발동된다\n",
        "print(a)"
      ],
      "metadata": {
        "id": "hQWq7giVOLDN",
        "colab": {
          "base_uri": "https://localhost:8080/"
        },
        "outputId": "59c4f2a8-486a-4423-d8eb-83005f2a7aec"
      },
      "execution_count": 76,
      "outputs": [
        {
          "output_type": "stream",
          "name": "stdout",
          "text": [
            "/menu/\n",
            "\"Americano\" : 1000\n",
            "\"Latte\" : 2000\n",
            "\"Ade\" : 2500\n"
          ]
        }
      ]
    },
    {
      "cell_type": "markdown",
      "source": [
        "**예제 03**\n",
        "\n",
        "아래 문장을 출력하는 코드를 이스케이프 코드를 **사용하지 않고** 작성하세요\n",
        "\n",
        "```\n",
        "/menu/\n",
        "\"Americano\" : 1000\n",
        "\"Latte\" : 2000\n",
        "\"Ade\" : 2500\n",
        "```"
      ],
      "metadata": {
        "id": "TL9BXZKdOJ2R"
      }
    },
    {
      "cell_type": "code",
      "source": [
        "print(\"/menu/\")\n",
        "print('\"Americano\" : 1000')\n",
        "print('\"Latte\" : 2000')\n",
        "print('\"Ade\" : 2500')"
      ],
      "metadata": {
        "id": "20X88hqdOLYF",
        "colab": {
          "base_uri": "https://localhost:8080/"
        },
        "outputId": "6a69e8a9-a5e8-4195-e664-00313358b1e3"
      },
      "execution_count": 77,
      "outputs": [
        {
          "output_type": "stream",
          "name": "stdout",
          "text": [
            "/menu/\n",
            "\"Americano\" : 1000\n",
            "\"Latte\" : 2000\n",
            "\"Ade\" : 2500\n"
          ]
        }
      ]
    },
    {
      "cell_type": "markdown",
      "source": [
        "**예제 04**\n",
        "\n",
        "변수 `num`과 `menu`가 아래와 같이 바인딩 되어 있습니다. **문자열 연산**을 이용해서 코드를 작성하세요\n",
        "\n",
        "```\n",
        ">> num = 3\n",
        ">> menu = americano\n",
        ">> # 코드작성\n",
        "3 americano please.\n",
        "```"
      ],
      "metadata": {
        "id": "6Lhqf_OwOMll"
      }
    },
    {
      "cell_type": "code",
      "source": [
        "num=3\n",
        "menu='americano'\n",
        "print(num,menu,\"please\")"
      ],
      "metadata": {
        "id": "sZpNXFJ9ONMf",
        "colab": {
          "base_uri": "https://localhost:8080/"
        },
        "outputId": "a08701ff-64a8-441f-a3b1-2fdabf2912ab"
      },
      "execution_count": 85,
      "outputs": [
        {
          "output_type": "stream",
          "name": "stdout",
          "text": [
            "3 americano please\n"
          ]
        }
      ]
    },
    {
      "cell_type": "markdown",
      "source": [
        "**예제 05**\n",
        "\n",
        "변수 `num`과 `menu`가 아래와 같이 바인딩 되어 있습니다. **`%` 포맷팅**을 이용해서 코드를 작성하세요\n",
        "\n",
        "```\n",
        ">> num = 3\n",
        ">> menu = americano\n",
        ">> # 코드작성\n",
        "3 americano please.\n",
        "```"
      ],
      "metadata": {
        "id": "zh2HpYNEONgY"
      }
    },
    {
      "cell_type": "code",
      "source": [
        "num=3\n",
        "menu='americano'\n",
        "a='%s %s please.'%(num,menu)\n",
        "print(a)"
      ],
      "metadata": {
        "id": "NA-xF7dROPo9",
        "colab": {
          "base_uri": "https://localhost:8080/"
        },
        "outputId": "0c07a054-1b0e-46f9-a40d-cdc0c3aba7e6"
      },
      "execution_count": 99,
      "outputs": [
        {
          "output_type": "stream",
          "name": "stdout",
          "text": [
            "3 americano please.\n"
          ]
        }
      ]
    },
    {
      "cell_type": "markdown",
      "source": [
        "**예제 06**\n",
        "\n",
        "`예제 05` 문제를  **`.format()` 포맷팅** 을 이용해서 코드를 작성하세요\n"
      ],
      "metadata": {
        "id": "XQQ4qM7XORNP"
      }
    },
    {
      "cell_type": "code",
      "source": [
        "num=3\n",
        "menu='americano'\n",
        "a='{} {} please.'.format(num,menu)\n",
        "print(a)"
      ],
      "metadata": {
        "id": "7swQ-a-COWWm",
        "colab": {
          "base_uri": "https://localhost:8080/"
        },
        "outputId": "8d800db7-3211-4401-b426-2fd67808a570"
      },
      "execution_count": 105,
      "outputs": [
        {
          "output_type": "stream",
          "name": "stdout",
          "text": [
            "3 americano please.\n"
          ]
        }
      ]
    },
    {
      "cell_type": "markdown",
      "source": [
        "**예제 07**\n",
        "\n",
        "`예제 05` 문제를  **`f-string` 문법** 을 이용해서 코드를 작성하세요\n"
      ],
      "metadata": {
        "id": "aH1WhRrtOYqP"
      }
    },
    {
      "cell_type": "code",
      "source": [
        "num=3\n",
        "menu='americano'\n",
        "a=f'{num} {menu} please'\n",
        "print(a)"
      ],
      "metadata": {
        "id": "Srb82g7TOYqQ",
        "colab": {
          "base_uri": "https://localhost:8080/"
        },
        "outputId": "58e06941-044c-4df5-b1e8-298793ab5d53"
      },
      "execution_count": 107,
      "outputs": [
        {
          "output_type": "stream",
          "name": "stdout",
          "text": [
            "3 americano please\n"
          ]
        }
      ]
    },
    {
      "cell_type": "markdown",
      "source": [
        "**예제 08**\n",
        "\n",
        "다음 코드를 실행해보세요. 오류가 나는지 쓰고, 그 이유를 서술하세요.\n",
        "\n",
        "```\n",
        "color = 'red'\n",
        "w = '%i apples'%color\n",
        "print(w)\n",
        "```"
      ],
      "metadata": {
        "id": "QR5ZQDJDOiQ9"
      }
    },
    {
      "cell_type": "code",
      "source": [
        "color='red'\n",
        "w='%s apple'%color\n",
        "print(w)"
      ],
      "metadata": {
        "id": "YbRl_5dhOizV",
        "colab": {
          "base_uri": "https://localhost:8080/"
        },
        "outputId": "07a68c7e-d813-42c3-8ff3-f3416fe93e20"
      },
      "execution_count": 110,
      "outputs": [
        {
          "output_type": "stream",
          "name": "stdout",
          "text": [
            "red apple\n"
          ]
        }
      ]
    },
    {
      "cell_type": "markdown",
      "source": [
        "**예제 09**\n",
        "\n",
        "다음 코드를 실행해보세요. 오류가 나는지 쓰고, 그 이유를 서술하세요.\n",
        "\n",
        "```\n",
        "num = 5\n",
        "w = '%f apples'%num\n",
        "print(w)\n",
        "```"
      ],
      "metadata": {
        "id": "VQO77CJPOv_y"
      }
    },
    {
      "cell_type": "code",
      "source": [
        "num=5\n",
        "w='%f apples'%num\n",
        "print(w)"
      ],
      "metadata": {
        "id": "feupkLYHOz9M",
        "colab": {
          "base_uri": "https://localhost:8080/"
        },
        "outputId": "bb43bb92-e39b-48dc-ac1d-5cf19ba82eaa"
      },
      "execution_count": 111,
      "outputs": [
        {
          "output_type": "stream",
          "name": "stdout",
          "text": [
            "5.000000 apples\n"
          ]
        }
      ]
    },
    {
      "cell_type": "markdown",
      "source": [
        "\n",
        "**예제 10**\n",
        "\n",
        "`a`가 바인딩한 문자열의 첫번째와 마지막 문자를 출력하세요\n",
        "```\n",
        "a = 'Birthday'\n",
        "```\n"
      ],
      "metadata": {
        "id": "2GYjJcAuRn_n"
      }
    },
    {
      "cell_type": "code",
      "source": [
        "a='Birthday'\n",
        "a[0],a[-1]"
      ],
      "metadata": {
        "id": "Q5gjeqAsRocT",
        "colab": {
          "base_uri": "https://localhost:8080/"
        },
        "outputId": "c84c31d4-8ce4-4c4a-c567-5c89c5303d69"
      },
      "execution_count": 112,
      "outputs": [
        {
          "output_type": "execute_result",
          "data": {
            "text/plain": [
              "('B', 'y')"
            ]
          },
          "metadata": {},
          "execution_count": 112
        }
      ]
    },
    {
      "cell_type": "markdown",
      "source": [
        "**예제 11**\n",
        "\n",
        "`a`가 바인딩한 문자열의 뒤 3자리만 출력하세요\n",
        "\n",
        "```\n",
        "a = 'Birthday'\n",
        "```\n"
      ],
      "metadata": {
        "id": "iMrG4iPURpm6"
      }
    },
    {
      "cell_type": "code",
      "source": [
        "a='Birthday'\n",
        "a[5:8]"
      ],
      "metadata": {
        "id": "00VaouHfRqG8",
        "colab": {
          "base_uri": "https://localhost:8080/",
          "height": 35
        },
        "outputId": "70d321c8-dff5-4633-c7a5-cb6f06587672"
      },
      "execution_count": 119,
      "outputs": [
        {
          "output_type": "execute_result",
          "data": {
            "text/plain": [
              "'day'"
            ],
            "application/vnd.google.colaboratory.intrinsic+json": {
              "type": "string"
            }
          },
          "metadata": {},
          "execution_count": 119
        }
      ]
    },
    {
      "cell_type": "markdown",
      "source": [
        "**예제 12**\n",
        "\n",
        "`a`가 바인딩한 문자열에서 `2`만 출력하세요 ★\n",
        "\n",
        "\n",
        "```\n",
        "a = '123123123'\n",
        "```"
      ],
      "metadata": {
        "id": "Bhh_pmZ4RrVE"
      }
    },
    {
      "cell_type": "code",
      "source": [
        "a='123123123'\n",
        "a[1::3]"
      ],
      "metadata": {
        "id": "i_fbxMUiRry3",
        "colab": {
          "base_uri": "https://localhost:8080/",
          "height": 35
        },
        "outputId": "ddfd13fa-7f33-4f5e-d420-eb05f2e8d704"
      },
      "execution_count": 182,
      "outputs": [
        {
          "output_type": "execute_result",
          "data": {
            "text/plain": [
              "'222'"
            ],
            "application/vnd.google.colaboratory.intrinsic+json": {
              "type": "string"
            }
          },
          "metadata": {},
          "execution_count": 182
        }
      ]
    },
    {
      "cell_type": "markdown",
      "source": [
        "**예제 13**\n",
        "\n",
        "문자열을 입력하면 거꾸로 출력하는 코드를 작성하세요\n",
        "\n",
        "```\n",
        ">> Enter sentence : hello\n",
        "he said, olleh\n",
        "```"
      ],
      "metadata": {
        "id": "qmqSfVlgRr6O"
      }
    },
    {
      "cell_type": "code",
      "source": [
        "a=input(\"Enter sentence : \")\n",
        "print(\"he said,\",a[::-1])"
      ],
      "metadata": {
        "id": "ft49uqD3Rt69",
        "colab": {
          "base_uri": "https://localhost:8080/"
        },
        "outputId": "dab0e3d6-5fd2-4ccc-e9e3-280a7fae1213"
      },
      "execution_count": 138,
      "outputs": [
        {
          "output_type": "stream",
          "name": "stdout",
          "text": [
            "Enter sentence : hello\n",
            "he said, olleh\n"
          ]
        }
      ]
    },
    {
      "cell_type": "markdown",
      "source": [
        "**예제 14**\n",
        "\n",
        "다음과 같이  `input()` 함수를 이용해 변수를 적용하여 문장을 출력하는 코드를 작성하세요\n",
        "\n",
        "* 예시 1\n",
        "\n",
        "```\n",
        ">> how's the day? : nice\n",
        "It's nice day!\n",
        "```\n",
        "\n",
        "* 예시 2\n",
        "\n",
        "```\n",
        ">> how's the day? : sunny\n",
        "It's sunny day!\n",
        "```"
      ],
      "metadata": {
        "id": "zBsIZKl3O3XF"
      }
    },
    {
      "cell_type": "code",
      "source": [
        "a=input(\"how's the day? : \")\n",
        "print(\"it's\",a,\"day!\")"
      ],
      "metadata": {
        "id": "2gQPfgVpO4cU",
        "colab": {
          "base_uri": "https://localhost:8080/"
        },
        "outputId": "591a39e3-e682-4902-e96b-d0f278440179"
      },
      "execution_count": 142,
      "outputs": [
        {
          "output_type": "stream",
          "name": "stdout",
          "text": [
            "how's the day? : sunny\n",
            "it's sunny day!\n"
          ]
        }
      ]
    },
    {
      "cell_type": "markdown",
      "source": [
        "**예제 15**\n",
        "\n",
        "문자열을 입력하면 끝에서 2개 문자만 출력하는 \n",
        "코드를 작성하세요\n",
        "\n",
        "* 예시 1\n",
        "\n",
        "```{.python}\n",
        ">> Enter sentence : hello\n",
        "last 2  : lo\n",
        "```\n",
        "\n",
        "* 예시 2 \n",
        "\n",
        "```\n",
        ">> Enter sentence : nice day!\n",
        "last 2 : y!\n",
        "```"
      ],
      "metadata": {
        "id": "MbDaWjEbRxgv"
      }
    },
    {
      "cell_type": "markdown",
      "source": [
        "**예제 16**\n",
        "\n",
        "아래 코드 결과를 예상해보고 직접 실행해보세요.\n",
        "\n",
        "```\n",
        "a = ''\n",
        "a = a+'what'\n",
        "a = a+'?'\n",
        "print(a)\n",
        "```"
      ],
      "metadata": {
        "id": "WHv2vcFKR9FU"
      }
    },
    {
      "cell_type": "code",
      "source": [
        "a=''\n",
        "a=a+'what'\n",
        "a=a+'?'\n",
        "print(a)"
      ],
      "metadata": {
        "id": "M-fdJu1gRx9j",
        "colab": {
          "base_uri": "https://localhost:8080/"
        },
        "outputId": "b6a27e5b-9a34-4b16-f552-02b93eb9e6be"
      },
      "execution_count": 143,
      "outputs": [
        {
          "output_type": "stream",
          "name": "stdout",
          "text": [
            "what?\n"
          ]
        }
      ]
    },
    {
      "cell_type": "markdown",
      "source": [
        "**예제 17**\n",
        "\n",
        "아래 바인딩된 값 `a`, `b`를 이용해 아래와 같이 출력해보세요(**문자열 연산**을 이용하세요)\n",
        "```\n",
        ">> a = 'me'\n",
        ">> b = 'you'\n",
        ">> # 코드작성\n",
        "meyouyouyouyouyou\n",
        "```\n"
      ],
      "metadata": {
        "id": "49-zJvQaSABn"
      }
    },
    {
      "cell_type": "code",
      "source": [
        "a='me'\n",
        "b='you'\n",
        "print(a+b*5)"
      ],
      "metadata": {
        "id": "u6XeJo7jSA49",
        "colab": {
          "base_uri": "https://localhost:8080/"
        },
        "outputId": "0cd0493d-6534-40a4-cd83-fa31087b477c"
      },
      "execution_count": 144,
      "outputs": [
        {
          "output_type": "stream",
          "name": "stdout",
          "text": [
            "meyouyouyouyouyou\n"
          ]
        }
      ]
    },
    {
      "cell_type": "markdown",
      "source": [
        "\n",
        "**예제 18**\n",
        "\n",
        "아래 바인딩된 값 `a`, `b`를 이용해 아래와 같이 출력해보세요(**문자열 연산**을 이용하세요)\n",
        "```\n",
        ">> a = 'me'\n",
        ">> b = 'you'\n",
        ">> # 코드작성\n",
        "youmeyoumeyoumeyoumeyoumeyoumeyoumeyoume\n",
        "```"
      ],
      "metadata": {
        "id": "-VADZMxcSCgq"
      }
    },
    {
      "cell_type": "code",
      "source": [
        "a='me'\n",
        "b='you'\n",
        "print(8*(b+a))"
      ],
      "metadata": {
        "id": "mnrvtva0SDI0",
        "colab": {
          "base_uri": "https://localhost:8080/"
        },
        "outputId": "49e7891f-accf-4c86-911f-4fab459b44a3"
      },
      "execution_count": 146,
      "outputs": [
        {
          "output_type": "stream",
          "name": "stdout",
          "text": [
            "youmeyoumeyoumeyoumeyoumeyoumeyoumeyoume\n"
          ]
        }
      ]
    },
    {
      "cell_type": "markdown",
      "source": [
        "**예제 19**\n",
        "\n",
        "코드번호는 숫자가 나열된 문자열의 **길이** 곱하기 **최대값**으로 만들어집니다.\n",
        "코드번호를 생성하는 코드를 작성하세요\n",
        "\n",
        "```\n",
        ">> 숫자를 입력하세요 : 123456\n",
        "코드번호는 36 입니다.\n",
        "```"
      ],
      "metadata": {
        "id": "RAxXJ4S4SErN"
      }
    },
    {
      "cell_type": "code",
      "source": [
        "a=input(\"숫자를 입력하세요 : \")\n",
        "print(\"코드번호는\",int(len(a))*int(max(a)),\"입니다.\")"
      ],
      "metadata": {
        "id": "59mTGYRqSFd8",
        "colab": {
          "base_uri": "https://localhost:8080/"
        },
        "outputId": "9c2310c1-d11e-4531-e503-c0b9fb02d346"
      },
      "execution_count": 149,
      "outputs": [
        {
          "output_type": "stream",
          "name": "stdout",
          "text": [
            "숫자를 입력하세요 : 123456\n",
            "코드번호는 36 입니다.\n"
          ]
        }
      ]
    },
    {
      "cell_type": "markdown",
      "source": [
        "**예제 20**\n",
        "\n",
        "파일들의 이름이 아래와 같이 바인딩 되어 있습니다. 확장자가 파이썬 `.py`로 끝나는 파일인지 확인하는 코드를 작성하세요\n",
        "\n",
        "```\n",
        "a = 'test.py'\n",
        "b = 'train.py`\n",
        "c = 'img.jpg'\n",
        "```\n"
      ],
      "metadata": {
        "id": "jroYBZMjSGxF"
      }
    },
    {
      "cell_type": "code",
      "source": [
        "a='test.py'\n",
        "b='train.py'\n",
        "c='img.jpg'\n",
        "a.endswith('.py')\n",
        "b.endswith('.py')\n",
        "c.endswith('.py')"
      ],
      "metadata": {
        "id": "XMWt5kqnSHot",
        "colab": {
          "base_uri": "https://localhost:8080/"
        },
        "outputId": "7588a449-a654-4f7b-f017-74396908753c"
      },
      "execution_count": 153,
      "outputs": [
        {
          "output_type": "execute_result",
          "data": {
            "text/plain": [
              "False"
            ]
          },
          "metadata": {},
          "execution_count": 153
        }
      ]
    },
    {
      "cell_type": "markdown",
      "source": [
        "**예제 21**\n",
        "\n",
        "아래 문자열을 **대문자**로 변경하세요\n",
        "\n",
        "```\n",
        "a = 'my_little_cat'\n",
        "```"
      ],
      "metadata": {
        "id": "iqBg4JWWSI7Z"
      }
    },
    {
      "cell_type": "code",
      "source": [
        "a='my_little_cat'\n",
        "a.upper()"
      ],
      "metadata": {
        "id": "g09gZVsSSJlE",
        "colab": {
          "base_uri": "https://localhost:8080/",
          "height": 35
        },
        "outputId": "5fa948d4-33ec-4f19-d2c4-c219b1f0cad4"
      },
      "execution_count": 159,
      "outputs": [
        {
          "output_type": "execute_result",
          "data": {
            "text/plain": [
              "'MY_LITTLE_CAT'"
            ],
            "application/vnd.google.colaboratory.intrinsic+json": {
              "type": "string"
            }
          },
          "metadata": {},
          "execution_count": 159
        }
      ]
    },
    {
      "cell_type": "markdown",
      "source": [
        "**예제 22**\n",
        "\n",
        "아래 문자열의 **첫글자만 대문자**로 변경하세요\n",
        "\n",
        "\n",
        "```\n",
        "a = 'my_little_cat'\n",
        "\n",
        "```"
      ],
      "metadata": {
        "id": "PZ880dpkS882"
      }
    },
    {
      "cell_type": "code",
      "source": [
        "a.capitalize()"
      ],
      "metadata": {
        "id": "V5IPhBgdS9p1",
        "colab": {
          "base_uri": "https://localhost:8080/",
          "height": 35
        },
        "outputId": "fd357037-ac39-421b-ea0c-5b0497f0354f"
      },
      "execution_count": 160,
      "outputs": [
        {
          "output_type": "execute_result",
          "data": {
            "text/plain": [
              "'My_little_cat'"
            ],
            "application/vnd.google.colaboratory.intrinsic+json": {
              "type": "string"
            }
          },
          "metadata": {},
          "execution_count": 160
        }
      ]
    },
    {
      "cell_type": "markdown",
      "source": [
        "**예제 23**\n",
        "\n",
        "금액이 아래와 같이 바인딩되어 있습니다. 쉼표`,`를 **제거 후** `int` 값으로 **변환**하세요\n",
        "\n",
        "```\n",
        "a = '542,322,000'\n",
        "```"
      ],
      "metadata": {
        "id": "rW1cjC4KS-ph"
      }
    },
    {
      "cell_type": "code",
      "source": [
        "a=['542','322','000']\n",
        "\"\".join(a)"
      ],
      "metadata": {
        "id": "9xGbH5aoS_M1",
        "colab": {
          "base_uri": "https://localhost:8080/",
          "height": 35
        },
        "outputId": "892d529d-4358-4d17-e69e-c5549806761e"
      },
      "execution_count": 173,
      "outputs": [
        {
          "output_type": "execute_result",
          "data": {
            "text/plain": [
              "'542322000'"
            ],
            "application/vnd.google.colaboratory.intrinsic+json": {
              "type": "string"
            }
          },
          "metadata": {},
          "execution_count": 173
        }
      ]
    },
    {
      "cell_type": "markdown",
      "source": [
        "**예제 24**\n",
        "\n",
        "`a`가 바인딩한 문자열에서 언더바 `_` 기준으로 단어를 나누어 **리스트에 저장**하세요.\n",
        "\n",
        "```\n",
        "a = 'today_is_my_birthday'\n",
        "```\n"
      ],
      "metadata": {
        "id": "sj2UCAFlTBBR"
      }
    },
    {
      "cell_type": "code",
      "source": [
        "a='today_is_my_birthday'\n",
        "a.split(sep='_')"
      ],
      "metadata": {
        "id": "PYVbWMYKTBh1",
        "colab": {
          "base_uri": "https://localhost:8080/"
        },
        "outputId": "51ed130d-83ab-4c1d-f25a-88e48e52e168"
      },
      "execution_count": 174,
      "outputs": [
        {
          "output_type": "execute_result",
          "data": {
            "text/plain": [
              "['today', 'is', 'my', 'birthday']"
            ]
          },
          "metadata": {},
          "execution_count": 174
        }
      ]
    },
    {
      "cell_type": "markdown",
      "source": [
        "**예제 25**\n",
        "\n",
        "휴대폰번호가 문자열로 저장이 되어있습니다. 이를 **번호 형식으로 변환**하는 코드를 작성하세요\n",
        "\n",
        "\n",
        "|번호|번호 형식 변환|\n",
        "|--|--|\n",
        "|'010,1234,5678'|'010-1234-5678'|\n",
        "|'010,3333,3333'|'010-3333-3333'|\n"
      ],
      "metadata": {
        "id": "4dKNxXGsTDDu"
      }
    },
    {
      "cell_type": "code",
      "source": [
        "a='010,1234,5678'\n",
        "a.replace(',',\"-\")"
      ],
      "metadata": {
        "id": "-FESRkNhTD0E",
        "colab": {
          "base_uri": "https://localhost:8080/",
          "height": 35
        },
        "outputId": "fcea2efb-fd9e-48ee-89c9-e2fde122ad89"
      },
      "execution_count": 176,
      "outputs": [
        {
          "output_type": "execute_result",
          "data": {
            "text/plain": [
              "'010-1234-5678'"
            ],
            "application/vnd.google.colaboratory.intrinsic+json": {
              "type": "string"
            }
          },
          "metadata": {},
          "execution_count": 176
        }
      ]
    },
    {
      "cell_type": "code",
      "source": [
        ""
      ],
      "metadata": {
        "id": "Q1Bop9xtgn_S"
      },
      "execution_count": null,
      "outputs": []
    }
  ]
}