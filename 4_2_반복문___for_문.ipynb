{
  "cells": [
    {
      "cell_type": "markdown",
      "metadata": {
        "id": "view-in-github",
        "colab_type": "text"
      },
      "source": [
        "<a href=\"https://colab.research.google.com/github/LeeHuiJong/SkillTreePython/blob/main/4_2_%EB%B0%98%EB%B3%B5%EB%AC%B8___for_%EB%AC%B8.ipynb\" target=\"_parent\"><img src=\"https://colab.research.google.com/assets/colab-badge.svg\" alt=\"Open In Colab\"/></a>"
      ]
    },
    {
      "cell_type": "markdown",
      "metadata": {
        "id": "kB5IciXEm6o4"
      },
      "source": [
        "# 4-2. 조건문 : for 문\n",
        "---\n",
        "* 날짜:\n",
        "* 이름:"
      ]
    },
    {
      "cell_type": "markdown",
      "metadata": {
        "id": "4iN8NFzHRJ2D"
      },
      "source": [
        "## 개념정리\n",
        "---\n",
        "\n",
        "반복문은 특정 조건에 따라 반복문 코드 블럭 안의 내용을 반복합니다. 반복문을 잘 사용하면 100번 써야 할 일을 한번에 끝낼 수 있습니다. 반복문에는 `for문`과 `while문` 이 있습니다. 오늘 배울 `for문`은 처음부터 반복의 횟수를 정해줍니다. \n",
        "\n"
      ]
    },
    {
      "cell_type": "markdown",
      "metadata": {
        "id": "MAM8MDnfw68b"
      },
      "source": [
        "### **(1) 기본 사용**\n",
        "\n",
        "\n",
        "for문은 몇번 반복할 것인지 조건을 주고, 그 조건에 따라 for문 아래에 있는 코드가 실행됩니다.\n",
        "\n",
        "```\n",
        "for 조건: # 조건의 횟수만큼\n",
        "  코드1 # 이 코드들을 반복합니다.\n",
        "  코드2 # 이 코드들을 반복합니다.\n",
        "  ...\n",
        "```\n",
        "\n",
        "그럼 조건을 어떻게 주는지 알아봅시다.\n",
        "\n",
        "\n"
      ]
    },
    {
      "cell_type": "markdown",
      "metadata": {
        "id": "DHtQmH-R-4tp"
      },
      "source": [
        "#### **군집자료형과 함께 쓰는 for문**\n",
        "\n",
        "군집자료형의 요소가 차례대로 `i` 에 바인딩 됩니다. `for문` 아래에서 `i`가 변수로 작동됩니다.  아래 예시에서 `i`는 모두 `1,2,3` 순으로 출력됩니다.  \n",
        "\n",
        "```\n",
        "for i in [1,2,3]:\n",
        "  print(\"i의 값은 : \", i)\n",
        "```"
      ]
    },
    {
      "cell_type": "code",
      "execution_count": null,
      "metadata": {
        "colab": {
          "base_uri": "https://localhost:8080/"
        },
        "id": "QhrqH2Yt-21m",
        "outputId": "580b272e-0691-460d-e16c-1f761f89bf44"
      },
      "outputs": [
        {
          "name": "stdout",
          "output_type": "stream",
          "text": [
            "i : 1\n",
            "i : 2\n",
            "i : 3\n",
            "i : 4\n"
          ]
        }
      ],
      "source": [
        "for i in [1,2,3,4]:\n",
        "  print(f\"i : {i}\")"
      ]
    },
    {
      "cell_type": "markdown",
      "metadata": {
        "id": "82JNaFiOCys3"
      },
      "source": [
        "리스트가 아닌 튜플이나 문자열 등 다른 군집자료형도 같은 결과를 얻습니다.\n",
        "\n",
        "```\n",
        "for i in (1,2,3):\n",
        "  print(\"반복\", i)\n",
        "```"
      ]
    },
    {
      "cell_type": "code",
      "execution_count": null,
      "metadata": {
        "colab": {
          "base_uri": "https://localhost:8080/"
        },
        "id": "pp-RWxgdCxTm",
        "outputId": "610adf81-3cc6-41db-e18a-915b6756c972"
      },
      "outputs": [
        {
          "name": "stdout",
          "output_type": "stream",
          "text": [
            "반복 1\n",
            "반복 2\n",
            "반복 3\n"
          ]
        }
      ],
      "source": [
        "for i in (1,2,3):\n",
        "  print(\"반복\",i)"
      ]
    },
    {
      "cell_type": "markdown",
      "metadata": {
        "id": "6UC28ghYC0lv"
      },
      "source": [
        "for문 내에서 변수가 필요 없으면 아래와 같이 언더바(_)로 표기하기도 합니다.\n",
        "\n",
        "```\n",
        "for _ in [1,2,3]:\n",
        "  print(\"i 값이 필요없는 반복\")\n",
        "```\n"
      ]
    },
    {
      "cell_type": "code",
      "execution_count": null,
      "metadata": {
        "colab": {
          "base_uri": "https://localhost:8080/"
        },
        "id": "I4yAg6bDCzmd",
        "outputId": "544db24a-a195-42fe-b891-302eabec9c65"
      },
      "outputs": [
        {
          "name": "stdout",
          "output_type": "stream",
          "text": [
            "i 값이 필요없는 반복\n",
            "i 값이 필요없는 반복\n",
            "i 값이 필요없는 반복\n"
          ]
        }
      ],
      "source": [
        "for _ in [1,2,3]:\n",
        "  print(\"i 값이 필요없는 반복\")"
      ]
    },
    {
      "cell_type": "markdown",
      "metadata": {
        "id": "4iqQ7RMZC37L"
      },
      "source": [
        "#### **range와 함께 쓰는 for문**\n",
        "\n",
        "\n",
        "굳이 군집자료형을 만들어 놓지 않아도 반복문을 쓸 수 있습니다. 이 때는 range를 이용하는데, range도 슬라이싱 과 마찬가지로 처음, 끝, 스텝이 존재합니다. \n",
        "\n",
        "* `range(n)`: `0`부터 `n-1` 까지 총 `n` 회 반복됩니다.\n",
        "\n",
        "```\n",
        "for i in range(3):\n",
        "  print(\"i의 값은 : \", i)\n",
        "```\n"
      ]
    },
    {
      "cell_type": "code",
      "execution_count": null,
      "metadata": {
        "colab": {
          "base_uri": "https://localhost:8080/"
        },
        "id": "VIbY94-2C1pQ",
        "outputId": "5b75454d-3ef2-4e47-dfcb-2db5f08f692b"
      },
      "outputs": [
        {
          "name": "stdout",
          "output_type": "stream",
          "text": [
            "i의 값은 :  0\n",
            "i의 값은 :  1\n",
            "i의 값은 :  2\n"
          ]
        }
      ],
      "source": [
        "for i in range(3):\n",
        "  print(\"i의 값은 : \",i)"
      ]
    },
    {
      "cell_type": "markdown",
      "metadata": {
        "id": "JrGY3LipC7__"
      },
      "source": [
        "\n",
        "* `range(n, m)`: `n`부터 `m-1`까지 총 `m-n`회 반복됩니다.\n",
        "\n",
        "```\n",
        "for i in range(3, 6):\n",
        "  print(i)\n",
        "```\n"
      ]
    },
    {
      "cell_type": "code",
      "execution_count": null,
      "metadata": {
        "colab": {
          "base_uri": "https://localhost:8080/"
        },
        "id": "Per7lcYxC6am",
        "outputId": "c71ceeda-b7ea-422e-f8d5-0d7376939b4c"
      },
      "outputs": [
        {
          "name": "stdout",
          "output_type": "stream",
          "text": [
            "3\n",
            "4\n",
            "5\n",
            "6\n",
            "7\n",
            "8\n",
            "9\n",
            "10\n",
            "11\n"
          ]
        }
      ],
      "source": [
        "for i in range(3,12): #시작값과 끝값을 정할수 있다\n",
        "  print(i)"
      ]
    },
    {
      "cell_type": "markdown",
      "metadata": {
        "id": "CEn0LJkdC9tN"
      },
      "source": [
        "\n",
        "* `range(n, m, s)`: `n`부터 `m-1`까지 `s`씩 건너뛰며 반복됩니다.\n",
        "\n",
        "```\n",
        "for i in range(3, 10, 2):\n",
        "  print(i)\n",
        "```\n"
      ]
    },
    {
      "cell_type": "code",
      "execution_count": null,
      "metadata": {
        "colab": {
          "base_uri": "https://localhost:8080/"
        },
        "id": "alTQiW14C8ze",
        "outputId": "c4d0f9eb-b850-4d59-d48c-71648be10780"
      },
      "outputs": [
        {
          "name": "stdout",
          "output_type": "stream",
          "text": [
            "3\n",
            "6\n",
            "9\n"
          ]
        }
      ],
      "source": [
        "for i in range(3, 10, 3): #맨뒤에 숫자가 step, 얼마만큼 뛰는지를 정한다\n",
        "  print(i)"
      ]
    },
    {
      "cell_type": "markdown",
      "metadata": {
        "id": "uJyYo462C_rJ"
      },
      "source": [
        "### **(2) 함수와 함께 쓰는 for문**\n",
        "\n",
        "\n",
        "함수도 반복해서 실행시켜야 할 경우 for문을 통해서 작성할 수 있습니다.\n",
        "\n",
        "```\n",
        "def my_func(n):\n",
        "  print(n, \"을 출력하는 함수입니다\")\n",
        "\n",
        "for i in range(3):\n",
        "  my_func(i)\n",
        "```"
      ]
    },
    {
      "cell_type": "code",
      "execution_count": null,
      "metadata": {
        "colab": {
          "base_uri": "https://localhost:8080/"
        },
        "id": "AUXD8Wj1C-nd",
        "outputId": "fc3ef950-bfd7-45ec-8e92-96eca8ee7e90"
      },
      "outputs": [
        {
          "data": {
            "text/plain": [
              "[1, 4, 9, 16, 25]"
            ]
          },
          "execution_count": 15,
          "metadata": {},
          "output_type": "execute_result"
        }
      ],
      "source": [
        "def square(x):\n",
        "  return x**2\n",
        "list(map(square, [1,2,3,4,5]))"
      ]
    },
    {
      "cell_type": "code",
      "execution_count": null,
      "metadata": {
        "colab": {
          "base_uri": "https://localhost:8080/"
        },
        "id": "ABL9yZ_Ljq4h",
        "outputId": "3a131351-e38d-489d-e188-00d0f843a18a"
      },
      "outputs": [
        {
          "name": "stdout",
          "output_type": "stream",
          "text": [
            "[1, 4, 9, 16, 25]\n"
          ]
        }
      ],
      "source": [
        "l=[] # for 문 없이 하면 이런식으로 쓸수 있다 \n",
        "for x in [1,2,3,4,5]:\n",
        "  l.append(square(x))\n",
        "print(l)"
      ]
    },
    {
      "cell_type": "markdown",
      "metadata": {
        "id": "69DKCow2DDbM"
      },
      "source": [
        "### **(3) if문과 함께 쓰는 for문**\n",
        "\n",
        "for문 아래에 조건을 주어 특정 변수가 입력될 때만 코드를 실행할 수 있습니다. \n",
        "\n",
        "```\n",
        "for i in range(3): # i는 0,1,2 세번 반복\n",
        "  print('i의 값은:', i) # 세번 이 코드를 실행\n",
        "  if i>0: # 세번 반복 중에 i가 0보다 크면\n",
        "    print('if문: i가 0보다 큽니다') # 이 코드를 실행\n",
        "```\n"
      ]
    },
    {
      "cell_type": "code",
      "execution_count": null,
      "metadata": {
        "colab": {
          "base_uri": "https://localhost:8080/"
        },
        "id": "UQFMVQ6eDBxF",
        "outputId": "a84de681-be0f-4338-e03d-54859c02459d"
      },
      "outputs": [
        {
          "name": "stdout",
          "output_type": "stream",
          "text": [
            "1\n",
            "4\n",
            "9\n",
            "16\n",
            "25\n"
          ]
        }
      ],
      "source": [
        "for x in [1,2,3,4,5]:\n",
        "  print(square(x))"
      ]
    },
    {
      "cell_type": "markdown",
      "metadata": {
        "id": "eM4qjvU4DHTs"
      },
      "source": [
        "#### 다음반복으로 건너뛰기\n",
        "\n",
        "* `continue`\n",
        "\n",
        "`for문` 안에서 `continue`를 만나면 즉시 다음 반복으로 넘어갑니다. `continue` 아래에 있는 `for문` 코드들은 진행되지 않습니다. \n",
        "\n",
        "```\n",
        "for i in range(5): # i는 0~4 반복\n",
        "  print(f'-----\\n{i}번째 루프 시작') # 반복해서 이 코드를 실행\n",
        "  if i>=2: # 만약 i가 2 이상이면\n",
        "    continue # 다음 반복으로 넘어간다.\n",
        "  print(f'{i}번째 루프 끝') # 반복해서 이 코드를 실행\n",
        "```\n"
      ]
    },
    {
      "cell_type": "code",
      "execution_count": null,
      "metadata": {
        "colab": {
          "base_uri": "https://localhost:8080/"
        },
        "id": "LOM6pXc8kcCp",
        "outputId": "d163e49c-6541-4ded-cd0a-b8827f7e0330"
      },
      "outputs": [
        {
          "name": "stdout",
          "output_type": "stream",
          "text": [
            "3\n",
            "4\n"
          ]
        }
      ],
      "source": [
        "for i in range(5):\n",
        "  if i<3:continue\n",
        "  print(i)"
      ]
    },
    {
      "cell_type": "code",
      "execution_count": null,
      "metadata": {
        "colab": {
          "base_uri": "https://localhost:8080/"
        },
        "id": "Ykl1kjbDDGKv",
        "outputId": "fcfa992a-8d72-4d55-9d7b-01856bf578a6"
      },
      "outputs": [
        {
          "name": "stdout",
          "output_type": "stream",
          "text": [
            "0\n",
            "1\n",
            "0보다 크다.\n",
            "2\n",
            "0보다 크다.\n",
            "3\n",
            "0보다 크다.\n",
            "4\n",
            "0보다 크다.\n",
            "for 문이 끝났을때\n"
          ]
        }
      ],
      "source": [
        "for i in range(5):\n",
        "  print(i)\n",
        "  if i>0:\n",
        "    print('0보다 크다.')\n",
        "print(\"for 문이 끝났을때\")"
      ]
    },
    {
      "cell_type": "markdown",
      "metadata": {
        "id": "_HLQ7huuDLl3"
      },
      "source": [
        "코드에서 `i`가 2이상일때 `continue`를 만나기 때문에 if문 바깥의 `(f'{i}번째 루프 끝')` 코드가 실행되지 않습니다. 그렇기 때문에 2번째 루프 부터는 끝이라는 출력이 보이지 않네요."
      ]
    },
    {
      "cell_type": "markdown",
      "metadata": {
        "id": "UFYB6MgHDM6D"
      },
      "source": [
        "#### **for문을 즉시 종료하기**  \n",
        "\n",
        "* `break`\n",
        "\n",
        "`for문` 안에서 `break` 을 만나면 즉시 `for문`이 종료됩니다. (모든 루프가 돌아가지 않았어도)\n",
        "\n",
        "```\n",
        "for i in range(5): # i는 0~4 반복\n",
        "  print(f'-----\\n{i}번째 루프 시작') # 반복해서 이 코드를 실행\n",
        "  if i>=2: # 만약 i가 2 이상이면\n",
        "    break # 즉시 for문 종료\n",
        "  print(f'{i}번째 루프 끝') # 반복해서 이 코드를 실행\n",
        "```"
      ]
    },
    {
      "cell_type": "code",
      "execution_count": null,
      "metadata": {
        "colab": {
          "base_uri": "https://localhost:8080/"
        },
        "id": "iiI9RapDDJqQ",
        "outputId": "479126bd-f814-4b7c-952c-4a131f56503e"
      },
      "outputs": [
        {
          "name": "stdout",
          "output_type": "stream",
          "text": [
            "0\n",
            "--\n",
            "1\n",
            "--\n",
            "2\n"
          ]
        }
      ],
      "source": [
        "for i in range(5):\n",
        "  print(i)\n",
        "  if i==2: break\n",
        "  print('--') #break 한 순간 밑의 함수는 안나온다"
      ]
    },
    {
      "cell_type": "markdown",
      "metadata": {
        "id": "fbzgJuHCDS-G"
      },
      "source": [
        "`if문`의 조건을 만족하여 `break`을 만나는 순간 `for문`이 종료되고, 다음 루프가 실행조차 되지 않습니다. 따라서 2번째 루프가 시작된 후 다음 코드들은 보이지 않네요.\n"
      ]
    },
    {
      "cell_type": "markdown",
      "metadata": {
        "id": "haxPKRHqFCgX"
      },
      "source": [
        "### **(4) for문을 더 효율적으로 사용하기**\n",
        "\n",
        "for문은 파이썬에서 아주 유용하게 사용되는 문법입니다. 그러다 보니 좀 더 효율적으로 사용하는 방법에 대해 알고 있는것이 매우 도움이 됩니다.\n"
      ]
    },
    {
      "cell_type": "markdown",
      "metadata": {
        "id": "ALu7TgjkFEiN"
      },
      "source": [
        "\n",
        "#### **두개의 sequence를 함께 나열하기**\n",
        "\n",
        "* `zip`  \n",
        "\n",
        "`zip`을 이용해서 두개의 sequence를 순차적으로 함께 나타낼 수 있습니다. 사용 문법을 잘 숙지해 둡시다.\n",
        "\n",
        "```\n",
        "list1 = [\"A\",\"B\",\"C\"]\n",
        "list2 = [\"a\", \"b\", \"c\"]\n",
        "for i1, i2 in zip(list1,list2):\n",
        "  print(f'list1: {i1}, list2: {i2}')\n",
        "```\n"
      ]
    },
    {
      "cell_type": "code",
      "execution_count": null,
      "metadata": {
        "colab": {
          "base_uri": "https://localhost:8080/"
        },
        "id": "JXYWpAdhDRFt",
        "outputId": "58ac5b47-9af4-4a49-8b00-a07daa90d55b"
      },
      "outputs": [
        {
          "name": "stdout",
          "output_type": "stream",
          "text": [
            "A a\n",
            "B b\n",
            "C c\n"
          ]
        }
      ],
      "source": [
        "list1 = [\"A\",\"B\",\"C\"]\n",
        "list2 = [\"a\", \"b\", \"c\"]\n",
        "\n",
        "for l1,l2 in zip(list1,list2):\n",
        "  print(l1,l2)"
      ]
    },
    {
      "cell_type": "markdown",
      "metadata": {
        "id": "Zz_c1lJYHP01"
      },
      "source": [
        "#### **순번을 함께 나열하기**\n",
        "\n",
        "* `enumerate`  \n",
        "\n",
        "`for문` 내에서 변수의 값은 항상 `sequence`에 의해서 정해집니다. 절대적인 순번(0, 1, 2, 등)을 같이 변수로 바인딩하고 싶다면 `enumerate`를 사용합니다. \n",
        "\n",
        "```\n",
        "list1 = [\"A\",\"B\",\"C\"]\n",
        "for idx, i in enumerate(list1):\n",
        "  print( f'idx: {idx}, i: {i}')\n",
        "```"
      ]
    },
    {
      "cell_type": "code",
      "execution_count": null,
      "metadata": {
        "colab": {
          "base_uri": "https://localhost:8080/"
        },
        "id": "APDyAy_CFIan",
        "outputId": "b063edf9-3270-4a6d-840a-0c1e09965c10"
      },
      "outputs": [
        {
          "name": "stdout",
          "output_type": "stream",
          "text": [
            "0 A\n",
            "1 B\n",
            "2 C\n"
          ]
        }
      ],
      "source": [
        "for i, a in enumerate(list1):\n",
        "  print(i,a)"
      ]
    },
    {
      "cell_type": "markdown",
      "metadata": {
        "id": "aeMCCH2LHXDS"
      },
      "source": [
        "### (5) 다중 for문\n",
        "\n",
        "for문 아래 for문을 또 추가 할 수 있습니다. 다만 다중 for문일 때 코드의 작동순서를 잘 파악할 필요가 있습니다. 삼중, 사중 for문도 구현은 가능합니다. 하지만 for문이 추가될때마다 계산량이 급격히 증가하기 때문에 되도록이면 이중 for문을 넘어가지 않는것이 좋습니다.\n",
        "\n",
        "```\n",
        "for i in range(3):\n",
        "  for j in range(3):\n",
        "    print(f\"i: {i}, j:{j}\")\n",
        "```"
      ]
    },
    {
      "cell_type": "code",
      "execution_count": null,
      "metadata": {
        "colab": {
          "base_uri": "https://localhost:8080/"
        },
        "id": "sYUzu5AcHgEF",
        "outputId": "f78ba5f7-da3e-4841-f119-3f5c17dcef15"
      },
      "outputs": [
        {
          "name": "stdout",
          "output_type": "stream",
          "text": [
            "i: 0, j:0\n",
            "i: 0, j:1\n",
            "i: 0, j:2\n",
            "i: 1, j:0\n",
            "i: 1, j:1\n",
            "i: 1, j:2\n"
          ]
        }
      ],
      "source": [
        "for i in range(2):\n",
        "  for j in range(3):\n",
        "    print(f\"i: {i}, j:{j}\")"
      ]
    },
    {
      "cell_type": "markdown",
      "metadata": {
        "id": "9t530iSZHdQ9"
      },
      "source": [
        "코드가 아직 익숙하지 않은 상태에서 다중 for문을 보면 해석하기 어려울 수 있습니다. 이것저것 변수를 건드려보고, 출력을 바꾸면서 최대한 익숙해지도록 하는 것이 좋습니다. 아래 코드가 어떻게 나올지 예상해보고 출력해 봅시다.\n"
      ]
    },
    {
      "cell_type": "markdown",
      "metadata": {
        "id": "E6O8MHx_HeH4"
      },
      "source": [
        "```\n",
        "for i in range(1, 6):\n",
        "    print(i, end=\": \")\n",
        "    for j in range(1, 11):        \n",
        "        print(j, end=\" \")\n",
        "    print()\n",
        "```"
      ]
    },
    {
      "cell_type": "code",
      "source": [
        "for i in range(1, 6):\n",
        "  print(i, end=\": \")"
      ],
      "metadata": {
        "colab": {
          "base_uri": "https://localhost:8080/"
        },
        "id": "vn6acWOQ0wMr",
        "outputId": "290ef25b-e7c4-491f-a61d-4f144171dc23"
      },
      "execution_count": 111,
      "outputs": [
        {
          "output_type": "stream",
          "name": "stdout",
          "text": [
            "1: 2: 3: 4: 5: "
          ]
        }
      ]
    },
    {
      "cell_type": "code",
      "source": [
        "for j in range(1, 11):\n",
        "  print(j, end=\" \")"
      ],
      "metadata": {
        "colab": {
          "base_uri": "https://localhost:8080/"
        },
        "id": "1KKwAfWt00BM",
        "outputId": "38430b52-b3a6-4ada-aa23-730f8ac77ac8"
      },
      "execution_count": 112,
      "outputs": [
        {
          "output_type": "stream",
          "name": "stdout",
          "text": [
            "1 2 3 4 5 6 7 8 9 10 "
          ]
        }
      ]
    },
    {
      "cell_type": "code",
      "source": [
        "for i in range(1, 6):\n",
        "  print(i, end=\": \")\n",
        "  for j in range(1, 11):\n",
        "    print(j, end=\" \")\n",
        "  print()"
      ],
      "metadata": {
        "colab": {
          "base_uri": "https://localhost:8080/"
        },
        "id": "ZfsiGLbw06ej",
        "outputId": "3c2a830b-41e0-4c4c-ead5-c5a33bd175e4"
      },
      "execution_count": 114,
      "outputs": [
        {
          "output_type": "stream",
          "name": "stdout",
          "text": [
            "1: 1 2 3 4 5 6 7 8 9 10 \n",
            "2: 1 2 3 4 5 6 7 8 9 10 \n",
            "3: 1 2 3 4 5 6 7 8 9 10 \n",
            "4: 1 2 3 4 5 6 7 8 9 10 \n",
            "5: 1 2 3 4 5 6 7 8 9 10 \n"
          ]
        }
      ]
    },
    {
      "cell_type": "code",
      "execution_count": null,
      "metadata": {
        "colab": {
          "base_uri": "https://localhost:8080/"
        },
        "id": "LHKNGIVSHWBe",
        "outputId": "e9ea715f-4448-4cfd-eb00-485df68b1279"
      },
      "outputs": [
        {
          "name": "stdout",
          "output_type": "stream",
          "text": [
            "1: 1 2 3 4 5 6 7 8 9 10 \n",
            "2: 1 2 3 4 5 6 7 8 9 10 \n",
            "3: 1 2 3 4 5 6 7 8 9 10 \n",
            "4: 1 2 3 4 5 6 7 8 9 10 \n",
            "5: 1 2 3 4 5 6 7 8 9 10 \n"
          ]
        }
      ],
      "source": [
        "for i in range(1, 6):\n",
        "    print(i, end=\": \")\n",
        "    for j in range(1, 11):        \n",
        "        print(j, end=\" \")\n",
        "    print()"
      ]
    },
    {
      "cell_type": "markdown",
      "metadata": {
        "id": "e4nbXqwipCK3"
      },
      "source": [
        "### (6) 리스트 안에 for문 쓰기"
      ]
    },
    {
      "cell_type": "code",
      "execution_count": null,
      "metadata": {
        "colab": {
          "base_uri": "https://localhost:8080/"
        },
        "id": "hNfY-BULpH_P",
        "outputId": "0a687827-7ebf-408e-db9d-944a508ed487"
      },
      "outputs": [
        {
          "data": {
            "text/plain": [
              "[0, 1, 2, 3, 4, 5, 6, 7, 8, 9]"
            ]
          },
          "execution_count": 43,
          "metadata": {},
          "output_type": "execute_result"
        }
      ],
      "source": [
        "list(range(10))"
      ]
    },
    {
      "cell_type": "code",
      "execution_count": null,
      "metadata": {
        "colab": {
          "base_uri": "https://localhost:8080/"
        },
        "id": "RHSL7UkjpSA6",
        "outputId": "e8d61a03-fd93-4d00-d817-4b5982d05176"
      },
      "outputs": [
        {
          "data": {
            "text/plain": [
              "[0, 1, 2, 3, 4, 5, 6, 7, 8, 9]"
            ]
          },
          "execution_count": 46,
          "metadata": {},
          "output_type": "execute_result"
        }
      ],
      "source": [
        "l=[]\n",
        "for i in range(10):\n",
        "  l.append(i)\n",
        "l"
      ]
    },
    {
      "cell_type": "code",
      "execution_count": null,
      "metadata": {
        "colab": {
          "base_uri": "https://localhost:8080/"
        },
        "id": "DvFjAVVFpeBZ",
        "outputId": "d78bfa0c-ce9c-4231-c8b0-38cd13fec811"
      },
      "outputs": [
        {
          "data": {
            "text/plain": [
              "[10, 11, 12, 13, 14, 15, 16, 17, 18, 19]"
            ]
          },
          "execution_count": 50,
          "metadata": {},
          "output_type": "execute_result"
        }
      ],
      "source": [
        "l=[i+10 for i in range(10)]\n",
        "l"
      ]
    },
    {
      "cell_type": "code",
      "execution_count": null,
      "metadata": {
        "colab": {
          "base_uri": "https://localhost:8080/"
        },
        "id": "EinJzc32p4gP",
        "outputId": "f041bac2-ae5f-4fa8-ce57-93bc6e7238a4"
      },
      "outputs": [
        {
          "data": {
            "text/plain": [
              "[0, 0, 1, 1, 2, 2, 3, 3, 4, 4]"
            ]
          },
          "execution_count": 52,
          "metadata": {},
          "output_type": "execute_result"
        }
      ],
      "source": [
        "l=[i for i in range(5) for j in range(2)]\n",
        "l"
      ]
    },
    {
      "cell_type": "markdown",
      "metadata": {
        "id": "8Rb4NNbKHiLD"
      },
      "source": [
        "## 문제풀이\n",
        "---"
      ]
    },
    {
      "cell_type": "markdown",
      "metadata": {
        "id": "xOsqfbd9HmQh"
      },
      "source": [
        "아래와 같이 리스트를 정의하세요.\n",
        "\n",
        "```\n",
        "my_list = [\"apple\", \"blue\", \"cup\", \"door\"]\n",
        "```\n"
      ]
    },
    {
      "cell_type": "code",
      "execution_count": null,
      "metadata": {
        "id": "kT4FCjRCHzUP"
      },
      "outputs": [],
      "source": [
        "my_list=[\"apple\",\"blue\",\"cup\",\"door\"]"
      ]
    },
    {
      "cell_type": "markdown",
      "metadata": {
        "id": "lrpQEjSPHsq2"
      },
      "source": [
        "**예제 01**\n",
        "\n",
        "\n",
        "아래 실행 결과를 내는 코드를 `for문`과 `my_list`를 이용하여 작성하세요\n",
        "\n",
        "```{.no-highlight}\n",
        "It's apple\n",
        "It's blue\n",
        "It's cup\n",
        "It's door\n",
        "```"
      ]
    },
    {
      "cell_type": "code",
      "execution_count": null,
      "metadata": {
        "colab": {
          "base_uri": "https://localhost:8080/"
        },
        "id": "kY0jptRtHfu1",
        "outputId": "1b6c72af-60ec-4d67-d3d5-843e1c8524f6"
      },
      "outputs": [
        {
          "name": "stdout",
          "output_type": "stream",
          "text": [
            "it's apple\n",
            "it's blue\n",
            "it's cup\n",
            "it's door\n"
          ]
        }
      ],
      "source": [
        "for i in my_list:\n",
        "  print(\"it's\",i)"
      ]
    },
    {
      "cell_type": "markdown",
      "metadata": {
        "id": "EMiIhII_H1-l"
      },
      "source": [
        "**예제 02** \n",
        "\n",
        "아래 실행 결과를 내는 코드를 `for문`과 `range`를 이용해서 작성하세요\n",
        "\n",
        "```{.no-highlight}\n",
        "It's apple\n",
        "It's blue\n",
        "It's cup\n",
        "It's door\n",
        "```\n"
      ]
    },
    {
      "cell_type": "code",
      "execution_count": null,
      "metadata": {
        "colab": {
          "base_uri": "https://localhost:8080/"
        },
        "id": "2Z5FlkORH4k6",
        "outputId": "877faf32-39f7-46e7-906c-af44904d0a77"
      },
      "outputs": [
        {
          "name": "stdout",
          "output_type": "stream",
          "text": [
            "it's apple\n",
            "it's blue\n",
            "it's cup\n",
            "it's door\n"
          ]
        }
      ],
      "source": [
        "for i in range(4):\n",
        "  print(\"it's\",my_list[i])"
      ]
    },
    {
      "cell_type": "markdown",
      "metadata": {
        "id": "RupJUdtSH52T"
      },
      "source": [
        "**예제 03** \n",
        "\n",
        "아래 실행 결과를 내는 코드를 작성하세요\n",
        "\n",
        "```{.no-highlight}\n",
        "-------\n",
        "start!\n",
        "It's apple\n",
        "It's blue\n",
        "It's cup\n",
        "It's door\n",
        "-------\n",
        "```"
      ]
    },
    {
      "cell_type": "code",
      "execution_count": null,
      "metadata": {
        "colab": {
          "base_uri": "https://localhost:8080/"
        },
        "id": "MJr9wmzoH6kV",
        "outputId": "f5676c8b-dfe2-46d4-9d4b-4904141464a9"
      },
      "outputs": [
        {
          "name": "stdout",
          "output_type": "stream",
          "text": [
            "-------\n",
            "start!\n",
            "it's apple\n",
            "it's blue\n",
            "it's cup\n",
            "it's door\n",
            "-------\n"
          ]
        }
      ],
      "source": [
        "print('-------')\n",
        "print('start!')\n",
        "for i in my_list:\n",
        "  print(\"it's\",i)\n",
        "print('-------')"
      ]
    },
    {
      "cell_type": "markdown",
      "metadata": {
        "id": "_4sajqBiH7Ws"
      },
      "source": [
        "**예제 04** \n",
        "\n",
        "아래 실행 결과를 내는 코드를 작성하세요\n",
        "\n",
        "\n",
        "```{.no-highlight}\n",
        "-------\n",
        "start!\n",
        "-------\n",
        "It's apple\n",
        "-------\n",
        "It's blue\n",
        "-------\n",
        "It's cup\n",
        "-------\n",
        "It's door\n",
        "end!\n",
        "-------\n",
        "```"
      ]
    },
    {
      "cell_type": "code",
      "execution_count": null,
      "metadata": {
        "colab": {
          "base_uri": "https://localhost:8080/"
        },
        "id": "JbjKVMsxH96v",
        "outputId": "56bd1da7-4a7b-43b3-eebe-2a05f36b18f0"
      },
      "outputs": [
        {
          "name": "stdout",
          "output_type": "stream",
          "text": [
            "-------\n",
            "start!\n",
            "-------\n",
            "it's apple\n",
            "-------\n",
            "it's blue\n",
            "-------\n",
            "it's cup\n",
            "-------\n",
            "it's door\n",
            "end!\n",
            "-------\n"
          ]
        }
      ],
      "source": [
        "print('-------')\n",
        "print('start!')\n",
        "print('-------')\n",
        "for i in range(4):\n",
        "  print(\"it's\",my_list[i])\n",
        "  if i==3:break\n",
        "  print('-------')\n",
        "print(\"end!\")\n",
        "print('-------')"
      ]
    },
    {
      "cell_type": "markdown",
      "metadata": {
        "id": "pmWXw1f7H_-0"
      },
      "source": [
        "\n",
        "**예제 05** \n",
        "\n",
        "아래 실행 결과를 내는 코드를 작성하세요\n",
        "\n",
        "```{.no-highlight}\n",
        "a is apple\n",
        "-------\n",
        "b is blue\n",
        "-------\n",
        "c is cup\n",
        "-------\n",
        "d is door\n",
        "-------\n",
        "```"
      ]
    },
    {
      "cell_type": "code",
      "execution_count": null,
      "metadata": {
        "colab": {
          "base_uri": "https://localhost:8080/"
        },
        "id": "ANwJwi6QIBWc",
        "outputId": "5f30b333-0271-4fd4-a037-5d401d4d1939"
      },
      "outputs": [
        {
          "name": "stdout",
          "output_type": "stream",
          "text": [
            "a is apple\n",
            "-------\n",
            "b is blue\n",
            "-------\n",
            "c is cup\n",
            "-------\n",
            "d is door\n",
            "-------\n"
          ]
        }
      ],
      "source": [
        "for i in my_list:\n",
        "  print(i[0],\"is\",i)\n",
        "  print('-------')"
      ]
    },
    {
      "cell_type": "markdown",
      "metadata": {
        "id": "I8ykoYNGICPR"
      },
      "source": [
        "**예제 06** \n",
        "\n",
        "아래 실행 결과를 내는 코드를 작성하세요\n",
        "\n",
        "```{.no-highlight}\n",
        "Apple\n",
        "Blue\n",
        "Cup\n",
        "Door\n",
        "```\n"
      ]
    },
    {
      "cell_type": "code",
      "execution_count": null,
      "metadata": {
        "colab": {
          "base_uri": "https://localhost:8080/"
        },
        "id": "VJrCVewYIDR2",
        "outputId": "4fa65e81-8e78-4b22-913e-9e97f50f2155"
      },
      "outputs": [
        {
          "name": "stdout",
          "output_type": "stream",
          "text": [
            "Apple\n",
            "Blue\n",
            "Cup\n",
            "Door\n"
          ]
        }
      ],
      "source": [
        "for i in my_list:\n",
        "  print(i.capitalize())"
      ]
    },
    {
      "cell_type": "markdown",
      "metadata": {
        "id": "NxTLfkw2IEZp"
      },
      "source": [
        "\n",
        "**예제 07** \n",
        "\n",
        "아래 실행 결과를 내는 코드를 작성하세요\n",
        "\n",
        "```{.no-highlight}\n",
        "Apple len: 5 \n",
        "Blue len: 4\n",
        "Cup len: 3\n",
        "Door len: 4\n",
        "```\n"
      ]
    },
    {
      "cell_type": "code",
      "execution_count": null,
      "metadata": {
        "colab": {
          "base_uri": "https://localhost:8080/"
        },
        "id": "M1xP6KMNIFhX",
        "outputId": "1733ffe3-2006-4551-9090-fbc2b6f35c18"
      },
      "outputs": [
        {
          "name": "stdout",
          "output_type": "stream",
          "text": [
            "Apple len: 5\n",
            "Blue len: 4\n",
            "Cup len: 3\n",
            "Door len: 4\n"
          ]
        }
      ],
      "source": [
        "for i in my_list:\n",
        "  print(i.capitalize(),\"len:\",len(i))"
      ]
    },
    {
      "cell_type": "markdown",
      "metadata": {
        "id": "dEYLHxsyIGXV"
      },
      "source": [
        "**예제 08** \n",
        "\n",
        "아래 실행 결과를 내는 코드를 작성하세요\n",
        "\n",
        "```{.no-highlight}\n",
        "0. apple  \n",
        "1. blue \n",
        "2. cup \n",
        "3. door \n",
        "```"
      ]
    },
    {
      "cell_type": "code",
      "execution_count": null,
      "metadata": {
        "colab": {
          "base_uri": "https://localhost:8080/"
        },
        "id": "O-I1qZJbIHEs",
        "outputId": "b6b086ef-3ca5-463f-b190-582ec175d282"
      },
      "outputs": [
        {
          "name": "stdout",
          "output_type": "stream",
          "text": [
            "0. apple\n",
            "1. blue\n",
            "2. cup\n",
            "3. door\n"
          ]
        }
      ],
      "source": [
        "for i in range(4):\n",
        "  print(i,\". \",my_list[i],sep='')"
      ]
    },
    {
      "cell_type": "markdown",
      "metadata": {
        "id": "93edVmbzIIFF"
      },
      "source": [
        "**예제 09** \n",
        "\n",
        "아래 실행 결과를 내는 코드를 작성하세요\n",
        "\n",
        "```{.no-highlight}\n",
        "00. apple  \n",
        "01. blue \n",
        "02. cup \n",
        "03. door \n",
        "```"
      ]
    },
    {
      "cell_type": "code",
      "execution_count": null,
      "metadata": {
        "colab": {
          "base_uri": "https://localhost:8080/"
        },
        "id": "SM4OXF9EIIzt",
        "outputId": "2983c981-a2b6-42c7-e9c4-eec4c107b21a"
      },
      "outputs": [
        {
          "name": "stdout",
          "output_type": "stream",
          "text": [
            "00. apple\n",
            "01. blue\n",
            "02. cup\n",
            "03. door\n"
          ]
        }
      ],
      "source": [
        "for i in range(4):\n",
        "  print(\"0\",i,\". \",my_list[i],sep='')"
      ]
    },
    {
      "cell_type": "markdown",
      "metadata": {
        "id": "LtypkJvFIJ4E"
      },
      "source": [
        "**예제 10** \n",
        "\n",
        "`my_list2`가 다음과 같이 주어졌을 때 위에서 만든 `my_list`와 `my_list2`를 이용하여 아래와 같은 결과를 내는 코드를 작성하세요\n",
        "\n",
        "```\n",
        "my_list2 = [\"red\",\"corona\",\"mug\",\"oppen\"]\n",
        "```\n",
        "\n",
        "```\n",
        "Red apple\n",
        "Corona blue\n",
        "Mug cup\n",
        "Oppen d\n",
        "```\n"
      ]
    },
    {
      "cell_type": "code",
      "execution_count": null,
      "metadata": {
        "id": "Vmyf0AiaIKYl"
      },
      "outputs": [],
      "source": [
        "my_list=[\"apple\",\"blue\",\"cup\",\"door\"]\n",
        "my_list2 = [\"red\",\"corona\",\"mug\",\"oppen\"]"
      ]
    },
    {
      "cell_type": "code",
      "execution_count": null,
      "metadata": {
        "colab": {
          "base_uri": "https://localhost:8080/"
        },
        "id": "IkJ-A_34viOV",
        "outputId": "c092ad75-2624-4cae-f32a-a8cce0ae97cc"
      },
      "outputs": [
        {
          "name": "stdout",
          "output_type": "stream",
          "text": [
            "Red apple\n",
            "Corona blue\n",
            "Mug cup\n",
            "Oppen door\n"
          ]
        }
      ],
      "source": [
        "for i1, i2 in zip(my_list,my_list2):\n",
        "  print(f'{i2.capitalize()} {i1}')"
      ]
    },
    {
      "cell_type": "markdown",
      "metadata": {
        "id": "ts1p9xkqKJPL"
      },
      "source": [
        "**예제 11** \n",
        "\n",
        "구구단을 호출하는 함수를 만드세요\n",
        "\n",
        "\n",
        "```\n",
        ">> gugudan(5)\n",
        "5 * 1 = 5\n",
        "5 * 2 = 10\n",
        "5 * 3 = 15\n",
        "5 * 4 = 20\n",
        "5 * 5 = 25\n",
        "5 * 6 = 30\n",
        "5 * 7 = 35\n",
        "5 * 8 = 40\n",
        "5 * 9 = 45\n",
        "```\n"
      ]
    },
    {
      "cell_type": "code",
      "execution_count": null,
      "metadata": {
        "colab": {
          "base_uri": "https://localhost:8080/"
        },
        "id": "5G91rUwKxtfm",
        "outputId": "83284738-df29-407f-cec6-2e0f116d9f2a"
      },
      "outputs": [
        {
          "name": "stdout",
          "output_type": "stream",
          "text": [
            "0\n",
            "1\n",
            "2\n",
            "3\n",
            "4\n",
            "5\n",
            "6\n",
            "7\n",
            "8\n",
            "9\n"
          ]
        }
      ],
      "source": [
        "for i in range(10):\n",
        "  print(i)"
      ]
    },
    {
      "cell_type": "code",
      "execution_count": null,
      "metadata": {
        "colab": {
          "base_uri": "https://localhost:8080/"
        },
        "id": "dOjMwO7TKNH1",
        "outputId": "02b26238-c140-4d68-b76b-e7e0add8932a"
      },
      "outputs": [
        {
          "name": "stdout",
          "output_type": "stream",
          "text": [
            "5 * 1 = 5\n",
            "5 * 2 = 10\n",
            "5 * 3 = 15\n",
            "5 * 4 = 20\n",
            "5 * 5 = 25\n",
            "5 * 6 = 30\n",
            "5 * 7 = 35\n",
            "5 * 8 = 40\n",
            "5 * 9 = 45\n"
          ]
        }
      ],
      "source": [
        "def gugudan(a):\n",
        "  for i in range(1,10):\n",
        "    print(a,\"*\",i,\"=\",a*i)\n",
        "gugudan(5)"
      ]
    },
    {
      "cell_type": "markdown",
      "metadata": {
        "id": "T9gPPxKVKOYL"
      },
      "source": [
        "**예제 12** \n",
        "\n",
        "이중 for문을 이용하여 아래와 똑같이 출력하는 코드를 작성하세요\n",
        "\n",
        "```{.no-highlight}\n",
        "1 2 3 4 5 6 7 8 9 10\n",
        "1 2 3 4 5 6 7 8 9 10\n",
        "1 2 3 4 5 6 7 8 9 10\n",
        "1 2 3 4 5 6 7 8 9 10\n",
        "1 2 3 4 5 6 7 8 9 10 \n",
        "1 2 3 4 5 6 7 8 9 10 \n",
        "1 2 3 4 5 6 7 8 9 10\n",
        "```\n"
      ]
    },
    {
      "cell_type": "code",
      "source": [
        "for i in range(1, 6):\n",
        "    print(i, end=\": \")\n",
        "    for j in range(1, 11):        \n",
        "        print(j, end=\" \")\n",
        "    print()"
      ],
      "metadata": {
        "colab": {
          "base_uri": "https://localhost:8080/"
        },
        "id": "6UwPSlR415Tr",
        "outputId": "95c3c969-d978-4dcc-9646-2767d36c057b"
      },
      "execution_count": 115,
      "outputs": [
        {
          "output_type": "stream",
          "name": "stdout",
          "text": [
            "1: 1 2 3 4 5 6 7 8 9 10 \n",
            "2: 1 2 3 4 5 6 7 8 9 10 \n",
            "3: 1 2 3 4 5 6 7 8 9 10 \n",
            "4: 1 2 3 4 5 6 7 8 9 10 \n",
            "5: 1 2 3 4 5 6 7 8 9 10 \n"
          ]
        }
      ]
    },
    {
      "cell_type": "code",
      "source": [
        "for i in range(1,8):\n",
        "  for j in range(1,11):\n",
        "    print(j,end=\" \")\n",
        "  print()"
      ],
      "metadata": {
        "colab": {
          "base_uri": "https://localhost:8080/"
        },
        "id": "vxgaJ0L3zbTr",
        "outputId": "e0c5679e-b535-4a99-abb4-72bfa93fc5b2"
      },
      "execution_count": 119,
      "outputs": [
        {
          "output_type": "stream",
          "name": "stdout",
          "text": [
            "1 2 3 4 5 6 7 8 9 10 \n",
            "1 2 3 4 5 6 7 8 9 10 \n",
            "1 2 3 4 5 6 7 8 9 10 \n",
            "1 2 3 4 5 6 7 8 9 10 \n",
            "1 2 3 4 5 6 7 8 9 10 \n",
            "1 2 3 4 5 6 7 8 9 10 \n",
            "1 2 3 4 5 6 7 8 9 10 \n"
          ]
        }
      ]
    },
    {
      "cell_type": "markdown",
      "metadata": {
        "id": "4rEKTyo7QLUM"
      },
      "source": [
        "**예제 13** \n",
        "\n",
        "이중 for문을 이용하여 아래와 똑같이 출력하는 코드를 작성하세요\n",
        "\n",
        "```{.no-highlight}\n",
        "1 2 3 4 5 6 \n",
        "1 2 3 4 5 6 \n",
        "1 2 3 4 5 6 \n",
        "1 2 3 4 5 6 \n",
        "1 2 3 4 5 6 \n",
        "1 2 3 4 5 6 \n",
        "1 2 3 4 5 6 \n",
        "```\n"
      ]
    },
    {
      "cell_type": "code",
      "execution_count": 120,
      "metadata": {
        "id": "Tp4yC8fjQLUR",
        "colab": {
          "base_uri": "https://localhost:8080/"
        },
        "outputId": "8d473ebe-d76c-4af0-d2dc-024689197e84"
      },
      "outputs": [
        {
          "output_type": "stream",
          "name": "stdout",
          "text": [
            "1 2 3 4 5 6 \n",
            "1 2 3 4 5 6 \n",
            "1 2 3 4 5 6 \n",
            "1 2 3 4 5 6 \n",
            "1 2 3 4 5 6 \n",
            "1 2 3 4 5 6 \n",
            "1 2 3 4 5 6 \n"
          ]
        }
      ],
      "source": [
        "for i in range(1,8):\n",
        "  for j in range(1,7):\n",
        "    print(j,end=\" \")\n",
        "  print()"
      ]
    },
    {
      "cell_type": "markdown",
      "metadata": {
        "id": "9JLqJX-qQS6N"
      },
      "source": [
        "**예제 14** \n",
        "\n",
        "아래와 똑같이 출력하는 코드를 작성하세요\n",
        "\n",
        "```{.no-highlight}\n",
        "2 4 6 8 10 \n",
        "1 3 5 7 9\n",
        "2 4 6 8 10 \n",
        "1 3 5 7 9\n",
        "2 4 6 8 10 \n",
        "1 3 5 7 9\n",
        "2 4 6 8 10 \n",
        "1 3 5 7 9\n",
        "2 4 6 8 10 \n",
        "1 3 5 7 9\n",
        "```\n"
      ]
    },
    {
      "cell_type": "code",
      "source": [
        "for i in range(2,11,2):\n",
        "  print(i)"
      ],
      "metadata": {
        "colab": {
          "base_uri": "https://localhost:8080/"
        },
        "id": "6VraQC2J3b5R",
        "outputId": "296c75f9-829e-4e08-8de4-246cfed2c5c2"
      },
      "execution_count": 122,
      "outputs": [
        {
          "output_type": "stream",
          "name": "stdout",
          "text": [
            "2\n",
            "4\n",
            "6\n",
            "8\n",
            "10\n"
          ]
        }
      ]
    },
    {
      "cell_type": "code",
      "execution_count": 129,
      "metadata": {
        "id": "PlZNTmyhQS6O",
        "colab": {
          "base_uri": "https://localhost:8080/"
        },
        "outputId": "9da1f168-fbf0-4098-83bf-f0d5bb737102"
      },
      "outputs": [
        {
          "output_type": "stream",
          "name": "stdout",
          "text": [
            "2 4 6 8 10 \n",
            "1 3 5 7 9 \n",
            "2 4 6 8 10 \n",
            "1 3 5 7 9 \n",
            "2 4 6 8 10 \n",
            "1 3 5 7 9 \n",
            "2 4 6 8 10 \n",
            "1 3 5 7 9 \n",
            "2 4 6 8 10 \n",
            "1 3 5 7 9 \n"
          ]
        }
      ],
      "source": [
        "for i in [2,1,2,1,2,1,2,1,2,1]:\n",
        "  for j in range(i,11,2):\n",
        "    print(j,end=\" \")\n",
        "  print()"
      ]
    },
    {
      "cell_type": "markdown",
      "metadata": {
        "id": "WsRXZCzzKQuI"
      },
      "source": [
        "**예제 15** \n",
        "\n",
        "이중 for문을 이용하여 아래와 똑같이 출력하는 코드를 작성하세요\n",
        "\n",
        "```{.no-highlight}\n",
        "         *\n",
        "        **\n",
        "       ***\n",
        "      ****\n",
        "     *****\n",
        "    ******\n",
        "   *******\n",
        "  ********\n",
        " *********\n",
        "**********\n",
        "```\n"
      ]
    },
    {
      "cell_type": "code",
      "source": [
        "for i in range(1,11):\n",
        "  print(i*\"*\")"
      ],
      "metadata": {
        "colab": {
          "base_uri": "https://localhost:8080/"
        },
        "id": "0Bry27k_6KkJ",
        "outputId": "bc07206c-104a-4bc1-b1d2-744eced89148"
      },
      "execution_count": 136,
      "outputs": [
        {
          "output_type": "stream",
          "name": "stdout",
          "text": [
            "*\n",
            "**\n",
            "***\n",
            "****\n",
            "*****\n",
            "******\n",
            "*******\n",
            "********\n",
            "*********\n",
            "**********\n"
          ]
        }
      ]
    },
    {
      "cell_type": "code",
      "execution_count": 135,
      "metadata": {
        "id": "uhVOEfvjKRpA",
        "colab": {
          "base_uri": "https://localhost:8080/"
        },
        "outputId": "115a75b6-235d-4987-8a75-d4e23bec371c"
      },
      "outputs": [
        {
          "output_type": "stream",
          "name": "stdout",
          "text": [
            "*********************\n",
            "*********************\n",
            "*********************\n",
            "*********************\n",
            "*********************\n",
            "*********************\n",
            "*********************\n",
            "*********************\n",
            "*********************\n",
            "*********************\n"
          ]
        }
      ],
      "source": [
        "for i in range(1,11):\n",
        "  for j in range(7):\n",
        "    print(j*\"*\",end='')\n",
        "  print()"
      ]
    },
    {
      "cell_type": "markdown",
      "metadata": {
        "id": "ZDNCXYGRKSoK"
      },
      "source": [
        "\n",
        "**예제 16** \n",
        "\n",
        "이중 for문을 이용하여 아래와 똑같이 출력하는 코드를 작성하세요\n",
        "\n",
        "```{.no-highlight}\n",
        "           #\n",
        "           *\n",
        "          ***\n",
        "         *****\n",
        "        *******\n",
        "       *********\n",
        "      ***********\n",
        "     *************\n",
        "    ***************\n",
        "   *****************\n",
        "  -------------------\n",
        "  *******************\n",
        "    MARRY CHRISTMAS !\n",
        "```\n"
      ]
    },
    {
      "cell_type": "code",
      "execution_count": null,
      "metadata": {
        "id": "whjpiD-ZKTkc"
      },
      "outputs": [],
      "source": [
        ""
      ]
    },
    {
      "cell_type": "markdown",
      "metadata": {
        "id": "uS3__jM6KUcG"
      },
      "source": [
        "\n",
        "\n",
        "`apartment`가  다음과 같이 주어져 있습니다. \n",
        "```\n",
        "apartment = [ [201, 202, 203], [301, 302, 303], [401, 402, 403] ]\n",
        "```\n"
      ]
    },
    {
      "cell_type": "code",
      "execution_count": 137,
      "metadata": {
        "id": "MxQ_LG-9NiDb"
      },
      "outputs": [],
      "source": [
        "apartment=[[201,202,203],[301,302,303],[401,402,403]]"
      ]
    },
    {
      "cell_type": "markdown",
      "metadata": {
        "id": "1i9-8K7aNKeG"
      },
      "source": [
        "**예제 17** \n",
        "\n",
        "아래와 같은 결과를 출력하는 코드를 `for문`과 `range`를 이용해 작성하세요\n",
        "\n",
        "```{.no-highlight}\n",
        "201 호 \n",
        "301 호 \n",
        "401 호\n",
        "```\n"
      ]
    },
    {
      "cell_type": "code",
      "execution_count": 144,
      "metadata": {
        "id": "XWKIxb2-KWVe",
        "colab": {
          "base_uri": "https://localhost:8080/"
        },
        "outputId": "e5698ddb-7c93-43fb-b8f7-3058cc645ea6"
      },
      "outputs": [
        {
          "output_type": "stream",
          "name": "stdout",
          "text": [
            "201 호\n",
            "301 호\n",
            "401 호\n"
          ]
        }
      ],
      "source": [
        "for i in range(3):\n",
        "  print(apartment[i][0],\"호\")"
      ]
    },
    {
      "cell_type": "markdown",
      "metadata": {
        "id": "XNWuysbqNBDo"
      },
      "source": [
        "\n",
        "**예제 18** \n",
        "\n",
        "아래와 같은 결과를 출력하는 코드를 `for문`과 `range`를 이용해 작성하세요\n",
        "\n",
        "\n",
        "```{.no-highlight}\n",
        "203 호 \n",
        "303 호 \n",
        "403 호\n",
        "```\n"
      ]
    },
    {
      "cell_type": "code",
      "execution_count": 145,
      "metadata": {
        "id": "lUmfgJwkNDEc",
        "colab": {
          "base_uri": "https://localhost:8080/"
        },
        "outputId": "9ab665bd-2a8e-465c-ce0b-eacc73c4cac3"
      },
      "outputs": [
        {
          "output_type": "stream",
          "name": "stdout",
          "text": [
            "203 호\n",
            "303 호\n",
            "403 호\n"
          ]
        }
      ],
      "source": [
        "for i in range(3):\n",
        "  print(apartment[i][2],\"호\")"
      ]
    },
    {
      "cell_type": "markdown",
      "metadata": {
        "id": "UR9FqS84NO7w"
      },
      "source": [
        "**예제 19** \n",
        "\n",
        "아래와 같은 결과를 출력하는 코드를 `for문`과 `range`를 이용해 작성하세요\n",
        "\n",
        "\n",
        "```{.no-highlight}\n",
        "402 호 \n",
        "302 호 \n",
        "202 호 \n",
        "```\n"
      ]
    },
    {
      "cell_type": "code",
      "execution_count": 148,
      "metadata": {
        "id": "lWTZMYfLNRxy",
        "colab": {
          "base_uri": "https://localhost:8080/"
        },
        "outputId": "fea575fe-3895-41fd-e603-8827b758ae1f"
      },
      "outputs": [
        {
          "output_type": "stream",
          "name": "stdout",
          "text": [
            "402 호\n",
            "302 호\n",
            "202 호\n"
          ]
        }
      ],
      "source": [
        "for i in range(1,4):\n",
        "  print(apartment[-i][1],\"호\")"
      ]
    },
    {
      "cell_type": "markdown",
      "metadata": {
        "id": "DgUcIZAxNTTm"
      },
      "source": [
        "**예제 20** \n",
        "\n",
        "아래와 같은 결과를 출력하는 코드를 `for문`과 `range`를 이용해 작성하세요\n",
        "\n",
        "```{.no-highlight}\n",
        "201 호 옆집은 202 호\n",
        "301 호 옆집은 302 호\n",
        "401 호 옆집은 402 호\n",
        "```\n"
      ]
    },
    {
      "cell_type": "code",
      "source": [
        "list1 = [\"A\",\"B\",\"C\"]\n",
        "list2 = [\"a\", \"b\", \"c\"]\n",
        "\n",
        "for l1,l2 in zip(list1,list2):\n",
        "  print(l1,l2)"
      ],
      "metadata": {
        "colab": {
          "base_uri": "https://localhost:8080/"
        },
        "id": "2RH03YBa8cnA",
        "outputId": "0bfdb64e-502b-4247-e88d-e150e8574c93"
      },
      "execution_count": 150,
      "outputs": [
        {
          "output_type": "stream",
          "name": "stdout",
          "text": [
            "A a\n",
            "B b\n",
            "C c\n"
          ]
        }
      ]
    },
    {
      "cell_type": "code",
      "execution_count": 154,
      "metadata": {
        "id": "WgGC6KnONWkO",
        "colab": {
          "base_uri": "https://localhost:8080/"
        },
        "outputId": "ce6a698e-e9cc-4377-bf4c-4547d534b1f7"
      },
      "outputs": [
        {
          "output_type": "stream",
          "name": "stdout",
          "text": [
            "201 호 옆집은 202 호\n",
            "301 호 옆집은 302 호\n",
            "401 호 옆집은 402 호\n"
          ]
        }
      ],
      "source": [
        "for i in range(3):\n",
        "  print(apartment[i][0],\"호 옆집은\",apartment[i][1],\"호\")"
      ]
    },
    {
      "cell_type": "markdown",
      "metadata": {
        "id": "UpeuvLh8NYEi"
      },
      "source": [
        "\n",
        "**예제 21** \n",
        "\n",
        "아래와 같은 결과를 출력하는 코드를 `for문`과 `range`를 이용해 작성하세요\n",
        "\n",
        "```{.no-highlight}\n",
        "201 호 윗층은 301 호 윗층은 401호\n",
        "202 호 윗층은 302 호 윗층은 402호\n",
        "203 호 윗층은 303 호 윗층은 403호\n",
        "```\n"
      ]
    },
    {
      "cell_type": "code",
      "execution_count": 163,
      "metadata": {
        "id": "X473dVz5NbIW",
        "colab": {
          "base_uri": "https://localhost:8080/"
        },
        "outputId": "4023228d-26c3-4e38-c180-a42f1b8786bd"
      },
      "outputs": [
        {
          "output_type": "stream",
          "name": "stdout",
          "text": [
            "201 호 윗층은 301 호 윗층은 401 호\n",
            "202 호 윗층은 302 호 윗층은 402 호\n",
            "203 호 윗층은 303 호 윗층은 403 호\n"
          ]
        }
      ],
      "source": [
        "for i in range(3):\n",
        "  print(apartment[0][i],\"호 윗층은\",apartment[1][i],\"호 윗층은\",apartment[2][i],\"호\")"
      ]
    },
    {
      "cell_type": "markdown",
      "metadata": {
        "id": "sEoNppGDNcdX"
      },
      "source": [
        "**예제 22** \n",
        "\n",
        "아래와 같은 결과를 출력하는 코드를 `for문`과 `range`를 이용해 작성하세요\n",
        "\n",
        "\n",
        "```{.no-highlight}\n",
        "201 호 \n",
        "202 호\n",
        "203 호\n",
        "301 호\n",
        "302 호\n",
        "303 호\n",
        "401 호 \n",
        "402 호\n",
        "403 호\n",
        "```"
      ]
    },
    {
      "cell_type": "code",
      "execution_count": 169,
      "metadata": {
        "id": "YAtaBHGkNekE",
        "colab": {
          "base_uri": "https://localhost:8080/"
        },
        "outputId": "7253fcc5-abb2-4846-bb51-588ca0341cab"
      },
      "outputs": [
        {
          "output_type": "stream",
          "name": "stdout",
          "text": [
            "201 호\n",
            "202 호\n",
            "203 호\n",
            "301 호\n",
            "302 호\n",
            "303 호\n",
            "401 호\n",
            "402 호\n",
            "403 호\n"
          ]
        }
      ],
      "source": [
        "for i in range(3):\n",
        "  for j in range(3):\n",
        "    print(apartment[i][j],\"호\")"
      ]
    },
    {
      "cell_type": "markdown",
      "metadata": {
        "id": "viZj-9fZNfeh"
      },
      "source": [
        "**예제 23** \n",
        "\n",
        "1, 4, 7, 10, 13 ... 31 을 `for문`과 `range`를 이용해서 출력하세요\n"
      ]
    },
    {
      "cell_type": "code",
      "execution_count": 173,
      "metadata": {
        "id": "c8vZWw5kNfrU",
        "colab": {
          "base_uri": "https://localhost:8080/"
        },
        "outputId": "3efe32ee-d825-4595-a7d6-9b081eb02595"
      },
      "outputs": [
        {
          "output_type": "stream",
          "name": "stdout",
          "text": [
            "1\n",
            "4\n",
            "7\n",
            "10\n",
            "13\n",
            "16\n",
            "19\n",
            "22\n",
            "25\n",
            "28\n",
            "31\n"
          ]
        }
      ],
      "source": [
        "for i in range(1,32,3):\n",
        "  print(i)"
      ]
    },
    {
      "cell_type": "markdown",
      "metadata": {
        "id": "j3SEY_qcNgro"
      },
      "source": [
        "**예제 24** \n",
        "\n",
        "아래와 같이 n을 인풋으로 하면 1부터 n까지 더한 값을 출력하는 함수 `add_nums(n)`를 만드세요\n",
        "\n",
        "\n",
        "```\n",
        ">> add_nums_line(5)\n",
        "1\n",
        "3\n",
        "6\n",
        "10\n",
        "15\n",
        "```\n"
      ]
    },
    {
      "cell_type": "code",
      "execution_count": 182,
      "metadata": {
        "id": "cQpQuNFTNg1s",
        "colab": {
          "base_uri": "https://localhost:8080/"
        },
        "outputId": "f3751e85-5059-41f4-d9ed-00cc49803135"
      },
      "outputs": [
        {
          "output_type": "stream",
          "name": "stdout",
          "text": [
            "0\n",
            "1\n",
            "2\n",
            "3\n",
            "4\n",
            "5\n"
          ]
        }
      ],
      "source": [
        "def add_nums_line(n):\n",
        "  for i in range(n+1):\n",
        "    print(i)\n",
        "add_nums_line(5)"
      ]
    },
    {
      "cell_type": "markdown",
      "metadata": {
        "id": "fcoUNSiXNqjr"
      },
      "source": [
        "`num_list`가 아래와 같이 정의되어 있습니다. \n",
        "\n",
        "```\n",
        "num_list = [0,2,3,5,6,12,15,17,18,23,25,27,45,47,48,53,57,58,59,60,63,64,68,72,75,79,86,93,96,99,100]\n",
        "```"
      ]
    },
    {
      "cell_type": "code",
      "execution_count": 183,
      "metadata": {
        "id": "VQnWtngfNqvM"
      },
      "outputs": [],
      "source": [
        "num_list = [0,2,3,5,6,12,15,17,18,23,25,27,45,47,48,53,57,58,59,60,63,64,68,72,75,79,86,93,96,99,100]"
      ]
    },
    {
      "cell_type": "markdown",
      "metadata": {
        "id": "pq1r8LqKNvCB"
      },
      "source": [
        "**예제 25**\n",
        "\n",
        "`num_list` 중 4의 배수만 출력하세요\n"
      ]
    },
    {
      "cell_type": "code",
      "execution_count": 191,
      "metadata": {
        "id": "yPjF8T57Nxd1",
        "colab": {
          "base_uri": "https://localhost:8080/"
        },
        "outputId": "da6a539b-9551-4134-d751-65af6fab410e"
      },
      "outputs": [
        {
          "output_type": "stream",
          "name": "stdout",
          "text": [
            "12\n",
            "48\n",
            "60\n",
            "64\n",
            "68\n",
            "72\n",
            "96\n",
            "100\n"
          ]
        }
      ],
      "source": [
        "for i in num_list:\n",
        "  if i>1 and i%4==0:\n",
        "    print(i)"
      ]
    },
    {
      "cell_type": "markdown",
      "metadata": {
        "id": "1jktkqlVNzAt"
      },
      "source": [
        "\n",
        "**예제 26** \n",
        "\n",
        "`num_list` 중 50 이하인 5의 배수만 출력하세요\n",
        "\n"
      ]
    },
    {
      "cell_type": "code",
      "execution_count": 187,
      "metadata": {
        "id": "D8iepJF8N0kc",
        "colab": {
          "base_uri": "https://localhost:8080/"
        },
        "outputId": "31482e37-83d7-4f5f-9a83-fffe9f2a2af4"
      },
      "outputs": [
        {
          "output_type": "stream",
          "name": "stdout",
          "text": [
            "5\n",
            "15\n",
            "25\n",
            "45\n"
          ]
        }
      ],
      "source": [
        "for i in num_list:\n",
        "  if 1<i<=50 and i%5==0:\n",
        "    print(i)"
      ]
    },
    {
      "cell_type": "code",
      "source": [
        "a='304'\n",
        "a.split()"
      ],
      "metadata": {
        "colab": {
          "base_uri": "https://localhost:8080/"
        },
        "id": "UywCeS7DEW7t",
        "outputId": "97165f1b-4b33-4cf7-c4cf-1353c735651f"
      },
      "execution_count": 200,
      "outputs": [
        {
          "output_type": "execute_result",
          "data": {
            "text/plain": [
              "['304']"
            ]
          },
          "metadata": {},
          "execution_count": 200
        }
      ]
    },
    {
      "cell_type": "markdown",
      "metadata": {
        "id": "7ZhV5ExNN1ai"
      },
      "source": [
        "**예제 27** \n",
        "\n",
        "`num_list` 중 각 자리수를 더해서 10이 넘는 숫자만 출력하세요\n"
      ]
    },
    {
      "cell_type": "code",
      "source": [
        "for i in num_list:\n",
        "  if i>10: \n",
        "    print(i) #★"
      ],
      "metadata": {
        "colab": {
          "base_uri": "https://localhost:8080/"
        },
        "id": "gPdDmCtyCB6k",
        "outputId": "ee0abbe8-2e6d-40cf-a101-a478a835a07e"
      },
      "execution_count": 196,
      "outputs": [
        {
          "output_type": "stream",
          "name": "stdout",
          "text": [
            "12\n",
            "15\n",
            "17\n",
            "18\n",
            "23\n",
            "25\n",
            "27\n",
            "45\n",
            "47\n",
            "48\n",
            "53\n",
            "57\n",
            "58\n",
            "59\n",
            "60\n",
            "63\n",
            "64\n",
            "68\n",
            "72\n",
            "75\n",
            "79\n",
            "86\n",
            "93\n",
            "96\n",
            "99\n",
            "100\n"
          ]
        }
      ]
    },
    {
      "cell_type": "markdown",
      "metadata": {
        "id": "uCoRYjMoN4Js"
      },
      "source": [
        "**예제 28** \n",
        "\n",
        "`num_list` 중 가장 작은 7의 배수를 찾으세요. (hint: `break`을 반드시 포함하세요)\n"
      ]
    },
    {
      "cell_type": "code",
      "execution_count": 210,
      "metadata": {
        "id": "Cwox2wbDN6B9",
        "colab": {
          "base_uri": "https://localhost:8080/"
        },
        "outputId": "e7ef781c-6790-4a7d-9572-f4918ca00f23"
      },
      "outputs": [
        {
          "output_type": "stream",
          "name": "stdout",
          "text": [
            "63\n"
          ]
        }
      ],
      "source": [
        "for i in num_list:\n",
        "  if i>1 and i%7==0:\n",
        "    print(i)"
      ]
    },
    {
      "cell_type": "markdown",
      "metadata": {
        "id": "AYVG1GMfN7A7"
      },
      "source": [
        "**예제 29** \n",
        "\n",
        "학생들의 번호와 점수가 딕셔너리에 아래와 같이 저장되어 있습니다. 전산 실수로 인해 점수가 실제 점수보다 10점이 깍인것을 발견했습니다. 점수를 모두 10점씩 올리세요\n",
        "\n",
        "```\n",
        "st_scores = {1:80, 2:55, 3:80, 4:35, 5:75, 6: 80, 7:40, 8: 90, 9:55, 10:20}\n",
        "```\n"
      ]
    },
    {
      "cell_type": "code",
      "execution_count": 220,
      "metadata": {
        "id": "3eRFw6f7N7SD"
      },
      "outputs": [],
      "source": [
        "st_scores = {1:80, 2:55, 3:80, 4:35, 5:75, 6: 80, 7:40, 8: 90, 9:55, 10:20}"
      ]
    },
    {
      "cell_type": "code",
      "source": [
        "for i in list(st_scores.values()):\n",
        "  print(i+10)"
      ],
      "metadata": {
        "colab": {
          "base_uri": "https://localhost:8080/"
        },
        "id": "DE74riNCF7-c",
        "outputId": "7c9d2914-4f8f-427b-af1b-8575175bad96"
      },
      "execution_count": 215,
      "outputs": [
        {
          "output_type": "stream",
          "name": "stdout",
          "text": [
            "90\n",
            "65\n",
            "90\n",
            "45\n",
            "85\n",
            "90\n",
            "50\n",
            "100\n",
            "65\n",
            "30\n"
          ]
        }
      ]
    },
    {
      "cell_type": "markdown",
      "metadata": {
        "id": "o-QPq1PEN8SL"
      },
      "source": [
        "\n",
        "**예제 30** \n",
        "\n",
        "60점 미만인 학생들에게 \"재평가가 실시될 예정입니다.\", 90점 이상인 학생들에게 \"우수장학금이 지급됩니다.\"를 출력하는 코드를 작성하세요. 단, 코드내에 continue를 반드시 포함하세요\n"
      ]
    },
    {
      "cell_type": "code",
      "source": [
        "list(st_scores.values())"
      ],
      "metadata": {
        "colab": {
          "base_uri": "https://localhost:8080/"
        },
        "id": "A8H37fALH9j7",
        "outputId": "bc72b018-04e4-4997-bf67-de30c84d9741"
      },
      "execution_count": 226,
      "outputs": [
        {
          "output_type": "execute_result",
          "data": {
            "text/plain": [
              "[80, 55, 80, 35, 75, 80, 40, 90, 55, 20]"
            ]
          },
          "metadata": {},
          "execution_count": 226
        }
      ]
    },
    {
      "cell_type": "code",
      "execution_count": 231,
      "metadata": {
        "id": "IZESB5EJN8wb",
        "colab": {
          "base_uri": "https://localhost:8080/"
        },
        "outputId": "deab7c1e-49a0-4d24-d4ff-c5f7695a25a8"
      },
      "outputs": [
        {
          "output_type": "stream",
          "name": "stdout",
          "text": [
            "90\n",
            "65\n",
            "90\n",
            "45\n",
            "85\n",
            "90\n",
            "50\n",
            "100\n",
            "65\n",
            "30\n"
          ]
        }
      ],
      "source": [
        "for i in list(st_scores.values()):\n",
        "  print(i+10)\n",
        "  for i in list(st_scores.values()):\n",
        "    if i>90:\n",
        "      print(i)"
      ]
    },
    {
      "cell_type": "markdown",
      "metadata": {
        "id": "0LmrdCsyq2PO"
      },
      "source": [
        "아래와 같이 물건의 이름과 가격이 적힌 딕셔너리가 있습니다.\n",
        "\n",
        "mart = {'a': ['apple', 1000], 'b': ['beer', 1200] , 'c' : ['cherry', 2000], 'd':['donut', 1500], 'e': ['egg', 500], 'f' : ['fish', 3000] }"
      ]
    },
    {
      "cell_type": "code",
      "execution_count": 224,
      "metadata": {
        "id": "jMnPNyjVrMw_"
      },
      "outputs": [],
      "source": [
        "mart = {'a': ['apple', 1000], 'b': ['beer', 1200] , 'c' : ['cherry', 2000], 'd':['donut', 1500], 'e': ['egg', 500], 'f' : ['fish', 3000] }"
      ]
    },
    {
      "cell_type": "markdown",
      "metadata": {
        "id": "en0ZRX2Mq81O"
      },
      "source": [
        "예제 31\n",
        "\n",
        "가장 저렴한 값을 구하는 코드를 for를 이용해 작성하세요."
      ]
    },
    {
      "cell_type": "code",
      "source": [
        "a=1,2,3\n",
        "list(a)"
      ],
      "metadata": {
        "colab": {
          "base_uri": "https://localhost:8080/"
        },
        "id": "mycnhl9ENcpS",
        "outputId": "f44fce1b-1d14-4b92-9d53-c839abec50c8"
      },
      "execution_count": 260,
      "outputs": [
        {
          "output_type": "execute_result",
          "data": {
            "text/plain": [
              "[1, 2, 3]"
            ]
          },
          "metadata": {},
          "execution_count": 260
        }
      ]
    },
    {
      "cell_type": "code",
      "execution_count": 274,
      "metadata": {
        "id": "WCsEC6t2rNcH",
        "colab": {
          "base_uri": "https://localhost:8080/",
          "height": 193
        },
        "outputId": "679ef394-e057-4bdb-a64d-6e68f661c74f"
      },
      "outputs": [
        {
          "output_type": "error",
          "ename": "KeyError",
          "evalue": "ignored",
          "traceback": [
            "\u001b[0;31m---------------------------------------------------------------------------\u001b[0m",
            "\u001b[0;31mKeyError\u001b[0m                                  Traceback (most recent call last)",
            "\u001b[0;32m<ipython-input-274-96f31b4d7e72>\u001b[0m in \u001b[0;36m<module>\u001b[0;34m()\u001b[0m\n\u001b[0;32m----> 1\u001b[0;31m \u001b[0;32mfor\u001b[0m \u001b[0mi\u001b[0m \u001b[0;32min\u001b[0m \u001b[0mlist\u001b[0m\u001b[0;34m(\u001b[0m\u001b[0mmart\u001b[0m\u001b[0;34m[\u001b[0m\u001b[0;36m1\u001b[0m\u001b[0;34m]\u001b[0m\u001b[0;34m)\u001b[0m\u001b[0;34m:\u001b[0m\u001b[0;34m\u001b[0m\u001b[0;34m\u001b[0m\u001b[0m\n\u001b[0m\u001b[1;32m      2\u001b[0m   \u001b[0mprint\u001b[0m\u001b[0;34m(\u001b[0m\u001b[0mi\u001b[0m\u001b[0;34m)\u001b[0m\u001b[0;34m\u001b[0m\u001b[0;34m\u001b[0m\u001b[0m\n",
            "\u001b[0;31mKeyError\u001b[0m: 1"
          ]
        }
      ],
      "source": [
        "for i in mart[1]:\n",
        "  print(i)"
      ]
    },
    {
      "cell_type": "markdown",
      "metadata": {
        "id": "PshRApJDq_7O"
      },
      "source": [
        "예제 32\n",
        "\n",
        "가격의 평균을 구하는 코드를 for를 이용해 작성하세요"
      ]
    },
    {
      "cell_type": "code",
      "execution_count": null,
      "metadata": {
        "id": "cOrgvWL3rN6f"
      },
      "outputs": [],
      "source": [
        ""
      ]
    },
    {
      "cell_type": "markdown",
      "metadata": {
        "id": "F74Fqir9rAkv"
      },
      "source": [
        "예제 33\n",
        "\n",
        "다음과 같은 출력을 하는 코드를 작성해보세요. 가능하다면 코드 한줄로 작성해 보세요.\n",
        "\n",
        "a is apple, b is beer, c is cherry, d is donut, e is egg"
      ]
    },
    {
      "cell_type": "code",
      "execution_count": null,
      "metadata": {
        "id": "YJ3wxjDcrOj_"
      },
      "outputs": [],
      "source": [
        ""
      ]
    }
  ],
  "metadata": {
    "colab": {
      "collapsed_sections": [],
      "name": "4-2. 반복문 _ for 문.ipynb",
      "provenance": [],
      "include_colab_link": true
    },
    "kernelspec": {
      "display_name": "Python 3",
      "name": "python3"
    },
    "language_info": {
      "name": "python"
    }
  },
  "nbformat": 4,
  "nbformat_minor": 0
}