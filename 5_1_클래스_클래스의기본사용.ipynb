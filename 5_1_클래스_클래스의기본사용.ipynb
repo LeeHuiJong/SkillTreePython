{
  "nbformat": 4,
  "nbformat_minor": 0,
  "metadata": {
    "colab": {
      "name": "5-1.클래스_클래스의기본사용.ipynb",
      "provenance": [],
      "collapsed_sections": [],
      "include_colab_link": true
    },
    "kernelspec": {
      "name": "python3",
      "display_name": "Python 3"
    },
    "language_info": {
      "name": "python"
    }
  },
  "cells": [
    {
      "cell_type": "markdown",
      "metadata": {
        "id": "view-in-github",
        "colab_type": "text"
      },
      "source": [
        "<a href=\"https://colab.research.google.com/github/LeeHuiJong/SkillTreePython/blob/main/5_1_%ED%81%B4%EB%9E%98%EC%8A%A4_%ED%81%B4%EB%9E%98%EC%8A%A4%EC%9D%98%EA%B8%B0%EB%B3%B8%EC%82%AC%EC%9A%A9.ipynb\" target=\"_parent\"><img src=\"https://colab.research.google.com/assets/colab-badge.svg\" alt=\"Open In Colab\"/></a>"
      ]
    },
    {
      "cell_type": "markdown",
      "metadata": {
        "id": "jgFAOz-Tw1VI"
      },
      "source": [
        "5-1.클래스:클래스의 기본 사용\n",
        "---\n",
        "* 날짜:\n",
        "* 이름:\n"
      ]
    },
    {
      "cell_type": "markdown",
      "metadata": {
        "id": "roC8A6Ro6THT"
      },
      "source": [
        "## 개념정리\n",
        "---\n",
        "\n"
      ]
    },
    {
      "cell_type": "markdown",
      "source": [
        "프로그래밍 언어는 크게 두가지 실행 방식으로 나뉠수 있습니다.\n",
        "\n",
        "* **절차지향적 코드**\n",
        "  - 위에서부터 아래로 순서대로 코드가 진행된다.\n",
        "  - ex) c++는 절차지향만을 사용\n",
        "\n",
        "* **객체지향적 코드**\n",
        "  - 객체지향은 객체를 만들어서 이 객체를 언제, 어디서든, 몇개든 사용할 수 있도록 하는 것\n",
        "  - ex) 자바, 파이썬 등\n",
        "\n"
      ],
      "metadata": {
        "id": "Ee54frgJYOr8"
      }
    },
    {
      "cell_type": "markdown",
      "metadata": {
        "id": "4azv1P74n23k"
      },
      "source": [
        "###**(1) 정의**\n",
        "\n",
        "클래스는 아래와 같이 정의 할 수 있습니다. \n",
        "\n",
        "\n",
        "```\n",
        "class Student:\n",
        "    pass\n",
        "```\n",
        "\n"
      ]
    },
    {
      "cell_type": "code",
      "metadata": {
        "id": "myVCV-mSn23l"
      },
      "source": [
        "class Student:\n",
        "  pass"
      ],
      "execution_count": 1,
      "outputs": []
    },
    {
      "cell_type": "markdown",
      "source": [
        "클래스를 만들어 놓으면 틀만 만들어 놓은것과 같습니다. 이제 틀을 이용하여 인스턴스를 만들어 봅시다. "
      ],
      "metadata": {
        "id": "7jJg3FA2iRtY"
      }
    },
    {
      "cell_type": "markdown",
      "metadata": {
        "id": "KCOmBjQRn23l"
      },
      "source": [
        "###**(2) 인스턴스 생성**\n",
        "\n",
        "인스턴스란 위에서 만든 클래스라는 틀을 이용해 똑같은 일을 하는 함수들을 찍어내는 것을 말합니다. Student 클래스의 인스턴스를 생성하고 이를 me 라는 변수로 바인딩합시다.\n",
        "\n",
        "```\n",
        "me = Student()\n",
        "```\n",
        "\n"
      ]
    },
    {
      "cell_type": "code",
      "metadata": {
        "id": "HJi-ra_wn23l"
      },
      "source": [
        "me = Student()"
      ],
      "execution_count": 2,
      "outputs": []
    },
    {
      "cell_type": "markdown",
      "source": [
        "이제부터는 `me`라는 객체를 이용해서 클래스 내부의 여러가지 기능을 사용할 수 있습니다. 하지만 우리가 방금 만든 `Student`라는 클래스는 아무런 기능을 하지 않습니다. 기능을 할 수 있도록 클래스 내부에 속성을 추가해 봅시다. "
      ],
      "metadata": {
        "id": "ZkrmiFLzlWzX"
      }
    },
    {
      "cell_type": "markdown",
      "metadata": {
        "id": "QZ3_evMHn23l"
      },
      "source": [
        "###**(3) 속성**"
      ]
    },
    {
      "cell_type": "markdown",
      "source": [
        "#### **초기화 메서드**\n",
        "\n",
        "\n",
        "`__init__` 메서드는 초기화 메서드입니다. 클래스가 생성되면 `__init__` 메서드가 자동적으로 실행되며 클래스의 값을 지정된 값으로 초기화 합니다. 이 때 값은 인스턴스를 만들 때 넣어준 인자로 만듭니다. \n",
        "\n",
        "`Student` 클래스에 이를 이용해 초기값을 세팅해 봅시다. 학생의 이름과 수강 과목, 그리고 레벨을 정의합시다. 이름과 수강 과목은 인스턴스를 생성할 때 입려개하도록 하고, 레벨은 0부터 시작하도록 합시다.\n",
        "\n",
        "\n",
        "```\n",
        "class Student():\n",
        "    def __init__(self, name, subject):\n",
        "      self.name = name\n",
        "      self.subject = subject\n",
        "      self.level = 0\n",
        "\n",
        "me = Student(\"김모모\", \"기초반\")\n",
        "\n",
        "```"
      ],
      "metadata": {
        "id": "PDR3CtnZoUj1"
      }
    },
    {
      "cell_type": "markdown",
      "metadata": {
        "id": "P3KmS4awqk6E"
      },
      "source": [
        "* 클래스 생성"
      ]
    },
    {
      "cell_type": "code",
      "metadata": {
        "id": "tUKx8JbCqk6F"
      },
      "source": [
        "class Student():\n",
        "  def __init__(self,name,subject):\n",
        "    self.name=name\n",
        "    self.subject=subject\n",
        "    self.level=0"
      ],
      "execution_count": 3,
      "outputs": []
    },
    {
      "cell_type": "markdown",
      "metadata": {
        "id": "NUcDQ1mUqk6F"
      },
      "source": [
        "* 인스턴스 생성"
      ]
    },
    {
      "cell_type": "code",
      "metadata": {
        "id": "KKAusE2Hqk6F"
      },
      "source": [
        "me=Student(\"이희종\",\"딥러닝\")"
      ],
      "execution_count": 4,
      "outputs": []
    },
    {
      "cell_type": "markdown",
      "metadata": {
        "id": "qjwD6iv4n23m"
      },
      "source": [
        "####**인스턴스 속성 접근**\n",
        "\n",
        "위에서 생성한 인스턴스의 속성들 name, subject, level에 접근하고 출력합니다. \n",
        "```\n",
        "me.name, me.subject, me.level\n",
        "```"
      ]
    },
    {
      "cell_type": "code",
      "metadata": {
        "id": "7tuZarTSn23m",
        "colab": {
          "base_uri": "https://localhost:8080/",
          "height": 35
        },
        "outputId": "506ac459-c299-4cae-a252-bd4c456e2abb"
      },
      "source": [
        "me.name"
      ],
      "execution_count": 5,
      "outputs": [
        {
          "output_type": "execute_result",
          "data": {
            "text/plain": [
              "'이희종'"
            ],
            "application/vnd.google.colaboratory.intrinsic+json": {
              "type": "string"
            }
          },
          "metadata": {},
          "execution_count": 5
        }
      ]
    },
    {
      "cell_type": "code",
      "source": [
        "me.subject"
      ],
      "metadata": {
        "colab": {
          "base_uri": "https://localhost:8080/",
          "height": 35
        },
        "id": "4Ff8IGGCp0VR",
        "outputId": "a2b20a05-a069-48ee-c494-968caa99c011"
      },
      "execution_count": 6,
      "outputs": [
        {
          "output_type": "execute_result",
          "data": {
            "text/plain": [
              "'딥러닝'"
            ],
            "application/vnd.google.colaboratory.intrinsic+json": {
              "type": "string"
            }
          },
          "metadata": {},
          "execution_count": 6
        }
      ]
    },
    {
      "cell_type": "code",
      "source": [
        "me.level"
      ],
      "metadata": {
        "colab": {
          "base_uri": "https://localhost:8080/"
        },
        "id": "ERXO9jnZp416",
        "outputId": "58c4a243-19e4-4039-d37c-2b47ab5a93d9"
      },
      "execution_count": 7,
      "outputs": [
        {
          "output_type": "execute_result",
          "data": {
            "text/plain": [
              "0"
            ]
          },
          "metadata": {},
          "execution_count": 7
        }
      ]
    },
    {
      "cell_type": "markdown",
      "metadata": {
        "id": "p0QGxnV3n23m"
      },
      "source": [
        "###**(4) 클래스 메서드**\n",
        "\n",
        "class 안에서 메서드를 추가 할 수 있습니다. Student 클래스 안에 인사를 출력하는 `introduce` 메서드를 추가해보겠습니다. \n",
        "클래스 안에 메서드를 만들 때는 기본적으로 메서드 안에 `self`가 들어가야 합니다. \n",
        "\n",
        "```\n",
        "# 클래스 생성\n",
        "class Student():\n",
        "    def __init__(self, name, subject):\n",
        "      self.name = name\n",
        "      self.subject = subject\n",
        "      self.level = 0\n",
        "\n",
        "    def introduce(self):\n",
        "      print(f\"안녕하세요. {self.subject} 수업을 듣는 {self.name} 입니다.\")\n",
        "\n",
        "# 인스턴스 생성\n",
        "me = Student(\"김모모\", \"기초반\")\n",
        "\n",
        "# 메서드 실행\n",
        "me.introduce()\n",
        "```"
      ]
    },
    {
      "cell_type": "markdown",
      "metadata": {
        "id": "7st1KEFjn23m"
      },
      "source": [
        "* 클래스 생성"
      ]
    },
    {
      "cell_type": "code",
      "metadata": {
        "id": "9X7zV8mln23m"
      },
      "source": [
        "class Student():\n",
        "    def __init__(self, name, subject):\n",
        "      self.name = name\n",
        "      self.subject = subject\n",
        "      self.level = 0\n",
        "    def introduce(self):\n",
        "      print(f'반갑습니다 {self.subject} 수업듣는 {self.name} 입니다')"
      ],
      "execution_count": 15,
      "outputs": []
    },
    {
      "cell_type": "markdown",
      "metadata": {
        "id": "ESSI1NKon23m"
      },
      "source": [
        "* 인스턴스 생성"
      ]
    },
    {
      "cell_type": "code",
      "metadata": {
        "id": "zYkKsuupn23m"
      },
      "source": [
        "me=Student('이희종','딥러닝')"
      ],
      "execution_count": 9,
      "outputs": []
    },
    {
      "cell_type": "markdown",
      "metadata": {
        "id": "jKNKPdlon23m"
      },
      "source": [
        "* `introduct()` 메서드 실행"
      ]
    },
    {
      "cell_type": "code",
      "source": [
        "me.introduce()"
      ],
      "metadata": {
        "id": "aR_cJ1LTnpHk",
        "colab": {
          "base_uri": "https://localhost:8080/"
        },
        "outputId": "bec06395-e097-4591-b7e2-a43e40afed9d"
      },
      "execution_count": 16,
      "outputs": [
        {
          "output_type": "stream",
          "name": "stdout",
          "text": [
            "반갑습니다딥러닝 수업듣는 이희종 입니다\n"
          ]
        }
      ]
    },
    {
      "cell_type": "markdown",
      "source": [
        "#### **또다른 인스턴스 생성**\n",
        "\n",
        "앞서 클래스 자체는 틀이고 인스턴스는 그 틀에서 찍어낸 함수와 같다 했습니다. `me`라는 인스턴스 말고 `you`라는 인스턴스를 생성해 봅시다. \n",
        "\n",
        "* 인스턴스 생성\n",
        "\n",
        "```\n",
        "you = Student(\"김학생\", \"수반\")\n",
        "\n",
        "```"
      ],
      "metadata": {
        "id": "b-Sq8YL-s8Oy"
      }
    },
    {
      "cell_type": "code",
      "source": [
        "you=Student('김학생','수반')"
      ],
      "metadata": {
        "id": "-lnmBLFRbFbl"
      },
      "execution_count": 13,
      "outputs": []
    },
    {
      "cell_type": "markdown",
      "source": [
        "* introduce() 메서드 실행\n",
        "\n",
        "```\n",
        "you.introuduce()\n",
        "```"
      ],
      "metadata": {
        "id": "2q47vsMfvTYM"
      }
    },
    {
      "cell_type": "code",
      "source": [
        "you.introduce()"
      ],
      "metadata": {
        "id": "XogKQrBHvQ_-",
        "colab": {
          "base_uri": "https://localhost:8080/"
        },
        "outputId": "9c2aa54b-7042-4303-b171-408993a1ca96"
      },
      "execution_count": 14,
      "outputs": [
        {
          "output_type": "stream",
          "name": "stdout",
          "text": [
            "반갑습니다 수반 수업듣는 김학생 입니다\n"
          ]
        }
      ]
    },
    {
      "cell_type": "markdown",
      "source": [
        "#### **메서드에 입력변수 추가하기**\n",
        "\n",
        "이번에는 클래스에 레벨을 올리는 `levelup` 메서드를 추가해봅시다. 이 메서드에는 레벨을 얼만큼 올릴지를 인풋으로 받을 겁니다. \n",
        "\n",
        "```\n",
        "# 클래스 생성\n",
        "class Student():\n",
        "    def __init__(self, name, subject):\n",
        "      self.name = name\n",
        "      self.subject = subject\n",
        "      self.level = 0\n",
        "\n",
        "    def introduce(self):\n",
        "      print(f\"안녕하세요. {self.subject} 수업을 듣는 {self.name} 입니다.\")\n",
        "\n",
        "    def levelup(self, l)\n",
        "      level_before = self.level\n",
        "      self.level = self.level+l\n",
        "      print(f\"{level_before}에서 {self.level}로 레벨업 했습니다.\")\n",
        "\n",
        "# 인스턴스 생성\n",
        "me = Student(\"김모모\", \"기초반\")\n",
        "\n",
        "# 메서드 실행\n",
        "me.introduce()\n",
        "\n",
        "```"
      ],
      "metadata": {
        "id": "J1CXlJND_9tJ"
      }
    },
    {
      "cell_type": "markdown",
      "metadata": {
        "id": "CsYlr8M-A9Sr"
      },
      "source": [
        "* 클래스 생성"
      ]
    },
    {
      "cell_type": "code",
      "metadata": {
        "id": "6L8J9AwLA9Ss"
      },
      "source": [
        "class Student():\n",
        "    def __init__(self, name, subject):\n",
        "      self.name = name\n",
        "      self.subject = subject\n",
        "      self.level = 0\n",
        "\n",
        "    def introduce(self):\n",
        "      print(f\"안녕하세요. {self.subject} 수업을 듣는 {self.name} 입니다.\")\n",
        "    \n",
        "    def levelup(self,l):\n",
        "      level_before=self.level\n",
        "      self.level=self.level+l\n",
        "      print(f\"레벨이 {ㅣ}만큼 올라 {self.level}이 되었습니다\")"
      ],
      "execution_count": 20,
      "outputs": []
    },
    {
      "cell_type": "markdown",
      "metadata": {
        "id": "5NI7YvkWA9Ss"
      },
      "source": [
        "* 인스턴스 생성"
      ]
    },
    {
      "cell_type": "code",
      "metadata": {
        "id": "KLPvCX4YA9Ss"
      },
      "source": [
        "me=Student('이희종','딥러닝')"
      ],
      "execution_count": 21,
      "outputs": []
    },
    {
      "cell_type": "markdown",
      "metadata": {
        "id": "areIEkhtA9Ss"
      },
      "source": [
        "* `levelup()` 메서드 실행\n",
        "\n",
        "`levelup` 메서드는 `level_step` 이라는 변수를 필요로 합니다. 따라서 몇레벨을 업할 것인지 적어줍니다."
      ]
    },
    {
      "cell_type": "code",
      "source": [
        "me.levelup(10)"
      ],
      "metadata": {
        "id": "eFB8RWhTA9Ss",
        "colab": {
          "base_uri": "https://localhost:8080/",
          "height": 266
        },
        "outputId": "e6fdd8d0-244b-4f4d-9ce4-0472b6c4d943"
      },
      "execution_count": 22,
      "outputs": [
        {
          "output_type": "error",
          "ename": "NameError",
          "evalue": "ignored",
          "traceback": [
            "\u001b[0;31m---------------------------------------------------------------------------\u001b[0m",
            "\u001b[0;31mNameError\u001b[0m                                 Traceback (most recent call last)",
            "\u001b[0;32m<ipython-input-22-ba1d0c69df07>\u001b[0m in \u001b[0;36m<module>\u001b[0;34m()\u001b[0m\n\u001b[0;32m----> 1\u001b[0;31m \u001b[0mme\u001b[0m\u001b[0;34m.\u001b[0m\u001b[0mlevelup\u001b[0m\u001b[0;34m(\u001b[0m\u001b[0;36m10\u001b[0m\u001b[0;34m)\u001b[0m\u001b[0;34m\u001b[0m\u001b[0;34m\u001b[0m\u001b[0m\n\u001b[0m",
            "\u001b[0;32m<ipython-input-20-a6b36567d3eb>\u001b[0m in \u001b[0;36mlevelup\u001b[0;34m(self, l)\u001b[0m\n\u001b[1;32m     10\u001b[0m     \u001b[0;32mdef\u001b[0m \u001b[0mlevelup\u001b[0m\u001b[0;34m(\u001b[0m\u001b[0mself\u001b[0m\u001b[0;34m,\u001b[0m\u001b[0ml\u001b[0m\u001b[0;34m)\u001b[0m\u001b[0;34m:\u001b[0m\u001b[0;34m\u001b[0m\u001b[0;34m\u001b[0m\u001b[0m\n\u001b[1;32m     11\u001b[0m       \u001b[0mself\u001b[0m\u001b[0;34m.\u001b[0m\u001b[0mlevel\u001b[0m\u001b[0;34m=\u001b[0m\u001b[0mself\u001b[0m\u001b[0;34m.\u001b[0m\u001b[0mlevel\u001b[0m\u001b[0;34m+\u001b[0m\u001b[0ml\u001b[0m\u001b[0;34m\u001b[0m\u001b[0;34m\u001b[0m\u001b[0m\n\u001b[0;32m---> 12\u001b[0;31m       \u001b[0mprint\u001b[0m\u001b[0;34m(\u001b[0m\u001b[0;34mf\"레벨이 {ㅣ}만큼 올라 {self.level}이 되었습니다\"\u001b[0m\u001b[0;34m)\u001b[0m\u001b[0;34m\u001b[0m\u001b[0;34m\u001b[0m\u001b[0m\n\u001b[0m",
            "\u001b[0;31mNameError\u001b[0m: name 'ᅵ' is not defined"
          ]
        }
      ]
    },
    {
      "cell_type": "markdown",
      "source": [
        "* `self.level` 값 확인\n",
        "\n",
        "level 초기 값을 0으로 설정했습니다. levelup 메서드를 이용하여 level 이라는 속성값을 변경하였으니 이를 확인해 봅시다."
      ],
      "metadata": {
        "id": "Wo9d9vi6EIP9"
      }
    },
    {
      "cell_type": "code",
      "source": [
        ""
      ],
      "metadata": {
        "id": "VdIrwqXNvllc"
      },
      "execution_count": null,
      "outputs": []
    },
    {
      "cell_type": "code",
      "source": [
        "import random\n",
        "class 인생게임():\n",
        "  def __init__(self,nickname):\n",
        "    self.nickname=nickname\n",
        "    self.money=100000\n",
        "    self.age=20\n",
        "    self.skill={'요리':0,'청소':0,'수학':1}\n",
        "  def study(self):\n",
        "    self.skill['수학']=self.skill['수학']+1\n",
        "    print(\"수학 레벨이\",self.skill['수학'],\"가 되었습니다\")\n",
        "  def earn(self,h,m):\n",
        "    self.money=self.money+m*h\n",
        "    print(f'시급{m}에 {h}시간 일해서 돈이 {self.money}가 되었습니다')\n",
        "  def old(self,y):\n",
        "    self.age=self.age+y\n",
        "    print(f'{y}년 지나서 나이가{self.age} 되었습니다')\n",
        "  def lotto(self):\n",
        "    x=[0,0,0,0,0,0,0,0,0,1000000]\n",
        "    self.money=self.money+random.choice(x)-2000\n",
        "    print(f'돈이 {self.money}가 되었습니다')"
      ],
      "metadata": {
        "id": "3AifiPGVtSzP"
      },
      "execution_count": 101,
      "outputs": []
    },
    {
      "cell_type": "code",
      "source": [
        "me=인생게임(\"소보루\")"
      ],
      "metadata": {
        "id": "66eKbV8n1IR0"
      },
      "execution_count": 102,
      "outputs": []
    },
    {
      "cell_type": "code",
      "source": [
        "me.lotto()"
      ],
      "metadata": {
        "colab": {
          "base_uri": "https://localhost:8080/"
        },
        "id": "JHIAxXG-4qva",
        "outputId": "d4239ce8-c65c-4f95-c4a6-3a61844dd240"
      },
      "execution_count": 106,
      "outputs": [
        {
          "output_type": "stream",
          "name": "stdout",
          "text": [
            "돈이 92000가 되었습니다\n"
          ]
        }
      ]
    },
    {
      "cell_type": "code",
      "source": [
        "me.study()"
      ],
      "metadata": {
        "colab": {
          "base_uri": "https://localhost:8080/"
        },
        "id": "gnPoinH21n3u",
        "outputId": "25278d28-964a-45c8-f317-bd45a2dd6ea8"
      },
      "execution_count": 76,
      "outputs": [
        {
          "output_type": "stream",
          "name": "stdout",
          "text": [
            "수학 레벨이 2 가 되었습니다\n"
          ]
        }
      ]
    },
    {
      "cell_type": "code",
      "source": [
        "me.earn(1000,3)"
      ],
      "metadata": {
        "colab": {
          "base_uri": "https://localhost:8080/"
        },
        "id": "HcoXxeRR2jYM",
        "outputId": "7ab8c620-02b8-4ef6-9c28-788964c5682a"
      },
      "execution_count": 77,
      "outputs": [
        {
          "output_type": "stream",
          "name": "stdout",
          "text": [
            "시급3에 1000시간 일해서 돈이 103000가 되었습니다\n"
          ]
        }
      ]
    },
    {
      "cell_type": "code",
      "source": [
        "me.old(3)"
      ],
      "metadata": {
        "colab": {
          "base_uri": "https://localhost:8080/"
        },
        "id": "_IhEHDW83XA0",
        "outputId": "32556c82-627e-489a-d0bf-8837cb8494d2"
      },
      "execution_count": 84,
      "outputs": [
        {
          "output_type": "stream",
          "name": "stdout",
          "text": [
            "3년 지나서 나이가23 되었습니다\n"
          ]
        }
      ]
    },
    {
      "cell_type": "code",
      "source": [
        "a={'사람':1,'농장':2,'이름':3}\n",
        "print(a)"
      ],
      "metadata": {
        "colab": {
          "base_uri": "https://localhost:8080/"
        },
        "id": "cJLol-MDtzLM",
        "outputId": "04c0fc10-d71c-4c14-f030-1a70909d6f5e"
      },
      "execution_count": 53,
      "outputs": [
        {
          "output_type": "stream",
          "name": "stdout",
          "text": [
            "{'사람': 1, '농장': 2, '이름': 3}\n"
          ]
        }
      ]
    },
    {
      "cell_type": "code",
      "source": [
        "a['사람']=a['사람']+1\n",
        "print(a)"
      ],
      "metadata": {
        "colab": {
          "base_uri": "https://localhost:8080/"
        },
        "id": "TQx5uvr-vVmF",
        "outputId": "9bf4f9f7-7175-45a0-8ebb-365592922d3d"
      },
      "execution_count": 54,
      "outputs": [
        {
          "output_type": "stream",
          "name": "stdout",
          "text": [
            "{'사람': 2, '농장': 2, '이름': 3}\n"
          ]
        }
      ]
    },
    {
      "cell_type": "code",
      "source": [
        "a['사람'][0]=a['사람'][0]+1\n",
        "print(a)"
      ],
      "metadata": {
        "colab": {
          "base_uri": "https://localhost:8080/"
        },
        "id": "-b_kXwywvfNQ",
        "outputId": "2959502a-12fb-4238-d55b-c6ba23aa651e"
      },
      "execution_count": 46,
      "outputs": [
        {
          "output_type": "stream",
          "name": "stdout",
          "text": [
            "{'사람': [2], '농장': [2], '이름': [3]}\n"
          ]
        }
      ]
    },
    {
      "cell_type": "code",
      "source": [
        "x=[0,1000,10000,1000000]\n",
        "random.choice(x)"
      ],
      "metadata": {
        "colab": {
          "base_uri": "https://localhost:8080/"
        },
        "id": "V3PF88x2wmse",
        "outputId": "3bb76318-5a83-4fef-8f63-addcae4bc928"
      },
      "execution_count": 87,
      "outputs": [
        {
          "output_type": "execute_result",
          "data": {
            "text/plain": [
              "0"
            ]
          },
          "metadata": {},
          "execution_count": 87
        }
      ]
    }
  ]
}