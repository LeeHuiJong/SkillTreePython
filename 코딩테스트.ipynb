{
  "nbformat": 4,
  "nbformat_minor": 0,
  "metadata": {
    "colab": {
      "name": "코딩테스트.ipynb",
      "provenance": [],
      "authorship_tag": "ABX9TyNWLJhkjrlf5BG/O1EDZFZc",
      "include_colab_link": true
    },
    "kernelspec": {
      "name": "python3",
      "display_name": "Python 3"
    },
    "language_info": {
      "name": "python"
    }
  },
  "cells": [
    {
      "cell_type": "markdown",
      "metadata": {
        "id": "view-in-github",
        "colab_type": "text"
      },
      "source": [
        "<a href=\"https://colab.research.google.com/github/LeeHuiJong/SkillTreePython/blob/main/%EC%BD%94%EB%94%A9%ED%85%8C%EC%8A%A4%ED%8A%B8.ipynb\" target=\"_parent\"><img src=\"https://colab.research.google.com/assets/colab-badge.svg\" alt=\"Open In Colab\"/></a>"
      ]
    },
    {
      "cell_type": "markdown",
      "source": [
        "해시 **[1번]**"
      ],
      "metadata": {
        "id": "IVbAKDEsxC9a"
      }
    },
    {
      "cell_type": "markdown",
      "source": [
        "내가 쓴 **코드**"
      ],
      "metadata": {
        "id": "2ptFYIbhxqa8"
      }
    },
    {
      "cell_type": "code",
      "source": [
        "def solution(participant, completion):\n",
        "    participant.sort()\n",
        "    completion.sort()\n",
        "    for i in range(len(completion)):\n",
        "        if (participant[i]!=completion[i]):\n",
        "            return participant[i]\n",
        "    return participant[len(participant)-1]"
      ],
      "metadata": {
        "id": "DBR7rqRwjhtp"
      },
      "execution_count": null,
      "outputs": []
    },
    {
      "cell_type": "markdown",
      "source": [
        "다른 사람이 쓴 **코드**"
      ],
      "metadata": {
        "id": "pdKT66lyw4Lj"
      }
    },
    {
      "cell_type": "code",
      "source": [
        "import collections\n",
        "\n",
        "\n",
        "def solution(participant, completion):\n",
        "    answer = collections.Counter(participant) - collections.Counter(completion)\n",
        "    return list(answer.keys())[0]    # 겁나 허무하다 3줄로 끝내버리다니.\n",
        "                                     # collection 내장 모듈은 list, tuple, dic을 확장하여 쓰게 하는 모듈이다\n",
        "                                     # collection 에 counter 끼리는 빼기가 가능하다"
      ],
      "metadata": {
        "id": "rTUVDwt9w5xC"
      },
      "execution_count": null,
      "outputs": []
    },
    {
      "cell_type": "markdown",
      "source": [
        "해시 **[2번]**"
      ],
      "metadata": {
        "id": "O-i_f7g_tprk"
      }
    },
    {
      "cell_type": "markdown",
      "source": [
        "내가 쓴 **코드**"
      ],
      "metadata": {
        "id": "kWc9DNZCxoTJ"
      }
    },
    {
      "cell_type": "code",
      "source": [
        "def solution(phone_book):\n",
        "    phone_book.sort()\n",
        "    i = 1\n",
        "    while i < len(phone_book):\n",
        "        if phone_book[i].startswith(phone_book[i-1]):\n",
        "            return False\n",
        "        i += 1\n",
        "    return True"
      ],
      "metadata": {
        "id": "4PSY8gB5td0c"
      },
      "execution_count": null,
      "outputs": []
    },
    {
      "cell_type": "markdown",
      "source": [
        "다른 사람이 쓴 **코드**"
      ],
      "metadata": {
        "id": "e4ZfPDE2yCLO"
      }
    },
    {
      "cell_type": "code",
      "source": [
        "def solution(phoneBook):\n",
        "    phoneBook = sorted(phoneBook)\n",
        "\n",
        "    for p1, p2 in zip(phoneBook, phoneBook[1:]):\n",
        "        if p2.startswith(p1):\n",
        "            return False\n",
        "    return True                   # zip을 이용해서 푸는 방법 \n",
        "                                  # 앞뒤 문자를 p1,p2에 넣고 비교한후 풀어낸다"
      ],
      "metadata": {
        "id": "DZy6Zwyrto97"
      },
      "execution_count": null,
      "outputs": []
    },
    {
      "cell_type": "markdown",
      "source": [
        "문제 풀이 노트"
      ],
      "metadata": {
        "id": "tb3xQEZ0thRR"
      }
    },
    {
      "cell_type": "code",
      "source": [
        "def solution(phone_book):\n",
        "    phone_book.sort()\n",
        "    for i in range(0,len(phone_book)-1) :\n",
        "        for j in range(i+1, len(phone_book)):\n",
        "            if phone_book[i] in phone_book[j] :\n",
        "                return False\n",
        "            else :\n",
        "                return True"
      ],
      "metadata": {
        "id": "N-COKE1E3XYK"
      },
      "execution_count": null,
      "outputs": []
    },
    {
      "cell_type": "code",
      "source": [
        "for i in range(0,len(a)-1) :\n",
        "  for j in range(i+1, len(a)):\n",
        "    print(j)"
      ],
      "metadata": {
        "colab": {
          "base_uri": "https://localhost:8080/"
        },
        "id": "cL5BujI31nOJ",
        "outputId": "cdc2018d-14b6-4fee-c37b-1bf0185fa7be"
      },
      "execution_count": null,
      "outputs": [
        {
          "output_type": "stream",
          "name": "stdout",
          "text": [
            "1\n",
            "2\n",
            "3\n",
            "2\n",
            "3\n",
            "3\n"
          ]
        }
      ]
    },
    {
      "cell_type": "code",
      "source": [
        "def solution(phone_book):\n",
        "    answer = True\n",
        "\n",
        "    phone_book.sort()\n",
        "    book_len = len(phone_book)\n",
        "    for i in range(book_len):\n",
        "        if i+1 >= book_len:\n",
        "            return True\n",
        "\n",
        "        if len(phone_book[i+1]) > len(phone_book[i]) :\n",
        "            if phone_book[i+1].find(phone_book[i]) == 0 :\n",
        "                return False"
      ],
      "metadata": {
        "id": "OGIG5WIDtfUT"
      },
      "execution_count": null,
      "outputs": []
    },
    {
      "cell_type": "code",
      "source": [
        "a=[\"119\", \"97674223\", \"5524421\",\"23451156\"]"
      ],
      "metadata": {
        "id": "fBetrZP0cgA0"
      },
      "execution_count": null,
      "outputs": []
    },
    {
      "cell_type": "code",
      "source": [
        "n=len(a)"
      ],
      "metadata": {
        "id": "sxbqYZF8fdn8"
      },
      "execution_count": null,
      "outputs": []
    },
    {
      "cell_type": "code",
      "source": [
        "list(a[0])"
      ],
      "metadata": {
        "colab": {
          "base_uri": "https://localhost:8080/"
        },
        "id": "pgnUMQ9ugRJa",
        "outputId": "7cd7b79b-3df1-4865-8bfc-65d6006fdeef"
      },
      "execution_count": null,
      "outputs": [
        {
          "output_type": "execute_result",
          "data": {
            "text/plain": [
              "['1', '1', '9']"
            ]
          },
          "metadata": {},
          "execution_count": 24
        }
      ]
    },
    {
      "cell_type": "code",
      "source": [
        "for i in a[1:len(a)]:\n",
        "  print(i)"
      ],
      "metadata": {
        "colab": {
          "base_uri": "https://localhost:8080/"
        },
        "id": "VumzvxkS3Fh6",
        "outputId": "82206572-460d-4b99-e6f5-d6b75efaae7e"
      },
      "execution_count": null,
      "outputs": [
        {
          "output_type": "stream",
          "name": "stdout",
          "text": [
            "97674223\n",
            "5524421\n",
            "23451156\n"
          ]
        }
      ]
    },
    {
      "cell_type": "code",
      "source": [
        "a.sort(key=lambda x: len(x))\n",
        "print(a)"
      ],
      "metadata": {
        "colab": {
          "base_uri": "https://localhost:8080/"
        },
        "id": "mSdqYKTbD8Tw",
        "outputId": "9278bc43-e58c-4099-cc5b-236817a0902b"
      },
      "execution_count": null,
      "outputs": [
        {
          "output_type": "stream",
          "name": "stdout",
          "text": [
            "['119', '97674223', '1195524421']\n"
          ]
        }
      ]
    },
    {
      "cell_type": "code",
      "source": [
        "len(a[1])"
      ],
      "metadata": {
        "colab": {
          "base_uri": "https://localhost:8080/"
        },
        "id": "lyeHG36jD1b-",
        "outputId": "37620db4-4f3e-4fff-c397-a637b4206539"
      },
      "execution_count": null,
      "outputs": [
        {
          "output_type": "execute_result",
          "data": {
            "text/plain": [
              "8"
            ]
          },
          "metadata": {},
          "execution_count": 66
        }
      ]
    },
    {
      "cell_type": "code",
      "source": [
        "b==b.sort(key=lambda x: len(x))"
      ],
      "metadata": {
        "colab": {
          "base_uri": "https://localhost:8080/"
        },
        "id": "k8GcTrAPK2XI",
        "outputId": "bfbc9023-9e78-4839-eed0-2d88b38f574a"
      },
      "execution_count": 79,
      "outputs": [
        {
          "output_type": "execute_result",
          "data": {
            "text/plain": [
              "False"
            ]
          },
          "metadata": {},
          "execution_count": 79
        }
      ]
    },
    {
      "cell_type": "code",
      "source": [
        "range(len(a))"
      ],
      "metadata": {
        "colab": {
          "base_uri": "https://localhost:8080/"
        },
        "id": "K8H2JkaGgDbd",
        "outputId": "ebf459a0-0db3-4f85-aeaf-5c0a8de9a6d3"
      },
      "execution_count": 105,
      "outputs": [
        {
          "output_type": "execute_result",
          "data": {
            "text/plain": [
              "range(0, 4)"
            ]
          },
          "metadata": {},
          "execution_count": 105
        }
      ]
    },
    {
      "cell_type": "code",
      "source": [
        "a[0].startswith(\"119\")"
      ],
      "metadata": {
        "colab": {
          "base_uri": "https://localhost:8080/"
        },
        "id": "dTgJHR4ugS6T",
        "outputId": "04ad5d28-014a-45df-aea1-52619b6b04c8"
      },
      "execution_count": 106,
      "outputs": [
        {
          "output_type": "execute_result",
          "data": {
            "text/plain": [
              "True"
            ]
          },
          "metadata": {},
          "execution_count": 106
        }
      ]
    },
    {
      "cell_type": "code",
      "source": [
        "y=[]\n",
        "for i in range(len(a)):\n",
        "  y.append(i)\n",
        "print(y)\n",
        "type(str(y[1]))"
      ],
      "metadata": {
        "colab": {
          "base_uri": "https://localhost:8080/"
        },
        "id": "8WPzb8Z-gcez",
        "outputId": "f9442a0d-96a6-4f24-f427-3929ef594eba"
      },
      "execution_count": 115,
      "outputs": [
        {
          "output_type": "stream",
          "name": "stdout",
          "text": [
            "[0, 1, 2, 3]\n"
          ]
        },
        {
          "output_type": "execute_result",
          "data": {
            "text/plain": [
              "str"
            ]
          },
          "metadata": {},
          "execution_count": 115
        }
      ]
    },
    {
      "cell_type": "code",
      "source": [
        "def solution(phone_book):\n",
        "    answer = True\n",
        "    phone_book = sorted(phone_book) \n",
        "\n",
        "    for i, number in enumerate(phone_book):\n",
        "        for index in range(i + 1, len(phone_book)):\n",
        "            if(number == phone_book[index][:len(number)]):\n",
        "                return False\n",
        "\n",
        "\n",
        "    return answer"
      ],
      "metadata": {
        "id": "06R1TGbWXwzM"
      },
      "execution_count": null,
      "outputs": []
    },
    {
      "cell_type": "code",
      "source": [
        "a.sort(key=lambda x: len(x))\n",
        "print(a)"
      ],
      "metadata": {
        "colab": {
          "base_uri": "https://localhost:8080/"
        },
        "id": "60aoRtzc-x_1",
        "outputId": "3827f4c3-bd38-464d-a5a8-ddb0a5b37e82"
      },
      "execution_count": 145,
      "outputs": [
        {
          "output_type": "stream",
          "name": "stdout",
          "text": [
            "['119', '97674223', '1195524421']\n"
          ]
        }
      ]
    },
    {
      "cell_type": "code",
      "source": [
        "a.sort()\n",
        "print(a)"
      ],
      "metadata": {
        "colab": {
          "base_uri": "https://localhost:8080/"
        },
        "id": "XSGORET4_B_8",
        "outputId": "451ac7c1-52b7-4db0-c676-10c126d5b021"
      },
      "execution_count": 147,
      "outputs": [
        {
          "output_type": "stream",
          "name": "stdout",
          "text": [
            "['119', '1195524421', '97674223']\n"
          ]
        }
      ]
    },
    {
      "cell_type": "code",
      "source": [
        "def solution(b):\n",
        "  a.sort()\n",
        "  for i in range(len(a)):\n",
        "    if a[i].startswith(a[0]):\n",
        "      del a(i)\n",
        "  return len(a)==0\n",
        "solution(b)"
      ],
      "metadata": {
        "colab": {
          "base_uri": "https://localhost:8080/"
        },
        "id": "tsMOo_SyhRjl",
        "outputId": "0bdd430f-ffbc-4611-cbd6-ec3bee79f84e"
      },
      "execution_count": 165,
      "outputs": [
        {
          "output_type": "stream",
          "name": "stdout",
          "text": [
            "[]\n"
          ]
        },
        {
          "output_type": "execute_result",
          "data": {
            "text/plain": [
              "False"
            ]
          },
          "metadata": {},
          "execution_count": 165
        }
      ]
    },
    {
      "cell_type": "code",
      "source": [
        "for i in range(len(a)):\n",
        "  if a[i].startswith(a[0]):\n",
        "    del a[i]\n",
        "print(a)"
      ],
      "metadata": {
        "colab": {
          "base_uri": "https://localhost:8080/"
        },
        "id": "Np9KI0ViPwOG",
        "outputId": "be63d69e-e943-4c79-acbb-c731faeb204d"
      },
      "execution_count": 203,
      "outputs": [
        {
          "output_type": "stream",
          "name": "stdout",
          "text": [
            "[]\n"
          ]
        }
      ]
    },
    {
      "cell_type": "code",
      "source": [
        "a=[\"119\", \"97674223\", \"1195524421\"]\n",
        "b=[\"123\",\"456\",\"789\"]\n",
        "c=[\"12\",\"123\",\"1235\",\"567\",\"88\"]\n",
        "d=[\"12\", \"13\", \"134\"]"
      ],
      "metadata": {
        "id": "DWHr5BAwQroW"
      },
      "execution_count": 284,
      "outputs": []
    },
    {
      "cell_type": "code",
      "source": [
        "def solution(phone_book):\n",
        "    phone_book.sort()\n",
        "    for i in phone_book[1:]:\n",
        "        if str(i).startswith(phone_book[0]):\n",
        "            x.append(i)\n",
        "            break\n",
        "    return len(x)==0"
      ],
      "metadata": {
        "id": "ewORBuF5K40R"
      },
      "execution_count": null,
      "outputs": []
    },
    {
      "cell_type": "code",
      "source": [
        "def solution(a):\n",
        "    a.sort()\n",
        "    i = 1\n",
        "    while i < len(a):\n",
        "        if a[i].startswith(a[i-1]):\n",
        "            return False\n",
        "        i += 1\n",
        "    return True\n",
        "solution(d)"
      ],
      "metadata": {
        "colab": {
          "base_uri": "https://localhost:8080/"
        },
        "id": "Pq341qshs8n9",
        "outputId": "5f458b64-f287-444f-92a7-6586dd54b4b7"
      },
      "execution_count": 291,
      "outputs": [
        {
          "output_type": "execute_result",
          "data": {
            "text/plain": [
              "False"
            ]
          },
          "metadata": {},
          "execution_count": 291
        }
      ]
    },
    {
      "cell_type": "code",
      "source": [
        "d.startwith()"
      ],
      "metadata": {
        "id": "pV2RilKOnp3r"
      },
      "execution_count": null,
      "outputs": []
    },
    {
      "cell_type": "code",
      "source": [
        "a.sort()\n",
        "print(a)"
      ],
      "metadata": {
        "colab": {
          "base_uri": "https://localhost:8080/"
        },
        "id": "58imqgupqQy0",
        "outputId": "43758094-b67b-4132-903b-274500c5b34d"
      },
      "execution_count": 286,
      "outputs": [
        {
          "output_type": "stream",
          "name": "stdout",
          "text": [
            "['119', '1195524421', '97674223']\n"
          ]
        }
      ]
    },
    {
      "cell_type": "code",
      "source": [
        ""
      ],
      "metadata": {
        "id": "btzWb3_ArTvU"
      },
      "execution_count": null,
      "outputs": []
    },
    {
      "cell_type": "code",
      "source": [
        "len(a[4])"
      ],
      "metadata": {
        "id": "RtrX0VWupt39"
      },
      "execution_count": null,
      "outputs": []
    },
    {
      "cell_type": "code",
      "source": [
        "def solution(d):\n",
        "  d.sort()\n",
        "  for i in range(1,len(d)):\n",
        "    if b[i].startswith(d[0]):\n",
        "      return False\n",
        "    else:\n",
        "      return True\n",
        "solution(b)"
      ],
      "metadata": {
        "colab": {
          "base_uri": "https://localhost:8080/"
        },
        "id": "eTKGJ9PleQPp",
        "outputId": "fd9be185-f0fc-415a-d21b-e3fe2a8a28df"
      },
      "execution_count": 280,
      "outputs": [
        {
          "output_type": "execute_result",
          "data": {
            "text/plain": [
              "True"
            ]
          },
          "metadata": {},
          "execution_count": 280
        }
      ]
    },
    {
      "cell_type": "code",
      "source": [
        "a.sort(key=lambda x: len(x)) #False -- 두개가 다르다\n",
        "a"
      ],
      "metadata": {
        "colab": {
          "base_uri": "https://localhost:8080/"
        },
        "id": "HYEmJjtBAQFQ",
        "outputId": "f0d7ae2d-fab8-4bf2-c65d-a3083706fa7c"
      },
      "execution_count": 266,
      "outputs": [
        {
          "output_type": "execute_result",
          "data": {
            "text/plain": [
              "['119', '97674223', '1195524421']"
            ]
          },
          "metadata": {},
          "execution_count": 266
        }
      ]
    },
    {
      "cell_type": "code",
      "source": [
        "a.sort()\n",
        "a"
      ],
      "metadata": {
        "colab": {
          "base_uri": "https://localhost:8080/"
        },
        "id": "FwrfbcBuASni",
        "outputId": "00331aef-467e-409a-c61c-597f8f52a9ad"
      },
      "execution_count": 268,
      "outputs": [
        {
          "output_type": "execute_result",
          "data": {
            "text/plain": [
              "['119', '1195524421', '97674223']"
            ]
          },
          "metadata": {},
          "execution_count": 268
        }
      ]
    },
    {
      "cell_type": "code",
      "source": [
        "b.sort(key=lambda x: len(x))\n",
        "b #True -- 두개가 같다"
      ],
      "metadata": {
        "colab": {
          "base_uri": "https://localhost:8080/"
        },
        "id": "MimVeIDm8HGj",
        "outputId": "a6dbd2a8-57d2-4690-8b95-0c4286c63d48"
      },
      "execution_count": 281,
      "outputs": [
        {
          "output_type": "execute_result",
          "data": {
            "text/plain": [
              "['123', '456', '789']"
            ]
          },
          "metadata": {},
          "execution_count": 281
        }
      ]
    },
    {
      "cell_type": "code",
      "source": [
        "b.sort()\n",
        "b"
      ],
      "metadata": {
        "colab": {
          "base_uri": "https://localhost:8080/"
        },
        "id": "eK5JxSr96-fk",
        "outputId": "22d58db7-eaf5-46b4-8876-f291270de71d"
      },
      "execution_count": 282,
      "outputs": [
        {
          "output_type": "execute_result",
          "data": {
            "text/plain": [
              "['123', '456', '789']"
            ]
          },
          "metadata": {},
          "execution_count": 282
        }
      ]
    },
    {
      "cell_type": "code",
      "source": [
        "c.sort(key=lambda x: len(x))\n",
        "b #False -- 두개가 다르다"
      ],
      "metadata": {
        "colab": {
          "base_uri": "https://localhost:8080/"
        },
        "id": "ehGyCZamAi_X",
        "outputId": "a9e8c5a7-d803-434b-d453-2b7d9f680ab7"
      },
      "execution_count": 283,
      "outputs": [
        {
          "output_type": "execute_result",
          "data": {
            "text/plain": [
              "['123', '456', '789']"
            ]
          },
          "metadata": {},
          "execution_count": 283
        }
      ]
    },
    {
      "cell_type": "code",
      "source": [
        "c.sort()\n",
        "print(c)"
      ],
      "metadata": {
        "colab": {
          "base_uri": "https://localhost:8080/"
        },
        "id": "zIjhWJepAjVA",
        "outputId": "73ee7da2-c899-4e39-feff-ae351a0c50fc"
      },
      "execution_count": null,
      "outputs": [
        {
          "output_type": "stream",
          "name": "stdout",
          "text": [
            "['12', '123', '1235', '567', '88']\n"
          ]
        }
      ]
    },
    {
      "cell_type": "code",
      "source": [
        "def solution(a):\n",
        "  if a[0] in a[1:len(a)]:\n",
        "    return True\n",
        "  else:\n",
        "    return False\n",
        "  return \n",
        "solution(a)"
      ],
      "metadata": {
        "colab": {
          "base_uri": "https://localhost:8080/"
        },
        "id": "TMI6sMEtcPjm",
        "outputId": "bc8b2f25-fd17-4d59-9783-81321e61b3f0"
      },
      "execution_count": null,
      "outputs": [
        {
          "output_type": "execute_result",
          "data": {
            "text/plain": [
              "False"
            ]
          },
          "metadata": {},
          "execution_count": 50
        }
      ]
    },
    {
      "cell_type": "code",
      "source": [
        "k=[a,a,b]\n"
      ],
      "metadata": {
        "id": "1YzJdRgE6jY-"
      },
      "execution_count": null,
      "outputs": []
    },
    {
      "cell_type": "code",
      "source": [
        "a=[[\"yellowhat\", \"headgear\"], [\"bluesunglasses\", \"eyewear\"], [\"green_turban\", \"headgear\"]]\n",
        "b=[[\"crowmask\", \"face\"], [\"bluesunglasses\", \"face\"], [\"smoky_makeup\", \"face\"]]"
      ],
      "metadata": {
        "id": "HQTn7L_S2AUH"
      },
      "execution_count": 292,
      "outputs": []
    },
    {
      "cell_type": "code",
      "source": [
        "import random"
      ],
      "metadata": {
        "id": "ibS-Zfi92UWg"
      },
      "execution_count": 293,
      "outputs": []
    },
    {
      "cell_type": "code",
      "source": [
        "for i in a:\n",
        "  print(i)"
      ],
      "metadata": {
        "colab": {
          "base_uri": "https://localhost:8080/"
        },
        "id": "7KDiBkab4ODv",
        "outputId": "e9b4fd6d-ff3c-47a3-c579-99ee146ec1bb"
      },
      "execution_count": 312,
      "outputs": [
        {
          "output_type": "stream",
          "name": "stdout",
          "text": [
            "['yellowhat', 'headgear']\n",
            "['bluesunglasses', 'eyewear']\n",
            "['green_turban', 'headgear']\n"
          ]
        }
      ]
    },
    {
      "cell_type": "code",
      "source": [
        "len(a)"
      ],
      "metadata": {
        "colab": {
          "base_uri": "https://localhost:8080/"
        },
        "id": "pWOcPmyj5xNO",
        "outputId": "76f181b7-315d-460f-d978-bd0145db7c4a"
      },
      "execution_count": 311,
      "outputs": [
        {
          "output_type": "execute_result",
          "data": {
            "text/plain": [
              "3"
            ]
          },
          "metadata": {},
          "execution_count": 311
        }
      ]
    },
    {
      "cell_type": "code",
      "source": [
        "x=[]\n",
        "for i in range(len(a)):\n",
        "  x.append(a[i])"
      ],
      "metadata": {
        "id": "d-K3Rs1U5AEu"
      },
      "execution_count": 325,
      "outputs": []
    },
    {
      "cell_type": "code",
      "source": [
        "# 옷 2 머리 1 바지 5\n",
        "# (2+1) * (1+1) * (5+1) -1\n",
        "# 머리 2 안경 1\n",
        "# (2+1) * (1+1) -1\n",
        "# 얼굴 3\n",
        "# (3+1)-1"
      ],
      "metadata": {
        "id": "fjXxEBaL8ruE"
      },
      "execution_count": 327,
      "outputs": []
    },
    {
      "cell_type": "code",
      "source": [
        ""
      ],
      "metadata": {
        "id": "UjPoXaEP9FbI"
      },
      "execution_count": null,
      "outputs": []
    }
  ]
}