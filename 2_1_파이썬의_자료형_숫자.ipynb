{
  "nbformat": 4,
  "nbformat_minor": 0,
  "metadata": {
    "colab": {
      "name": "2-1.파이썬의 자료형_숫자.ipynb",
      "provenance": [],
      "collapsed_sections": [],
      "include_colab_link": true
    },
    "kernelspec": {
      "name": "python3",
      "display_name": "Python 3"
    },
    "language_info": {
      "name": "python"
    }
  },
  "cells": [
    {
      "cell_type": "markdown",
      "metadata": {
        "id": "view-in-github",
        "colab_type": "text"
      },
      "source": [
        "<a href=\"https://colab.research.google.com/github/LeeHuiJong/SkillTreePython/blob/main/2_1_%ED%8C%8C%EC%9D%B4%EC%8D%AC%EC%9D%98_%EC%9E%90%EB%A3%8C%ED%98%95_%EC%88%AB%EC%9E%90.ipynb\" target=\"_parent\"><img src=\"https://colab.research.google.com/assets/colab-badge.svg\" alt=\"Open In Colab\"/></a>"
      ]
    },
    {
      "cell_type": "markdown",
      "source": [
        "# 2-1.파이썬의 자료형:숫자\n",
        "---\n",
        "* 날짜:\n",
        "* 이름:"
      ],
      "metadata": {
        "id": "kB5IciXEm6o4"
      }
    },
    {
      "cell_type": "markdown",
      "source": [
        "## 개념정리\n",
        "---\n",
        "\n",
        "\n",
        "코드를 작성하면서 우리는 다양한 데이터 자료형을 접하게 됩니다. 그 중 수치 자료형은 개수, 가격, 날짜 등 여러가지 데이터를 효과적으로 처리할 수 있습니다. 수치 자료형에 대해 알아보고 데이터 타입이 수치 자료형일 때 어떤 부가적인 연산들을 수행할 수 있는지 알아보도록 합니다. "
      ],
      "metadata": {
        "id": "4iN8NFzHRJ2D"
      }
    },
    {
      "cell_type": "markdown",
      "source": [
        "### (1) 수치자료형의 종류\n",
        "\n",
        "\n",
        "\n"
      ],
      "metadata": {
        "id": "UKlkHH0IRL5h"
      }
    },
    {
      "cell_type": "markdown",
      "source": [
        "#### **정수 `int`**\n",
        "정수형 자료형은 `int` 로 표시 됩니다. -1,-2, ... 0 , 1, 2 ,...  등 정수값을 나타냅니다. \n",
        "```\n",
        "num = 2\n",
        "print(num, type(num))\n",
        "```\n",
        "\n",
        "\n"
      ],
      "metadata": {
        "id": "opbfNksrAq4P"
      }
    },
    {
      "cell_type": "code",
      "source": [
        "num=2\n",
        "print(num,type(num))"
      ],
      "metadata": {
        "id": "0LEqDvQhtLwP",
        "colab": {
          "base_uri": "https://localhost:8080/"
        },
        "outputId": "08ea35fc-bc5c-41e6-d15c-ab66ddf627a1"
      },
      "execution_count": 10,
      "outputs": [
        {
          "output_type": "stream",
          "name": "stdout",
          "text": [
            "2 <class 'int'>\n"
          ]
        }
      ]
    },
    {
      "cell_type": "markdown",
      "source": [
        "#### **실수 `float`**\n",
        "실수값은 `float`으로 표히 됩니다. 3.0, 3.1 , ... 등 실수값을 나타냅니다. \n",
        "```\n",
        "num = -0.2\n",
        "print(num, type(num))\n",
        "```"
      ],
      "metadata": {
        "id": "DbjTishvtQNU"
      }
    },
    {
      "cell_type": "code",
      "source": [
        "num=-0.2\n",
        "print(num,type(num))"
      ],
      "metadata": {
        "id": "b2HTH0H1tS68",
        "colab": {
          "base_uri": "https://localhost:8080/"
        },
        "outputId": "841d1cea-ce31-4d72-b9d6-7f13afeac26b"
      },
      "execution_count": 11,
      "outputs": [
        {
          "output_type": "stream",
          "name": "stdout",
          "text": [
            "-0.2 <class 'float'>\n"
          ]
        }
      ]
    },
    {
      "cell_type": "markdown",
      "source": [
        "#### **복소수 `complex`**\n",
        "복소수는 제곱했을 때 음수가 되는 수입니다. 아래와 같이 정의할 수 있습니다.\n",
        "```\n",
        "num = 1+4j\n",
        "print(num, type(num))\n",
        "```"
      ],
      "metadata": {
        "id": "X2i8usALtUJL"
      }
    },
    {
      "cell_type": "code",
      "source": [
        "num=1+4j\n",
        "print(num,type(num))"
      ],
      "metadata": {
        "id": "I37szg1RtXXE",
        "colab": {
          "base_uri": "https://localhost:8080/"
        },
        "outputId": "362d07f7-46c3-4a5a-8941-2e4b78cf59c4"
      },
      "execution_count": 12,
      "outputs": [
        {
          "output_type": "stream",
          "name": "stdout",
          "text": [
            "(1+4j) <class 'complex'>\n"
          ]
        }
      ]
    },
    {
      "cell_type": "markdown",
      "source": [
        "복소수 자료형 경우  파이썬 내장 함수를 통해 실수값, 허수값, 컬례 복소수 등을 알 수 있습니다.\n",
        "\n",
        "* `.real()` : 복소수의 실수값을 확인합니다.\n",
        "\n",
        "```\n",
        "print(num.real)\n",
        "```\n"
      ],
      "metadata": {
        "id": "7zHbFccVtaFY"
      }
    },
    {
      "cell_type": "code",
      "source": [
        "print(num.real)"
      ],
      "metadata": {
        "id": "iLhCsBONdsam",
        "colab": {
          "base_uri": "https://localhost:8080/"
        },
        "outputId": "f9fd7f5d-4231-4764-fe59-e2db463072b4"
      },
      "execution_count": 13,
      "outputs": [
        {
          "output_type": "stream",
          "name": "stdout",
          "text": [
            "1.0\n"
          ]
        }
      ]
    },
    {
      "cell_type": "markdown",
      "source": [
        "\n",
        "* `.image()`: 복소수의 허수값을 확인합니다.\n",
        "\n",
        "```\n",
        "print(num.imag) # 허수값\n",
        "```\n"
      ],
      "metadata": {
        "id": "RR0Kdb6Ydsmt"
      }
    },
    {
      "cell_type": "code",
      "source": [
        "print(num.imag)"
      ],
      "metadata": {
        "id": "tD46aK3Ndtkr",
        "colab": {
          "base_uri": "https://localhost:8080/"
        },
        "outputId": "2d5ac66f-df62-4924-e063-e9ea17863fe8"
      },
      "execution_count": 14,
      "outputs": [
        {
          "output_type": "stream",
          "name": "stdout",
          "text": [
            "4.0\n"
          ]
        }
      ]
    },
    {
      "cell_type": "markdown",
      "source": [
        "\n",
        "* `.conjugate()`: 복소수의 컬례복소수를 확인합니다.\n",
        "\n",
        "```\n",
        "print(num.conjugate()) # 컬례복소수\n",
        "```"
      ],
      "metadata": {
        "id": "0dLg3PeDdt-f"
      }
    },
    {
      "cell_type": "code",
      "source": [
        "print(num.conjugate())"
      ],
      "metadata": {
        "id": "KTZ6dBVEta78",
        "colab": {
          "base_uri": "https://localhost:8080/"
        },
        "outputId": "f59c6e9e-c435-4ab3-bd16-29ce2a248159"
      },
      "execution_count": 15,
      "outputs": [
        {
          "output_type": "stream",
          "name": "stdout",
          "text": [
            "(1-4j)\n"
          ]
        }
      ]
    },
    {
      "cell_type": "markdown",
      "source": [
        "### (2) 수치자료형의 타입 변환\n",
        "\n",
        "수치자료형의 타입을 변환 할 수 있습니다. 아래와 같이 `a`를 값 1인 정수값으로 정의합시다.\n",
        "\n",
        "```\n",
        "a=1\n",
        "a, type(a)\n",
        "```"
      ],
      "metadata": {
        "id": "tTuhebzSy8w8"
      }
    },
    {
      "cell_type": "code",
      "source": [
        "a=1\n",
        "a, type(a)"
      ],
      "metadata": {
        "id": "mR3gG9It2SD3",
        "colab": {
          "base_uri": "https://localhost:8080/"
        },
        "outputId": "80fe96ee-3a1e-4264-973e-8b8411f35d09"
      },
      "execution_count": 17,
      "outputs": [
        {
          "output_type": "execute_result",
          "data": {
            "text/plain": [
              "(1, int)"
            ]
          },
          "metadata": {},
          "execution_count": 17
        }
      ]
    },
    {
      "cell_type": "markdown",
      "source": [
        "현재 `int` 타입인 값을 `float`으로 변환해보도록 합시다.\n",
        "\n",
        "```\n",
        "a = float(a)\n",
        "print(a, type(a))\n",
        "```"
      ],
      "metadata": {
        "id": "kfSac_Bj_ttS"
      }
    },
    {
      "cell_type": "code",
      "source": [
        "a=float(a)\n",
        "print(a,type(a))"
      ],
      "metadata": {
        "id": "RScoLai_4UA9",
        "colab": {
          "base_uri": "https://localhost:8080/"
        },
        "outputId": "4c44d772-f667-4fcd-96a9-a5e8862e1f61"
      },
      "execution_count": 18,
      "outputs": [
        {
          "output_type": "stream",
          "name": "stdout",
          "text": [
            "1.0 <class 'float'>\n"
          ]
        }
      ]
    },
    {
      "cell_type": "markdown",
      "source": [
        "다시 `int` 로 변환 해봅시다.\n",
        "\n",
        "```\n",
        "a = int(a)\n",
        "print(a, type(a))\n",
        "```"
      ],
      "metadata": {
        "id": "yCd_3r26_3ik"
      }
    },
    {
      "cell_type": "code",
      "source": [
        "a=int(a)\n",
        "print(a,type(a))"
      ],
      "metadata": {
        "id": "HIuhv_bv_3in",
        "colab": {
          "base_uri": "https://localhost:8080/"
        },
        "outputId": "4445b8b3-2abd-48db-dc07-ae83a814cbe7"
      },
      "execution_count": 19,
      "outputs": [
        {
          "output_type": "stream",
          "name": "stdout",
          "text": [
            "1 <class 'int'>\n"
          ]
        }
      ]
    },
    {
      "cell_type": "markdown",
      "source": [
        "참고로 문자형과도 변환이 가능합니다.\n",
        "\n",
        "```\n",
        "a = str(a)\n",
        "print(a, type(a))\n",
        "```"
      ],
      "metadata": {
        "id": "eY5X8k7nCDpL"
      }
    },
    {
      "cell_type": "code",
      "source": [
        "a=str(a)\n",
        "print(a,type(a))"
      ],
      "metadata": {
        "id": "0AhlUfUvCDpL",
        "colab": {
          "base_uri": "https://localhost:8080/"
        },
        "outputId": "12b162f9-b88f-4f6b-e084-aaaf54870c06"
      },
      "execution_count": 20,
      "outputs": [
        {
          "output_type": "stream",
          "name": "stdout",
          "text": [
            "1 <class 'str'>\n"
          ]
        }
      ]
    },
    {
      "cell_type": "markdown",
      "source": [
        "### (3) 산술연산자\n",
        "\n",
        "수치 자료형은 각종 산술연산이 가능합니다. 우리가 일반적으로 쓰는 덧셈, 뺄셈, 곱셉, 나눈셈을 수행해 보겠습니다. 아래 코드를 따라 쓰고 무엇이 나오는지 예측해 봅니다"
      ],
      "metadata": {
        "id": "PtSek8BAtiOx"
      }
    },
    {
      "cell_type": "markdown",
      "source": [
        "*  `+` 더하기\n",
        "\n",
        "```\n",
        "2+2\n",
        "```"
      ],
      "metadata": {
        "id": "EbG9oc_5tmB8"
      }
    },
    {
      "cell_type": "code",
      "source": [
        "2+2.0"
      ],
      "metadata": {
        "id": "o8tsqP0XtmVT",
        "colab": {
          "base_uri": "https://localhost:8080/"
        },
        "outputId": "f0cc2917-4df7-4324-bbf9-c660953ff8d5"
      },
      "execution_count": 22,
      "outputs": [
        {
          "output_type": "execute_result",
          "data": {
            "text/plain": [
              "4.0"
            ]
          },
          "metadata": {},
          "execution_count": 22
        }
      ]
    },
    {
      "cell_type": "markdown",
      "source": [
        "*   `-` 빼기\n",
        "\n",
        "```\n",
        "2-2\n",
        "```\n"
      ],
      "metadata": {
        "id": "73VOGRGqtpHM"
      }
    },
    {
      "cell_type": "code",
      "source": [
        "2-2.0"
      ],
      "metadata": {
        "id": "5pVh9h6rtyNN",
        "colab": {
          "base_uri": "https://localhost:8080/"
        },
        "outputId": "319479fa-7f46-4d6e-899d-909d888f6319"
      },
      "execution_count": 24,
      "outputs": [
        {
          "output_type": "execute_result",
          "data": {
            "text/plain": [
              "0.0"
            ]
          },
          "metadata": {},
          "execution_count": 24
        }
      ]
    },
    {
      "cell_type": "markdown",
      "source": [
        "*  `*` 곱하기\n",
        "  \n",
        "```\n",
        "2*2\n",
        "```"
      ],
      "metadata": {
        "id": "WfjAvOO_t1Sn"
      }
    },
    {
      "cell_type": "code",
      "source": [
        "2*2"
      ],
      "metadata": {
        "id": "rKG3lqZJt6aD",
        "colab": {
          "base_uri": "https://localhost:8080/"
        },
        "outputId": "85a0a36b-dff0-441c-becd-73032990c0cd"
      },
      "execution_count": 25,
      "outputs": [
        {
          "output_type": "execute_result",
          "data": {
            "text/plain": [
              "4"
            ]
          },
          "metadata": {},
          "execution_count": 25
        }
      ]
    },
    {
      "cell_type": "markdown",
      "source": [
        "*  `**` 제곱\n",
        "\n",
        "```\n",
        "2**2\n",
        "```\n"
      ],
      "metadata": {
        "id": "htPsV_JAt2hb"
      }
    },
    {
      "cell_type": "code",
      "source": [
        "2**2"
      ],
      "metadata": {
        "id": "4kbSrnvNt6zp",
        "colab": {
          "base_uri": "https://localhost:8080/"
        },
        "outputId": "0bde4e40-dde3-460c-b9ac-9094c844fcb5"
      },
      "execution_count": 26,
      "outputs": [
        {
          "output_type": "execute_result",
          "data": {
            "text/plain": [
              "4"
            ]
          },
          "metadata": {},
          "execution_count": 26
        }
      ]
    },
    {
      "cell_type": "markdown",
      "source": [
        "\n",
        "*  `/` 나누기\n",
        "\n",
        "```\n",
        "2/2\n",
        "```"
      ],
      "metadata": {
        "id": "rqGwmZiut3aV"
      }
    },
    {
      "cell_type": "code",
      "source": [
        "2/2\n",
        "10/2"
      ],
      "metadata": {
        "id": "6ontYOp7t7Mb",
        "colab": {
          "base_uri": "https://localhost:8080/"
        },
        "outputId": "c982fa71-4d3a-4044-c293-7055dca21dd0"
      },
      "execution_count": 28,
      "outputs": [
        {
          "output_type": "execute_result",
          "data": {
            "text/plain": [
              "5.0"
            ]
          },
          "metadata": {},
          "execution_count": 28
        }
      ]
    },
    {
      "cell_type": "markdown",
      "source": [
        "*  `//` 몫\n",
        "\n",
        "```\n",
        "2//2\n",
        "```"
      ],
      "metadata": {
        "id": "cGP6uK5mt4dm"
      }
    },
    {
      "cell_type": "code",
      "source": [
        "5//2"
      ],
      "metadata": {
        "id": "7LiMjLh5t7pD",
        "colab": {
          "base_uri": "https://localhost:8080/"
        },
        "outputId": "44eb6221-2295-4dad-c1a4-54bd2483b17f"
      },
      "execution_count": 30,
      "outputs": [
        {
          "output_type": "execute_result",
          "data": {
            "text/plain": [
              "2"
            ]
          },
          "metadata": {},
          "execution_count": 30
        }
      ]
    },
    {
      "cell_type": "markdown",
      "source": [
        "* `%` 나머지\n",
        "\n",
        "```\n",
        "2%2\n",
        "```\n"
      ],
      "metadata": {
        "id": "SRudXVcNt5GW"
      }
    },
    {
      "cell_type": "code",
      "source": [
        "2%2"
      ],
      "metadata": {
        "id": "f6CZv0bFt79-",
        "colab": {
          "base_uri": "https://localhost:8080/"
        },
        "outputId": "79aec767-1d76-4fea-96a8-d1b80727b5d5"
      },
      "execution_count": 31,
      "outputs": [
        {
          "output_type": "execute_result",
          "data": {
            "text/plain": [
              "0"
            ]
          },
          "metadata": {},
          "execution_count": 31
        }
      ]
    },
    {
      "cell_type": "markdown",
      "source": [
        "### **(4) 할당 연산자**\n",
        "\n",
        "할당연산자는 값을 변수에 바로 할당하는 연산자 입니다. 할당이란 것은 바인딩과 동일한 의미입니다. 따라서 `=` 이 기호는 할당연산자 라고 할 수 있습니다. 그러나 `=` 말고도 할당연산자는 몇개 더 있습니다. \n",
        "\n",
        "| 기호 | 뜻 |\n",
        "|--|--|\n",
        "|`+=`| 더한 후 대입 |\n",
        "|`-=`| 뺀 후  대입 |\n",
        "|`*=`| 곱한 후 대입 |\n",
        "|`**=`| 제곱 후 대입 |\n",
        "|`/=`| 나눈 후 대입 |\n",
        "|`//=`| 나눈 후 몫을 대입 |\n",
        "|`%=`| 나눈 후 나머지 대입 |\n"
      ],
      "metadata": {
        "id": "URp5HnPyAUf-"
      }
    },
    {
      "cell_type": "markdown",
      "source": [
        "#### **더한 후 대입하기**\n",
        "\n",
        "\n",
        "* `+=`\n",
        "\n",
        "```\n",
        "a = 5\n",
        "b = 2\n",
        "a += b # 할당연산자 사용  `a = a+b` 과 동일\n",
        "print(a)\n",
        "```\n"
      ],
      "metadata": {
        "id": "evZqLrJBAX8z"
      }
    },
    {
      "cell_type": "code",
      "source": [
        "a=5\n",
        "b=2\n",
        "a+=b # a=a+b 동일한 의미\n",
        "print(a)"
      ],
      "metadata": {
        "id": "66psqHA-Aduu",
        "colab": {
          "base_uri": "https://localhost:8080/"
        },
        "outputId": "e483cdd5-c0ce-406a-dbad-5015f48861d5"
      },
      "execution_count": 34,
      "outputs": [
        {
          "output_type": "stream",
          "name": "stdout",
          "text": [
            "7\n"
          ]
        }
      ]
    },
    {
      "cell_type": "markdown",
      "source": [
        "#### **뺀 후 대입하기**\n",
        "\n",
        "* `-=`\n",
        "\n",
        "```\n",
        "a = 5\n",
        "b = 2\n",
        "a -= b # 할당연산자 사용  `a = a-b` 과 동일\n",
        "print(a)\n",
        "```"
      ],
      "metadata": {
        "id": "mX3PEz11Afq_"
      }
    },
    {
      "cell_type": "code",
      "source": [
        "a=5\n",
        "b=2\n",
        "a-=b\n",
        "print(a)"
      ],
      "metadata": {
        "id": "OGWSGrzNAfb6",
        "colab": {
          "base_uri": "https://localhost:8080/"
        },
        "outputId": "d6226dc9-9e02-4981-ff8b-96ca2519d5d5"
      },
      "execution_count": 35,
      "outputs": [
        {
          "output_type": "stream",
          "name": "stdout",
          "text": [
            "3\n"
          ]
        }
      ]
    },
    {
      "cell_type": "markdown",
      "source": [
        "#### **곱한 후 대입하기**\n",
        "\n",
        "* `*=`\n",
        "\n",
        "```\n",
        "a = 5\n",
        "b = 2\n",
        "a *= b # 할당연산자 사용  `a = a*b` 과 동일\n",
        "print(a)\n",
        "```"
      ],
      "metadata": {
        "id": "SNkIoHeHDIUM"
      }
    },
    {
      "cell_type": "code",
      "source": [
        "a=5\n",
        "b=2\n",
        "a*=b\n",
        "print(a)"
      ],
      "metadata": {
        "id": "az6FzkQuDKym",
        "colab": {
          "base_uri": "https://localhost:8080/"
        },
        "outputId": "d3441691-5849-496b-a021-7e099b2357f4"
      },
      "execution_count": 36,
      "outputs": [
        {
          "output_type": "stream",
          "name": "stdout",
          "text": [
            "10\n"
          ]
        }
      ]
    },
    {
      "cell_type": "markdown",
      "source": [
        "#### **제곱 후 대입하기**\n",
        "\n",
        "* `**=`\n",
        "\n",
        "```\n",
        "a = 5\n",
        "b = 2\n",
        "a **= b # 할당연산자 사용  `a = a**b` 과 동일\n",
        "print(a)\n",
        "```"
      ],
      "metadata": {
        "id": "Evcg80s5DPC4"
      }
    },
    {
      "cell_type": "code",
      "source": [
        "a=5\n",
        "b=2\n",
        "a**=b\n",
        "print(a)"
      ],
      "metadata": {
        "id": "hpE25qg0DPyP",
        "colab": {
          "base_uri": "https://localhost:8080/"
        },
        "outputId": "2e8d60c0-264a-42c3-a3f6-9175856d0c82"
      },
      "execution_count": 37,
      "outputs": [
        {
          "output_type": "stream",
          "name": "stdout",
          "text": [
            "25\n"
          ]
        }
      ]
    },
    {
      "cell_type": "markdown",
      "source": [
        "#### **나눈 후 대입하기**\n",
        "\n",
        "* `/=`\n",
        "\n",
        "```\n",
        "a = 5\n",
        "b = 2\n",
        "a /= b # 할당연산자 사용  `a = a/b` 과 동일\n",
        "print(a)\n",
        "```"
      ],
      "metadata": {
        "id": "20DMtEcLDTMm"
      }
    },
    {
      "cell_type": "code",
      "source": [
        "a=5\n",
        "b=2\n",
        "a/=b\n",
        "print(a)"
      ],
      "metadata": {
        "id": "RyR5M61DDVPv",
        "colab": {
          "base_uri": "https://localhost:8080/"
        },
        "outputId": "854ae6be-658b-47f7-c24a-1d40706f8ff8"
      },
      "execution_count": 39,
      "outputs": [
        {
          "output_type": "stream",
          "name": "stdout",
          "text": [
            "2.5\n"
          ]
        }
      ]
    },
    {
      "cell_type": "markdown",
      "source": [
        "#### **나눈 후 몫을 대입하기**\n",
        "\n",
        "* `//=`\n",
        "\n",
        "```\n",
        "a = 5\n",
        "b = 2\n",
        "a //= b # 할당연산자 사용  `a = a//b` 과 동일\n",
        "print(a)\n",
        "```"
      ],
      "metadata": {
        "id": "hbXeSlqoD8o3"
      }
    },
    {
      "cell_type": "code",
      "source": [
        "a=5\n",
        "b=2\n",
        "a//=b\n",
        "print(a)"
      ],
      "metadata": {
        "id": "umWFbBJBEBBt",
        "colab": {
          "base_uri": "https://localhost:8080/"
        },
        "outputId": "e08ac814-a69f-4a0e-b7ff-b0729159dd38"
      },
      "execution_count": 40,
      "outputs": [
        {
          "output_type": "stream",
          "name": "stdout",
          "text": [
            "2\n"
          ]
        }
      ]
    },
    {
      "cell_type": "markdown",
      "source": [
        "### 나눈 후 나머지를 대입하기\n",
        "\n",
        "* `%=`\n",
        "\n",
        "```\n",
        "a = 5\n",
        "b = 2\n",
        "a %= b # 할당연산자 사용  `a = a%b` 과 동일\n",
        "print(a)\n",
        "```"
      ],
      "metadata": {
        "id": "27IOeqppEBRj"
      }
    },
    {
      "cell_type": "code",
      "source": [
        "a=5\n",
        "b=2\n",
        "a%=b\n",
        "print(a)"
      ],
      "metadata": {
        "id": "bShKWVX-EDNf",
        "colab": {
          "base_uri": "https://localhost:8080/"
        },
        "outputId": "f9542d7c-1263-4c7a-baae-49b89544ace4"
      },
      "execution_count": 41,
      "outputs": [
        {
          "output_type": "stream",
          "name": "stdout",
          "text": [
            "1\n"
          ]
        }
      ]
    },
    {
      "cell_type": "markdown",
      "source": [
        "## 문제풀이\n",
        "---\n",
        "\n",
        "**예제 01**\n",
        "\n",
        "아래 코드의 실행 결과를 예상하고 출력해보세요\n",
        "\n",
        "```\n",
        "2+5-3*5\n",
        "```\n"
      ],
      "metadata": {
        "id": "HgrXNsFnwp_m"
      }
    },
    {
      "cell_type": "code",
      "source": [
        "2+5-3*5"
      ],
      "metadata": {
        "id": "U8ehercCwsP8",
        "colab": {
          "base_uri": "https://localhost:8080/"
        },
        "outputId": "f70b7916-592d-487b-b2b2-73bb286b1f63"
      },
      "execution_count": 42,
      "outputs": [
        {
          "output_type": "execute_result",
          "data": {
            "text/plain": [
              "-8"
            ]
          },
          "metadata": {},
          "execution_count": 42
        }
      ]
    },
    {
      "cell_type": "markdown",
      "source": [
        "**예제 02**\n",
        "\n",
        "아래 코드의 실행 결과를 예상하고 출력해보세요\n",
        "```\n",
        "print(10/2)\n",
        "print(10%2)\n",
        "print(11%2)\n",
        "print(12%2)\n",
        "print(13%2)\n",
        "print(14%2)\n",
        "```"
      ],
      "metadata": {
        "id": "Bd7MAhfZwuYL"
      }
    },
    {
      "cell_type": "code",
      "source": [
        "print(10/2)\n",
        "print(10%2)\n",
        "print(11%2)\n",
        "print(12%2)\n",
        "print(13%2)\n",
        "print(14%2)"
      ],
      "metadata": {
        "id": "04JSAGa2wvXN",
        "colab": {
          "base_uri": "https://localhost:8080/"
        },
        "outputId": "d132dc37-e7fb-4bf6-c925-77643d1cfc3b"
      },
      "execution_count": 43,
      "outputs": [
        {
          "output_type": "stream",
          "name": "stdout",
          "text": [
            "5.0\n",
            "0\n",
            "1\n",
            "0\n",
            "1\n",
            "0\n"
          ]
        }
      ]
    },
    {
      "cell_type": "markdown",
      "source": [
        "**예제 03**\n",
        "\n",
        "`예제 02` 를 기반으로 `int` 값중 짝수와 홀수를 판별하는 방법을 제안하세요\n"
      ],
      "metadata": {
        "id": "ndVmQUdcwwbH"
      }
    },
    {
      "cell_type": "code",
      "source": [
        "a=3\n",
        "print(a%2==0)"
      ],
      "metadata": {
        "id": "BA7Glui4wyJx",
        "colab": {
          "base_uri": "https://localhost:8080/"
        },
        "outputId": "30243645-eafc-4fc5-df77-f2c92d9c5231"
      },
      "execution_count": 44,
      "outputs": [
        {
          "output_type": "stream",
          "name": "stdout",
          "text": [
            "False\n"
          ]
        }
      ]
    },
    {
      "cell_type": "markdown",
      "source": [
        "**예제 04**\n",
        "\n",
        "정수기가 월 30,000원에 무이자할부 5년 조건으로 판매되고 있습니다. 총 금액을 계산한 후 이를 화면에 출력해보세요. (변수사용하기)"
      ],
      "metadata": {
        "id": "BiJgJpfvwwdj"
      }
    },
    {
      "cell_type": "code",
      "source": [
        "정수기=30000\n",
        "정수기*5"
      ],
      "metadata": {
        "id": "e_RllwoewzQs",
        "colab": {
          "base_uri": "https://localhost:8080/"
        },
        "outputId": "01403f11-e387-42a0-ce1b-8e62aaef351c"
      },
      "execution_count": 45,
      "outputs": [
        {
          "output_type": "execute_result",
          "data": {
            "text/plain": [
              "150000"
            ]
          },
          "metadata": {},
          "execution_count": 45
        }
      ]
    },
    {
      "cell_type": "markdown",
      "source": [
        "**예제 05** \n",
        "\n",
        "변수가 아래와 같이 선언되어 있습니다. 각 변수들끼리 서로 더한 결과를 정리하세요\n",
        "\n",
        "```\n",
        "a = 5 \n",
        "b = 3.14 \n",
        "c = 3 + 4j\n",
        "```"
      ],
      "metadata": {
        "id": "wP9-y-apw030"
      }
    },
    {
      "cell_type": "code",
      "source": [
        "a=5\n",
        "b=3.14\n",
        "c=3+4j\n",
        "a+b,b+c,a+c"
      ],
      "metadata": {
        "id": "CQRbhmUMyq69",
        "colab": {
          "base_uri": "https://localhost:8080/"
        },
        "outputId": "5c7757e2-a251-42a9-fdfc-429dc40aa419"
      },
      "execution_count": 49,
      "outputs": [
        {
          "output_type": "execute_result",
          "data": {
            "text/plain": [
              "(8.14, (6.140000000000001+4j), (8+4j))"
            ]
          },
          "metadata": {},
          "execution_count": 49
        }
      ]
    },
    {
      "cell_type": "markdown",
      "source": [
        "**예제 06**\n",
        "\n",
        "아래 결과를 예측하세요\n",
        "\n",
        "\n",
        "```\n",
        "a= 1\n",
        "a= a+1\n",
        "a= a**3\n",
        "print(a)\n",
        "```"
      ],
      "metadata": {
        "id": "AqR7zhPaw145"
      }
    },
    {
      "cell_type": "code",
      "source": [
        "a=1\n",
        "a=a+1\n",
        "a=a**3\n",
        "print(a)"
      ],
      "metadata": {
        "id": "kIXwdd_nyrkR",
        "colab": {
          "base_uri": "https://localhost:8080/"
        },
        "outputId": "5de0c2ec-f216-4898-d9d3-bfa7e3bcbed8"
      },
      "execution_count": 50,
      "outputs": [
        {
          "output_type": "stream",
          "name": "stdout",
          "text": [
            "8\n"
          ]
        }
      ]
    },
    {
      "cell_type": "markdown",
      "source": [
        "**예제 07**\n",
        "\n",
        "아래 결과를 예측하세요\n",
        "\n",
        "\n",
        "```\n",
        "a= 1+3j\n",
        "b= a.real\n",
        "print(b%2)\n",
        "```\n"
      ],
      "metadata": {
        "id": "ey2pYPv4yYBp"
      }
    },
    {
      "cell_type": "code",
      "source": [
        "a=1+3j\n",
        "b=a.real\n",
        "print(b%2)"
      ],
      "metadata": {
        "id": "yanJRKU-yr8r",
        "colab": {
          "base_uri": "https://localhost:8080/"
        },
        "outputId": "ad1aed52-e624-41af-e8b6-cf96665244bd"
      },
      "execution_count": 54,
      "outputs": [
        {
          "output_type": "stream",
          "name": "stdout",
          "text": [
            "1.0\n"
          ]
        }
      ]
    },
    {
      "cell_type": "markdown",
      "source": [
        "**예제 08**\n",
        "\n",
        "아래와 같이 주가와 주식개수를 인풋으로 받아 평가금액을 출력하는 코드를 작성하세요\n",
        "\n",
        "```\n",
        ">> 주가: 10000\n",
        ">> 주식개수: 3\n",
        "평가금액은 30000원 입니다.\n",
        "```"
      ],
      "metadata": {
        "id": "wyBij9C6yZDw"
      }
    },
    {
      "cell_type": "code",
      "source": [
        "price=input(\"주가:\")\n",
        "num=input(\"주식개수:\")\n",
        "print(\"평가금액은 \",int(price)*int(num),\"원 입니다\",sep='')"
      ],
      "metadata": {
        "id": "M60QJ7V5ysav",
        "colab": {
          "base_uri": "https://localhost:8080/"
        },
        "outputId": "c0abdc09-bd33-4d12-e93d-93b59fec4088"
      },
      "execution_count": 82,
      "outputs": [
        {
          "output_type": "stream",
          "name": "stdout",
          "text": [
            "주가:10000\n",
            "주식개수:3\n",
            "평가금액은 30000원 입니다\n"
          ]
        }
      ]
    },
    {
      "cell_type": "markdown",
      "source": [
        "**예제 09**\n",
        "\n",
        "아래와 같이 복소수(complex)를 입력하면 실수값과 허수값, 실수값과 허수값을 알려주는 코드를 작성하세요. ★\n",
        "\n",
        "```\n",
        ">> 복소수를 입력하세요: 1+5j\n",
        "실수값은 1, 허수값은 5입니다. \n",
        "```"
      ],
      "metadata": {
        "id": "HTFQuWVeyaS4"
      }
    },
    {
      "cell_type": "code",
      "source": [
        "a=input(\"복소수를 입력하세요:\")\n",
        "print(\"실수값은 \",int(complex(a).real),\", 허수값은 \",int(complex(a).imag),\"입니다.\",sep='')"
      ],
      "metadata": {
        "id": "2vGeOjbwys2C",
        "colab": {
          "base_uri": "https://localhost:8080/"
        },
        "outputId": "5be1b538-52ba-4943-d3ab-a994086e2fae"
      },
      "execution_count": 74,
      "outputs": [
        {
          "output_type": "stream",
          "name": "stdout",
          "text": [
            "복소수를 입력하세요:1+5j\n",
            "실수값은 1, 허수값은 5입니다.\n"
          ]
        }
      ]
    },
    {
      "cell_type": "markdown",
      "source": [
        "**예제 10**\n",
        "\n",
        "아래와 같이 정수(int)를 입력하면 제곱값과 세제곱값을 출력하는 코드를 작성하세요.\n",
        "\n",
        "```\n",
        ">> 숫자를 입력하세요: 5\n",
        "5의 제곱은 25이고 세제곱은 125 입니다.\n",
        "```\n"
      ],
      "metadata": {
        "id": "qrPmvCY7ybVA"
      }
    },
    {
      "cell_type": "code",
      "source": [
        "a=input(\"숫자를 입력하세요: \")\n",
        "print(a,\"의 제곱은 \",int(a)**2,\"이고 세제곱은 \",int(a)**3,\" 입니다\",sep='')"
      ],
      "metadata": {
        "id": "PigOmcgwyyhj",
        "colab": {
          "base_uri": "https://localhost:8080/"
        },
        "outputId": "ab033626-2f4d-4be3-ad39-af590b357976"
      },
      "execution_count": 81,
      "outputs": [
        {
          "output_type": "stream",
          "name": "stdout",
          "text": [
            "숫자를 입력하세요: 5\n",
            "5의 제곱은 25이고 세제곱은 125 입니다\n"
          ]
        }
      ]
    },
    {
      "cell_type": "markdown",
      "source": [
        "**예제 11**\n",
        "\n",
        "실수값(float)을 입력하면 실수값에 5를 더한 값을 출력하는 코드를 작성하세요\n",
        "\n",
        "```\n",
        ">> 실수값을 입력하세요: 5.11\n",
        "5를 더한 값은 10.11 입니다.\n",
        "```\n"
      ],
      "metadata": {
        "id": "r-6cOE9Uyce4"
      }
    },
    {
      "cell_type": "code",
      "source": [
        "a=input(\"실수값을 입력하세요:\")\n",
        "print(\"5를 더한 값은\",float(a)+float(5),\"입니다.\")"
      ],
      "metadata": {
        "id": "wkoF8LTzy0g2",
        "colab": {
          "base_uri": "https://localhost:8080/"
        },
        "outputId": "12bdb0e1-e27b-4953-b1a7-36c3894267f0"
      },
      "execution_count": 70,
      "outputs": [
        {
          "output_type": "stream",
          "name": "stdout",
          "text": [
            "실수값을 입력하세요:5.11\n",
            "5를 더한 값은 10.11 입니다.\n"
          ]
        }
      ]
    },
    {
      "cell_type": "markdown",
      "source": [
        "\n",
        "**예제 12**\n",
        "\n",
        "첫번째 숫자와 두번째 숫자를 입력하면 첫번째 숫자를 두번째 숫자로 나눈 몫과 나머지를 구하는 코드를 작성하세요\n",
        "\n",
        "```\n",
        ">> 첫번째 숫자: 10\n",
        ">> 두번째 숫자: 3\n",
        "10 나누기 3은 몫이 3이고 나머지는 1입니다.\n",
        "```"
      ],
      "metadata": {
        "id": "PrS_rt0xydlV"
      }
    },
    {
      "cell_type": "code",
      "source": [
        "a=input(\"첫번째 숫자:\")\n",
        "b=input(\"두번째 숫자:\")\n",
        "print(a,\" 나누기 \",b,\"은 몫이 \",int(a)//int(b),\"이고 나머지는 \",int(a)%int(b),\"입니다.\",sep='')"
      ],
      "metadata": {
        "id": "1O9-xigHCaqb",
        "colab": {
          "base_uri": "https://localhost:8080/"
        },
        "outputId": "095ee8ca-b00b-4c9a-9db5-5be791fe3226"
      },
      "execution_count": 85,
      "outputs": [
        {
          "output_type": "stream",
          "name": "stdout",
          "text": [
            "첫번째 숫자:10\n",
            "두번째 숫자:3\n",
            "10 나누기 3은 몫이 3이고 나머지는 1입니다.\n"
          ]
        }
      ]
    }
  ]
}