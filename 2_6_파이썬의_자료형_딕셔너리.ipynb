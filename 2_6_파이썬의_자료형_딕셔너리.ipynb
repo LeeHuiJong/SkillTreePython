{
  "nbformat": 4,
  "nbformat_minor": 0,
  "metadata": {
    "colab": {
      "name": "2-6.파이썬의 자료형_딕셔너리.ipynb",
      "provenance": [],
      "collapsed_sections": [],
      "include_colab_link": true
    },
    "kernelspec": {
      "name": "python3",
      "display_name": "Python 3"
    },
    "language_info": {
      "name": "python"
    }
  },
  "cells": [
    {
      "cell_type": "markdown",
      "metadata": {
        "id": "view-in-github",
        "colab_type": "text"
      },
      "source": [
        "<a href=\"https://colab.research.google.com/github/LeeHuiJong/SkillTreePython/blob/main/2_6_%ED%8C%8C%EC%9D%B4%EC%8D%AC%EC%9D%98_%EC%9E%90%EB%A3%8C%ED%98%95_%EB%94%95%EC%85%94%EB%84%88%EB%A6%AC.ipynb\" target=\"_parent\"><img src=\"https://colab.research.google.com/assets/colab-badge.svg\" alt=\"Open In Colab\"/></a>"
      ]
    },
    {
      "cell_type": "markdown",
      "source": [
        "# 2-6.파이썬의 자료형:딕셔너리 \n",
        "---\n",
        "* 날짜:\n",
        "* 이름:"
      ],
      "metadata": {
        "id": "kB5IciXEm6o4"
      }
    },
    {
      "cell_type": "markdown",
      "source": [
        "## 개념정리\n",
        "---\n",
        "\n",
        "\n",
        "딕셔너리(dictionary) 는 `key`와 `value`로 이루어져 있습니다. 마치 사전처럼 특정 `key`에 접근해서 해당 `key`에 해당하는 `value`를 확인할 수 있습니다. 따라서 딕서녀리에서의 인덱싱 방법은 리스트나 튜플과 다르다는 점을 유의해야 합니다."
      ],
      "metadata": {
        "id": "4iN8NFzHRJ2D"
      }
    },
    {
      "cell_type": "markdown",
      "source": [
        "### **(1) 생성**\n",
        "\n",
        "`{ }` 기호를 통해 딕셔너리를 생성할 수 있습니다. 집합(set) 과 달리 딕셔너리에는 `key` 와 `value`가 존재하므로 이를 적어줍니다. 학생들의 이름표가 아래 표처럼 기입되어 있다고 가정합시다.\n",
        "\n",
        "|번호|이름|\n",
        "|--|--|\n",
        "|1|김모모|\n",
        "|2|이모모|\n",
        "|3|강모모|\n",
        "\n",
        "1-김모모, 2-이모모, 3-강모모 와 같이 순서쌍으로 되어있는 데이터를 딕셔너리로 아래와 같이 표현할 수 있습니다.\n",
        "```\n",
        "students = { 1: '김모모', 2: '이모모', 3: '강모모' }\n",
        "print( students, type(students) )\n",
        "```"
      ],
      "metadata": {
        "id": "MAM8MDnfw68b"
      }
    },
    {
      "cell_type": "code",
      "source": [
        "students={1:'김모모',2:'이모모',3:'강모모'}\n",
        "print(students,type(students))"
      ],
      "metadata": {
        "id": "Ci3MSqj8mdEo",
        "colab": {
          "base_uri": "https://localhost:8080/"
        },
        "outputId": "cf1a8336-0f1a-48a7-fd38-feea878b892e"
      },
      "execution_count": null,
      "outputs": [
        {
          "output_type": "stream",
          "name": "stdout",
          "text": [
            "{1: '김모모', 2: '이모모', 3: '강모모'} <class 'dict'>\n"
          ]
        }
      ]
    },
    {
      "cell_type": "markdown",
      "source": [
        "#### **key**\n",
        "\n",
        "* `a.keys()` : 딕셔너리 `a`의 `key` 값들을 반환합니다.\n",
        "\n",
        "딕셔너리 `students`의 `key` 값들을 확인해 봅시다.\n",
        "\n",
        "```\n",
        "students.keys()\n",
        "```"
      ],
      "metadata": {
        "id": "pTXhUDBdmflg"
      }
    },
    {
      "cell_type": "code",
      "source": [
        "a=list(students.keys())\n",
        "a"
      ],
      "metadata": {
        "id": "kQgNdHn9mhBf",
        "colab": {
          "base_uri": "https://localhost:8080/"
        },
        "outputId": "49d94f16-54a0-455c-bfbc-b87f189e2306"
      },
      "execution_count": null,
      "outputs": [
        {
          "output_type": "execute_result",
          "data": {
            "text/plain": [
              "[1, 2, 3]"
            ]
          },
          "metadata": {},
          "execution_count": 7
        }
      ]
    },
    {
      "cell_type": "markdown",
      "source": [
        "반환 값의 타입을 보면 `dict_keys`라는 객체를 돌려주는 것을 볼 수 있습니다. `dict_keys`는 리스트를 사용하는 것과 차이가 거의 없긴 하지만 리스트에서 사용되는 유용한 메서드 (`append`, `remove`, `sort` 등)을 사용할 수 없습니다. 따라서 `dict_keys` 객체를 리스트로 변환하려면 아래와 같이 리스트로 바인딩하고 이 `key`값들을 유용하게 사용할 수 있습니다. \n",
        "\n",
        "```\n",
        "key_list = students.keys()\n",
        "print(key_list)\n",
        "```\n"
      ],
      "metadata": {
        "id": "KkMGhau7mlt0"
      }
    },
    {
      "cell_type": "code",
      "source": [
        ""
      ],
      "metadata": {
        "id": "UwBXWvk5mr4v"
      },
      "execution_count": null,
      "outputs": []
    },
    {
      "cell_type": "markdown",
      "source": [
        "#### **value**\n",
        "\n",
        "* `a.values()` : 딕셔너리 `a`의 `vlalue` 값들을 반환합니다.\n",
        "\n",
        "딕셔너리 `students`의 `value` 값들을 확인해 봅시다.\n",
        "\n",
        "```\n",
        "students.values()\n",
        "```"
      ],
      "metadata": {
        "id": "xSWjMofZmqSd"
      }
    },
    {
      "cell_type": "code",
      "source": [
        "list(students.values())"
      ],
      "metadata": {
        "id": "Yiu0p9Hvmh7P",
        "colab": {
          "base_uri": "https://localhost:8080/"
        },
        "outputId": "16a96902-d5d1-4413-c9f1-235bc7c7cfb2"
      },
      "execution_count": null,
      "outputs": [
        {
          "output_type": "execute_result",
          "data": {
            "text/plain": [
              "['김모모', '이모모', '강모모']"
            ]
          },
          "metadata": {},
          "execution_count": 10
        }
      ]
    },
    {
      "cell_type": "markdown",
      "source": [
        "#### **딕셔너리의 요소**\n",
        "\n",
        "딕셔너리에는 `key`와 `value`로 구성되어 있습니다. `key`값과 `value`값은 문자열과 수치자료형이 모두 가능합니다.\n",
        "\n",
        "```\n",
        "students = { 1: '김모모', 2: '이모모', 3: '강모모' }\n",
        "print(students)\n",
        "students = { '김모모': 1, '이모모': 2, '강모모': 3}\n",
        "print(students)\n",
        "```"
      ],
      "metadata": {
        "id": "y4unWpUtnDRr"
      }
    },
    {
      "cell_type": "code",
      "source": [
        "students={'김모모':1, '이모모':2,'강모모':3}\n",
        "students"
      ],
      "metadata": {
        "id": "N-k0xPDlnCPR",
        "colab": {
          "base_uri": "https://localhost:8080/"
        },
        "outputId": "69e00dc5-b0ec-4d75-8246-28381224c882"
      },
      "execution_count": null,
      "outputs": [
        {
          "output_type": "execute_result",
          "data": {
            "text/plain": [
              "{'강모모': 3, '김모모': 1, '이모모': 2}"
            ]
          },
          "metadata": {},
          "execution_count": 12
        }
      ]
    },
    {
      "cell_type": "markdown",
      "source": [
        "* `value` 값은 리스트로 구성될 수 있습니다.\n",
        "\n",
        "```\n",
        "students = { 1: ['김모모', '여성'], 2: ['이모모', '여성'], 3: ['강모모', '남성'] } \n",
        "print(students)\n",
        "```"
      ],
      "metadata": {
        "id": "L3ivb4yznNkB"
      }
    },
    {
      "cell_type": "code",
      "source": [
        "students={1:['김모모','여성'],2:['이모모','여성']}"
      ],
      "metadata": {
        "id": "qq48adJTnIi4"
      },
      "execution_count": null,
      "outputs": []
    },
    {
      "cell_type": "markdown",
      "source": [
        "* `key`값은 리스트로 구성할 수 없습니다. ★\n",
        "\n",
        "1.   항목 추가\n",
        "2.   항목 추가\n",
        "\n",
        "\n",
        "\n",
        "```\n",
        "students = { ['김모모', '여성']:1, ['이모모', '여성']:2, ['강모모', '남성']:3 } \n",
        "print(students)\n",
        "```"
      ],
      "metadata": {
        "id": "q7ai9P_OnZOX"
      }
    },
    {
      "cell_type": "code",
      "source": [
        "student={['김']:1} #리스트를 키 값으로 지정하면 오류가 뜬다"
      ],
      "metadata": {
        "id": "B5rMikMYnOrP",
        "colab": {
          "base_uri": "https://localhost:8080/",
          "height": 174
        },
        "outputId": "69615b74-3939-4cf1-9d7e-e2a8a35b02be"
      },
      "execution_count": null,
      "outputs": [
        {
          "output_type": "error",
          "ename": "TypeError",
          "evalue": "ignored",
          "traceback": [
            "\u001b[0;31m---------------------------------------------------------------------------\u001b[0m",
            "\u001b[0;31mTypeError\u001b[0m                                 Traceback (most recent call last)",
            "\u001b[0;32m<ipython-input-13-2e2772bb99ff>\u001b[0m in \u001b[0;36m<module>\u001b[0;34m()\u001b[0m\n\u001b[0;32m----> 1\u001b[0;31m \u001b[0mstudent\u001b[0m\u001b[0;34m=\u001b[0m\u001b[0;34m{\u001b[0m\u001b[0;34m[\u001b[0m\u001b[0;34m'김'\u001b[0m\u001b[0;34m]\u001b[0m\u001b[0;34m:\u001b[0m\u001b[0;36m1\u001b[0m\u001b[0;34m}\u001b[0m\u001b[0;34m\u001b[0m\u001b[0;34m\u001b[0m\u001b[0m\n\u001b[0m",
            "\u001b[0;31mTypeError\u001b[0m: unhashable type: 'list'"
          ]
        }
      ]
    },
    {
      "cell_type": "markdown",
      "source": [
        "### **(2) 인덱싱과 슬라이싱**\n",
        "\n",
        "딕셔너리 자료형은 인덱싱이 가능하지만 슬라이싱은 불가능합니다.\n",
        "\n",
        "#### **인덱싱**\n",
        "\n",
        "딕셔너리 자료형에서 인덱싱을 하기 위해서는 `key`값을 이용합니다. \n",
        "\n",
        "```\n",
        "students = { 1: '김모모', 2: '이모모', 3: '강모모' }\n",
        "print(students)\n",
        "\n",
        "print(students[1]) \n",
        "print(students[2])\n",
        "print(students[3])\n",
        "```"
      ],
      "metadata": {
        "id": "6USCWJfinhzp"
      }
    },
    {
      "cell_type": "code",
      "source": [
        "students={1:'김모모',2:'이모모',3:'강모모'}\n",
        "students[1]"
      ],
      "metadata": {
        "id": "ru9cjc8MnhVA",
        "colab": {
          "base_uri": "https://localhost:8080/",
          "height": 35
        },
        "outputId": "024fb486-21b5-4b06-e2e5-a3d637b02a6f"
      },
      "execution_count": null,
      "outputs": [
        {
          "output_type": "execute_result",
          "data": {
            "text/plain": [
              "'김모모'"
            ],
            "application/vnd.google.colaboratory.intrinsic+json": {
              "type": "string"
            }
          },
          "metadata": {},
          "execution_count": 15
        }
      ]
    },
    {
      "cell_type": "markdown",
      "source": [
        "### **(3) 수정과 삭제**\n"
      ],
      "metadata": {
        "id": "Jt3KMf5enuzd"
      }
    },
    {
      "cell_type": "markdown",
      "source": [
        "\n",
        "#### **수정**\n",
        "\n",
        "인덱싱을 이용해 `value`값에 접근하여 값을 수정할 수 있습니다.\n",
        "\n",
        "```\n",
        "print(students)\n",
        "students[1] = \"윤모모\" # key 1 해당하는 value를 \"윤모모\"로 변경\n",
        "print(students)\n",
        "```"
      ],
      "metadata": {
        "id": "T4fcddD9n2XQ"
      }
    },
    {
      "cell_type": "code",
      "source": [
        "students[1]='윤모모'\n",
        "print(students)"
      ],
      "metadata": {
        "id": "FqSnpoQgnf1X",
        "colab": {
          "base_uri": "https://localhost:8080/"
        },
        "outputId": "21131958-28da-4568-9fbd-da8a7e3c4c4d"
      },
      "execution_count": null,
      "outputs": [
        {
          "output_type": "stream",
          "name": "stdout",
          "text": [
            "{1: '윤모모', 2: '이모모', 3: '강모모'}\n"
          ]
        }
      ]
    },
    {
      "cell_type": "markdown",
      "source": [
        "#### **삭제**\n",
        "\n",
        "인덱싱을 에용해 `value`값에 접근하고, `del` 을이용해 값을 삭제할 수 있습니다.\n",
        "\n",
        "```\n",
        "print(students)\n",
        "del students[1] # (1-윤모모) 삭제\n",
        "print(students)\n",
        "```\n"
      ],
      "metadata": {
        "id": "8FDcTjVPn_GM"
      }
    },
    {
      "cell_type": "code",
      "source": [
        "del students[1]\n",
        "print(students)"
      ],
      "metadata": {
        "id": "ssIGMsJ_n5D3",
        "colab": {
          "base_uri": "https://localhost:8080/"
        },
        "outputId": "da5d8186-8696-4db3-c060-c8013f064838"
      },
      "execution_count": null,
      "outputs": [
        {
          "output_type": "stream",
          "name": "stdout",
          "text": [
            "{2: '이모모', 3: '강모모'}\n"
          ]
        }
      ]
    },
    {
      "cell_type": "markdown",
      "source": [
        "\n",
        "### **(4) 관련 메서드**"
      ],
      "metadata": {
        "id": "UOJIwkinoRaF"
      }
    },
    {
      "cell_type": "markdown",
      "source": [
        "\n",
        "\n",
        "* `dict.get(k)` : 딕셔너리 `dict`의 key `k`에 해당하는 value를 반환합니다. 인덱싱과 같은 기능을 합니다. \n",
        "\n",
        "```\n",
        "print(students)\n",
        "print(students.get(2)) #  key 2에 해당하는 value 출력 (.get 이용하기)\n",
        "print(students[2]) # key 2에 해당하는 value 출력 (인덱싱 이용하기)\n",
        "```"
      ],
      "metadata": {
        "id": "P4ZTx-WLoFHQ"
      }
    },
    {
      "cell_type": "code",
      "source": [
        "students.get(2)"
      ],
      "metadata": {
        "id": "EeNW-L8AoDqR",
        "colab": {
          "base_uri": "https://localhost:8080/",
          "height": 35
        },
        "outputId": "d2db9db7-e1cf-4965-979d-d98eeeb49c24"
      },
      "execution_count": null,
      "outputs": [
        {
          "output_type": "execute_result",
          "data": {
            "text/plain": [
              "'이모모'"
            ],
            "application/vnd.google.colaboratory.intrinsic+json": {
              "type": "string"
            }
          },
          "metadata": {},
          "execution_count": 19
        }
      ]
    },
    {
      "cell_type": "markdown",
      "source": [
        "* `dict.items()` : 딕셔너리 `dict`의 key 와 value를 튜플 쌍으로 반환합니다.\n",
        "\n",
        "\n",
        "```\n",
        "print(students.items()) # key-value 쌍 출력\n",
        "```\n"
      ],
      "metadata": {
        "id": "IY34hs3NoQCi"
      }
    },
    {
      "cell_type": "code",
      "source": [
        "students.items()"
      ],
      "metadata": {
        "id": "GetiL-7-oI9O",
        "colab": {
          "base_uri": "https://localhost:8080/"
        },
        "outputId": "e0121d67-56f3-4817-bb4c-f4be8c434275"
      },
      "execution_count": null,
      "outputs": [
        {
          "output_type": "execute_result",
          "data": {
            "text/plain": [
              "dict_items([(2, '이모모'), (3, '강모모')])"
            ]
          },
          "metadata": {},
          "execution_count": 22
        }
      ]
    },
    {
      "cell_type": "markdown",
      "source": [
        "유용하게 사용하기 위해서는 리스트로 바꿔줍니다.\n",
        "\n",
        "```\n",
        "item_list = list(students.items())\n",
        "print(item_list)\n",
        "```"
      ],
      "metadata": {
        "id": "7CJzSn8boYPY"
      }
    },
    {
      "cell_type": "code",
      "source": [
        "item_list=list(students.items())\n",
        "item_list"
      ],
      "metadata": {
        "id": "ndAt_6B_ohRM",
        "colab": {
          "base_uri": "https://localhost:8080/"
        },
        "outputId": "4b172da1-001a-4c8d-de52-8eb974680baa"
      },
      "execution_count": null,
      "outputs": [
        {
          "output_type": "execute_result",
          "data": {
            "text/plain": [
              "[(2, '이모모'), (3, '강모모')]"
            ]
          },
          "metadata": {},
          "execution_count": 23
        }
      ]
    },
    {
      "cell_type": "markdown",
      "source": [
        "리스트 형식으로 `key`와 `value`값에 적절히 접근할 수 있습니다.\n",
        "\n",
        "```\n",
        "print(item_list[0][0]) # 0번째 key\n",
        "print(item_list[0][1]) # 0번째 value\n",
        "print(item_list[1][0]) # 1번째 key\n",
        "print(item_list[1][1]) # 1번째 value\n",
        "```"
      ],
      "metadata": {
        "id": "3Mz2hNPvoiYX"
      }
    },
    {
      "cell_type": "code",
      "source": [
        "item_list[0][1]"
      ],
      "metadata": {
        "id": "l1ggc4rqo5Kg",
        "colab": {
          "base_uri": "https://localhost:8080/",
          "height": 35
        },
        "outputId": "16d39f17-1a76-4be5-9446-082e9852ed60"
      },
      "execution_count": null,
      "outputs": [
        {
          "output_type": "execute_result",
          "data": {
            "text/plain": [
              "'이모모'"
            ],
            "application/vnd.google.colaboratory.intrinsic+json": {
              "type": "string"
            }
          },
          "metadata": {},
          "execution_count": 24
        }
      ]
    },
    {
      "cell_type": "markdown",
      "source": [
        "* `dict.clear()` : 딕셔너리 `dict`의 구성요소를 초기화(제거) 합니다.\n",
        "\n",
        "```\n",
        "print(students) # students  출력\n",
        "students.clear() # students 초기화\n",
        "print(students) # students  출력\n",
        "```"
      ],
      "metadata": {
        "id": "NPopL6l8oTw1"
      }
    },
    {
      "cell_type": "code",
      "source": [
        "students.clear()\n",
        "print(students)"
      ],
      "metadata": {
        "id": "OufFGiD8oUEJ",
        "colab": {
          "base_uri": "https://localhost:8080/"
        },
        "outputId": "8558f47c-e0ad-4446-c33c-e1e2c76cdcf5"
      },
      "execution_count": null,
      "outputs": [
        {
          "output_type": "stream",
          "name": "stdout",
          "text": [
            "{}\n"
          ]
        }
      ]
    },
    {
      "cell_type": "markdown",
      "source": [
        "## 문제풀이\n",
        "---\n",
        "\n"
      ],
      "metadata": {
        "id": "E2hw7Lu5o-fs"
      }
    },
    {
      "cell_type": "markdown",
      "source": [
        "**예제 01**\n",
        "\n",
        "과일메뉴와 가격이 다음과 같습니다. 이를 딕셔너리로 저장하세요\n",
        "\n",
        "|과일|가격|\n",
        "--|--\n",
        "사과|1000\n",
        "바나나|2400\n",
        "감자|400|\n",
        "메론|8000\n",
        "복숭아|4000\n",
        "딸기|9000\n"
      ],
      "metadata": {
        "id": "vBBYosZJpASW"
      }
    },
    {
      "cell_type": "code",
      "source": [
        "a={'사과':1000,'바나나':2400,'감자':400,'메론':8000,'복숭아':4000,'딸기':9000}\n",
        "a"
      ],
      "metadata": {
        "id": "NjNzHNhHo8Pm",
        "colab": {
          "base_uri": "https://localhost:8080/"
        },
        "outputId": "88d54045-c77a-4559-8695-648ddc6fb419"
      },
      "execution_count": null,
      "outputs": [
        {
          "output_type": "execute_result",
          "data": {
            "text/plain": [
              "{'감자': 400, '딸기': 9000, '메론': 8000, '바나나': 2400, '복숭아': 4000, '사과': 1000}"
            ]
          },
          "metadata": {},
          "execution_count": 58
        }
      ]
    },
    {
      "cell_type": "markdown",
      "source": [
        "**예제 02**\n",
        "\n",
        "위에서 만든 딕셔너리에 \"포도\"를 추가하세요 가격은 6500원입니다."
      ],
      "metadata": {
        "id": "EHflY9g-pBpS"
      }
    },
    {
      "cell_type": "code",
      "source": [
        "a['포도']=6500\n",
        "print(a)"
      ],
      "metadata": {
        "id": "AvZFSHdLpCv4",
        "colab": {
          "base_uri": "https://localhost:8080/"
        },
        "outputId": "feb6ee39-d966-434a-d859-af976edb0928"
      },
      "execution_count": null,
      "outputs": [
        {
          "output_type": "stream",
          "name": "stdout",
          "text": [
            "{'사과': 1000, '바나나': 2400, '감자': 400, '메론': 8000, '복숭아': 4000, '딸기': 9000, '포도': 6500}\n"
          ]
        }
      ]
    },
    {
      "cell_type": "markdown",
      "source": [
        "**예제 03**\n",
        "\n",
        "위에서 만든 딕셔너리에 \"감자\"를 삭제하세요\n"
      ],
      "metadata": {
        "id": "RqOkRDTspC5V"
      }
    },
    {
      "cell_type": "code",
      "source": [
        "del a['감자']\n",
        "a"
      ],
      "metadata": {
        "id": "Z46WP9k2pDYQ",
        "colab": {
          "base_uri": "https://localhost:8080/"
        },
        "outputId": "b4795a9e-3dce-4e91-ced2-47ff47428c5c"
      },
      "execution_count": null,
      "outputs": [
        {
          "output_type": "execute_result",
          "data": {
            "text/plain": [
              "{'딸기': 9000, '메론': 8000, '바나나': 2400, '복숭아': 4000, '사과': 1000, '포도': 6500}"
            ]
          },
          "metadata": {},
          "execution_count": 61
        }
      ]
    },
    {
      "cell_type": "markdown",
      "source": [
        "**예제 04**\n",
        "\n",
        "복숭아 가격이 올라 4500원이 되었습니다. 가격을 조정하세요"
      ],
      "metadata": {
        "id": "o6HRTQy3pDeI"
      }
    },
    {
      "cell_type": "code",
      "source": [
        "a['복숭아']=4500\n",
        "a"
      ],
      "metadata": {
        "id": "w7MSSt_ypEJ0",
        "colab": {
          "base_uri": "https://localhost:8080/"
        },
        "outputId": "20227856-2d38-4c3e-bfc5-84138c67203f"
      },
      "execution_count": null,
      "outputs": [
        {
          "output_type": "execute_result",
          "data": {
            "text/plain": [
              "{'딸기': 9000, '메론': 8000, '바나나': 2400, '복숭아': 4500, '사과': 1000, '포도': 6500}"
            ]
          },
          "metadata": {},
          "execution_count": 62
        }
      ]
    },
    {
      "cell_type": "markdown",
      "source": [
        "**예제 05**\n",
        "\n",
        "위에서 정의한 딕셔너리의 key 값들만 이용해서 아래와 같이 출력되도록 세줄의 코드를 작성하세요\n",
        "\n",
        "* 코드\n",
        "```\n",
        "# key값을 리스트로 변환합니다.\n",
        "# 리스트를 문자열로 변환합니다.\n",
        "# 문자열을 출력합니다.\n",
        "```\n",
        "\n",
        "* 실행 결과\n",
        "```\n",
        "가게 과일 종류는 사과, 바나나, 메론, 봉숭아, 딸기, 포도 입니다!\n",
        "```"
      ],
      "metadata": {
        "id": "W4tcYa3MpEOc"
      }
    },
    {
      "cell_type": "code",
      "source": [
        "b=list(a)\n",
        "c=str(b)\n",
        "print(c)"
      ],
      "metadata": {
        "id": "opdEEVMHpFQx",
        "colab": {
          "base_uri": "https://localhost:8080/"
        },
        "outputId": "a01897a1-1830-4e68-e859-b68c14441dbd"
      },
      "execution_count": null,
      "outputs": [
        {
          "output_type": "stream",
          "name": "stdout",
          "text": [
            "['사과', '바나나', '메론', '복숭아', '딸기', '포도']\n"
          ]
        }
      ]
    },
    {
      "cell_type": "markdown",
      "source": [
        "**예제 06**\n",
        "\n",
        "위에서 정의한 딕셔너리를 이용해서 사용자가 과일 종류 한가지를 입력하면 해당 과일의 가격을 출력하는 코드를 작성하세요\n",
        "\n",
        "* 실행 결과\n",
        "```\n",
        ">> 어떤 과일을 찾으시나요?: 사과\n",
        "사과의 가격은 1000원 입니다.\n",
        "```"
      ],
      "metadata": {
        "id": "x2E746EdpFWN"
      }
    },
    {
      "cell_type": "code",
      "source": [
        "a"
      ],
      "metadata": {
        "colab": {
          "base_uri": "https://localhost:8080/"
        },
        "id": "RIoK7mB06aF8",
        "outputId": "a52a5b7d-0bb8-4c1d-dcd6-8ff08b61608f"
      },
      "execution_count": null,
      "outputs": [
        {
          "output_type": "execute_result",
          "data": {
            "text/plain": [
              "{'딸기': 9000, '메론': 8000, '바나나': 2400, '복숭아': 4500, '사과': 1000, '포도': 6500}"
            ]
          },
          "metadata": {},
          "execution_count": 69
        }
      ]
    },
    {
      "cell_type": "code",
      "source": [
        "x=input(\"어떤 과일을 찾으시나요?:\")\n",
        "print(x,\"의 가격은 \",a.get(x),\"원 입니다\",sep=\"\") "
      ],
      "metadata": {
        "id": "A4_O8rJepQtv",
        "colab": {
          "base_uri": "https://localhost:8080/"
        },
        "outputId": "6d1f3f12-0872-46d1-d6da-68a73e9e131d"
      },
      "execution_count": null,
      "outputs": [
        {
          "output_type": "stream",
          "name": "stdout",
          "text": [
            "어떤 과일을 찾으시나요?:사과\n",
            "사과의 가격은 1000원 입니다\n"
          ]
        }
      ]
    },
    {
      "cell_type": "markdown",
      "source": [
        "**예제 07**\n",
        "\n",
        "커피를 `key`로, 가격과 재고가 들어있는 리스트를 `value` 로 하는 딕셔너리를 구성하여 `caffe_menu`로 바인딩하세요.\n",
        "\n",
        "|이름| 가격 | 재고 |\n",
        "|------| -----|----|\n",
        "|americano|1000|8\n",
        "|latte|1200|5\n",
        "|milk tea|1800|4\n"
      ],
      "metadata": {
        "id": "Jn6EOaYdpmJi"
      }
    },
    {
      "cell_type": "code",
      "source": [
        "caffe_menu={'americano':[1000,8],'latte':[1200,5],'milk tea':[1800,4]}\n",
        "print(caffe_menu)"
      ],
      "metadata": {
        "id": "4mBLSS4TpnfO",
        "colab": {
          "base_uri": "https://localhost:8080/"
        },
        "outputId": "e5fd6689-fb75-43fa-bf45-3d89b1d916f0"
      },
      "execution_count": null,
      "outputs": [
        {
          "output_type": "stream",
          "name": "stdout",
          "text": [
            "{'americano': [1000, 8], 'latte': [1200, 5], 'milk tea': [1800, 4]}\n"
          ]
        }
      ]
    },
    {
      "cell_type": "markdown",
      "source": [
        "**예제 08**\n",
        "\n",
        "americano의 재고를 출력하세요\n"
      ],
      "metadata": {
        "id": "wnkXcxJNpsQd"
      }
    },
    {
      "cell_type": "code",
      "source": [
        "caffe_menu.get('americano')[1]"
      ],
      "metadata": {
        "id": "tnwv8DN9ptEt",
        "colab": {
          "base_uri": "https://localhost:8080/"
        },
        "outputId": "a33e7e5b-3e53-43ff-a4dd-25a0c6fbfc61"
      },
      "execution_count": null,
      "outputs": [
        {
          "output_type": "execute_result",
          "data": {
            "text/plain": [
              "8"
            ]
          },
          "metadata": {},
          "execution_count": 79
        }
      ]
    },
    {
      "cell_type": "markdown",
      "source": [
        "\n",
        "**예제 09**\n",
        "\n",
        "latte의 가격을 출력하세요"
      ],
      "metadata": {
        "id": "wRw90-mHptKS"
      }
    },
    {
      "cell_type": "code",
      "source": [
        "caffe_menu.get('latte')[0]"
      ],
      "metadata": {
        "id": "wX5wz3bqpt7R",
        "colab": {
          "base_uri": "https://localhost:8080/"
        },
        "outputId": "4b66df87-5037-4cea-c626-28d1c8b03b44"
      },
      "execution_count": null,
      "outputs": [
        {
          "output_type": "execute_result",
          "data": {
            "text/plain": [
              "1200"
            ]
          },
          "metadata": {},
          "execution_count": 80
        }
      ]
    },
    {
      "cell_type": "markdown",
      "source": [
        "**예제 10**\n",
        "\n",
        "모든 가격의 평균을 출력하는 코드를 한줄로 작성하세요"
      ],
      "metadata": {
        "id": "bHKHg1UJpuA4"
      }
    },
    {
      "cell_type": "code",
      "source": [
        "sum([caffe_menu.get('americano')[0],caffe_menu.get('latte')[0],caffe_menu.get('milk tea')[0]])/len(caffe_menu)"
      ],
      "metadata": {
        "id": "W_V1N7SDpvBh",
        "colab": {
          "base_uri": "https://localhost:8080/"
        },
        "outputId": "3afb8721-088f-48e9-b007-6e010a548937"
      },
      "execution_count": null,
      "outputs": [
        {
          "output_type": "execute_result",
          "data": {
            "text/plain": [
              "1333.3333333333333"
            ]
          },
          "metadata": {},
          "execution_count": 89
        }
      ]
    },
    {
      "cell_type": "markdown",
      "source": [
        "**예제 11**\n",
        "\n",
        "가장 비싼 음료를 출력하는 코드를 한줄로 작성하세요"
      ],
      "metadata": {
        "id": "UGj-HLxApvKn"
      }
    },
    {
      "cell_type": "code",
      "source": [
        "max(list(caffe_menu.items()))[0]"
      ],
      "metadata": {
        "colab": {
          "base_uri": "https://localhost:8080/",
          "height": 35
        },
        "id": "poCppOwO0arH",
        "outputId": "59e1b62a-3551-4e62-96d9-66d8284a9918"
      },
      "execution_count": null,
      "outputs": [
        {
          "output_type": "execute_result",
          "data": {
            "text/plain": [
              "'milk tea'"
            ],
            "application/vnd.google.colaboratory.intrinsic+json": {
              "type": "string"
            }
          },
          "metadata": {},
          "execution_count": 251
        }
      ]
    },
    {
      "cell_type": "markdown",
      "source": [
        "**예제 12**\n",
        "\n",
        "우유값의 인상으로 latte와 milk tea의 가격이 300원씩 올랐습니다. `caffe_menu`에 반영하세요. (딕셔너리 자체를 재바인딩 하지 않도록 코드를 작성하세요.)"
      ],
      "metadata": {
        "id": "Ll9-2W1ZqVPP"
      }
    },
    {
      "cell_type": "code",
      "source": [
        "caffe_menu"
      ],
      "metadata": {
        "colab": {
          "base_uri": "https://localhost:8080/"
        },
        "id": "Ygu3mOmz-k5D",
        "outputId": "40a344c9-bf10-420e-cfbf-9dee7df5d596"
      },
      "execution_count": null,
      "outputs": [
        {
          "output_type": "execute_result",
          "data": {
            "text/plain": [
              "{'americano': [1000, 8], 'latte': [1200, 5], 'milk tea': [1800, 4]}"
            ]
          },
          "metadata": {},
          "execution_count": 163
        }
      ]
    },
    {
      "cell_type": "code",
      "source": [
        "caffe_menu['latte'][0]=caffe_menu['latte'][0]+300\n",
        "caffe_menu['milk tea'][0]=caffe_menu['milk tea'][0]+300\n",
        "print(caffe_menu)"
      ],
      "metadata": {
        "id": "VnpW2XlJqVay",
        "colab": {
          "base_uri": "https://localhost:8080/"
        },
        "outputId": "8e5e0bee-487b-4213-bc01-c6e3bf609a3b"
      },
      "execution_count": null,
      "outputs": [
        {
          "output_type": "stream",
          "name": "stdout",
          "text": [
            "{'americano': [1000, 8], 'latte': [1500, 5], 'milk tea': [2100, 4]}\n"
          ]
        }
      ]
    },
    {
      "cell_type": "markdown",
      "source": [
        "**예제 13**\n",
        "\n",
        "가격, 재고 외에 판매수 라는 정보를 더 추가하려 합니다. 판매수는 americano 15개, latte 8개, milk tea 5개 입니다. `caffe_menu`의 `value`에 판매수를 추가하세요.  (딕셔너리 자체를 재바인딩 하지 않도록 코드를 작성하세요.)\n"
      ],
      "metadata": {
        "id": "ffpR-aIzpwQn"
      }
    },
    {
      "cell_type": "code",
      "source": [
        "caffe_menu['americano']=caffe_menu['latte']+[15]\n",
        "caffe_menu['latte']=caffe_menu['latte']+[8]\n",
        "caffe_menu['milk tea']=caffe_menu['milk tea']+[5]\n",
        "print(caffe_menu)"
      ],
      "metadata": {
        "id": "ZhtuPrubpxhN",
        "colab": {
          "base_uri": "https://localhost:8080/"
        },
        "outputId": "be8ad695-db8a-4cc1-f2a8-9714121241e5"
      },
      "execution_count": null,
      "outputs": [
        {
          "output_type": "stream",
          "name": "stdout",
          "text": [
            "{'americano': [1500, 5, 15], 'latte': [1500, 5, 8], 'milk tea': [2100, 4, 5]}\n"
          ]
        }
      ]
    },
    {
      "cell_type": "markdown",
      "source": [
        "**예제 14**\n",
        "\n",
        "재고 자동화로 더이상 재고 데이터가 필요없게 되었습니다. `caffe_menu`에서  재고에 관한 값을 제거하세요. (딕셔너리 자체를 재바인딩 하지 않도록 코드를 작성하세요.)"
      ],
      "metadata": {
        "id": "hH-ILO6gqlxi"
      }
    },
    {
      "cell_type": "code",
      "source": [
        "del caffe_menu['americano'][1]\n",
        "del caffe_menu['latte'][1]\n",
        "del caffe_menu['milk tea'][1]\n",
        "print(caffe_menu)"
      ],
      "metadata": {
        "id": "MGHM3OKIqlxj",
        "colab": {
          "base_uri": "https://localhost:8080/"
        },
        "outputId": "5f2bd506-acfb-4eaa-8a99-a11183327324"
      },
      "execution_count": null,
      "outputs": [
        {
          "output_type": "stream",
          "name": "stdout",
          "text": [
            "{'americano': [1500, 15], 'latte': [1500, 8], 'milk tea': [2100, 5]}\n"
          ]
        }
      ]
    },
    {
      "cell_type": "markdown",
      "source": [
        "**예제 15**\n",
        "\n",
        "새로운 메뉴 `vanilla latte`가 추가되었습니다. 가격은 2000원이고 판매수는 0입니다. `caffe_menu`에 추가하세요."
      ],
      "metadata": {
        "id": "ayPk9FlFq3tf"
      }
    },
    {
      "cell_type": "code",
      "source": [
        "caffe_menu['vanilla latte']=[2000,0]\n",
        "print(caffe_menu)"
      ],
      "metadata": {
        "id": "9MXlfxTLq3tl",
        "colab": {
          "base_uri": "https://localhost:8080/"
        },
        "outputId": "a4c995c8-c4ae-44c5-9452-8b5c2b1675b6"
      },
      "execution_count": null,
      "outputs": [
        {
          "output_type": "stream",
          "name": "stdout",
          "text": [
            "{'americano': [1500, 15], 'latte': [1500, 8], 'milk tea': [2100, 5], 'vanilla latte': [2000, 0]}\n"
          ]
        }
      ]
    },
    {
      "cell_type": "markdown",
      "source": [
        "**예제 16**\n",
        "\n",
        "아래와 같이 코드를 실행하면 메뉴를 띄우고, 사용자가 메뉴를 입력하면 메뉴에 대한 정보를 출력하는 코드를 작성하세요.\n",
        "\n",
        "* 실행 결과\n",
        "```\n",
        ">> 메뉴: americano * latte * milk tea * vanilla latte\n",
        ">> 메뉴를 선택하세요: milk tea\n",
        "milk tea 의 가격은 2100원이고 오늘 5개 팔렸습니다.\n",
        "```\n"
      ],
      "metadata": {
        "id": "12io9CvxpSeZ"
      }
    },
    {
      "cell_type": "code",
      "source": [
        "print(\"메뉴: americano * latte * milk tea * vanilla latte\")\n",
        "m=input(\"메뉴를 선택하세요: \")\n",
        "print(m,\" 의 가격은 \",caffe_menu[m][0],\"원이고 오늘 \",caffe_menu[m][1],\"개 팔렸습니다.\",sep='')"
      ],
      "metadata": {
        "id": "rBVfpGbppTqv",
        "colab": {
          "base_uri": "https://localhost:8080/"
        },
        "outputId": "8e675e7d-7b3b-421d-bafd-e6d4df1837fa"
      },
      "execution_count": null,
      "outputs": [
        {
          "output_type": "stream",
          "name": "stdout",
          "text": [
            "메뉴: americano * latte * milk tea * vanilla latte\n",
            "메뉴를 선택하세요: milk tea\n",
            "milk tea 의 가격은 2100원이고 오늘 5개 팔렸습니다.\n"
          ]
        }
      ]
    },
    {
      "cell_type": "markdown",
      "source": [
        "**예제 17**\n",
        "\n",
        "아래와 같이 사용자가 0부터 9까지 숫자를 입력하면 한국어로 변환하는 코드를 작성하세요. \n",
        "\n",
        "* 실행 결과\n",
        "```\n",
        ">> 0부터 9까지 숫자를 입력하세요: 7\n",
        "7은 한국어로 \"칠\" 이라고 읽습니다.\n",
        "```\n"
      ],
      "metadata": {
        "id": "uS21dCdOrsr_"
      }
    },
    {
      "cell_type": "code",
      "source": [
        "num={1:'일',2:'이',3:'삼',4:'사',5:'오',6:'육',7:'칠'}\n",
        "num"
      ],
      "metadata": {
        "colab": {
          "base_uri": "https://localhost:8080/"
        },
        "id": "vwrmZfoqEkgB",
        "outputId": "c058d54a-a6a6-4fed-f768-e69ee361644f"
      },
      "execution_count": null,
      "outputs": [
        {
          "output_type": "execute_result",
          "data": {
            "text/plain": [
              "{1: '일', 2: '이', 3: '삼', 4: '사', 5: '오', 6: '육', 7: '칠'}"
            ]
          },
          "metadata": {},
          "execution_count": 127
        }
      ]
    },
    {
      "cell_type": "code",
      "source": [
        "num1=input(\"0부터 9가지 숫자를 입력하세요:\")\n",
        "print(num1,\"은 한국어로 \",'\"',num.get(int(num1)),'\"',' 이라고 읽습니다.',sep='')"
      ],
      "metadata": {
        "id": "bPbTUijmrsr_",
        "colab": {
          "base_uri": "https://localhost:8080/"
        },
        "outputId": "dd93399c-5247-4abf-92ef-72ed24112c0a"
      },
      "execution_count": null,
      "outputs": [
        {
          "output_type": "stream",
          "name": "stdout",
          "text": [
            "0부터 9가지 숫자를 입력하세요:7\n",
            "7은 한국어로 \"칠\" 이라고 읽습니다.\n"
          ]
        }
      ]
    },
    {
      "cell_type": "markdown",
      "source": [
        "**예제 18**\n",
        "\n",
        "아래와 같이 딕셔너리가 정의되어 있습니다. 알파벳을 입력하면 아래와 같은 실행 결과를 내는 코드를 작성하세요.\n",
        "\n",
        "```\n",
        "abc_dict = {'a': ['apple', 'air'], 'b': ['banana', 'book'] , 'c' : ['cherry', 'car']}\n",
        "```\n",
        "\n",
        "* 실행 결과\n",
        "```\n",
        ">> alphabet : a\n",
        "a is apple, a is air\n",
        "```\n",
        "\n",
        "* 실행 결과\n",
        "```\n",
        ">> alphabet : b\n",
        "b is banana, b is book\n",
        "```\n"
      ],
      "metadata": {
        "id": "ll-l2MJUrtCn"
      }
    },
    {
      "cell_type": "code",
      "source": [
        "abc_dict = {'a': ['apple', 'air'], 'b': ['banana', 'book'] , 'c' : ['cherry', 'car']}\n",
        "l=input('alphabet:')\n",
        "print(l,\"is\",abc_dict.get(l)[0],l,\"is\",abc_dict.get(l)[1])"
      ],
      "metadata": {
        "id": "_LNc0bKKrtCn",
        "colab": {
          "base_uri": "https://localhost:8080/"
        },
        "outputId": "8d0ac518-bc29-4460-edee-425ee81d083b"
      },
      "execution_count": null,
      "outputs": [
        {
          "output_type": "stream",
          "name": "stdout",
          "text": [
            "alphabet:a\n",
            "a is apple a is air\n"
          ]
        }
      ]
    },
    {
      "cell_type": "markdown",
      "source": [
        "**예제 19**\n",
        "\n",
        "아래와 같이 딕셔너리가 정의되어 있습니다. 알파벳을 입력하면 아래와 같은 실행 결과를 내는 코드를 작성하세요.\n",
        "\n",
        "```\n",
        "abc_dict = {'a': ['apple', 'air'], 'b': ['banana', 'book'] , 'c' : ['cherry', 'car']}\n",
        "```\n",
        "\n",
        "* 실행 결과\n",
        "```\n",
        ">> alphabet : a\n",
        "a is Apple, a is Air\n",
        "```\n",
        "\n",
        "* 실행 결과\n",
        "```\n",
        ">> alphabet : b\n",
        "b is Banana, b is Book\n",
        "```\n"
      ],
      "metadata": {
        "id": "AUslSi-ct6w2"
      }
    },
    {
      "cell_type": "code",
      "source": [
        "abc_dict = {'a': ['apple', 'air'], 'b': ['banana', 'book'] , 'c' : ['cherry', 'car']}\n",
        "c=input('alphabet:')\n",
        "print(c,\"is\",abc_dict.get(c)[0].capitalize(),c,\"is\",abc_dict.get(c)[1].capitalize())"
      ],
      "metadata": {
        "id": "ZM8oRmBPt6w8",
        "colab": {
          "base_uri": "https://localhost:8080/"
        },
        "outputId": "b3eb242f-88b3-46b4-f1bb-010a4ed875f0"
      },
      "execution_count": null,
      "outputs": [
        {
          "output_type": "stream",
          "name": "stdout",
          "text": [
            "alphabet:b\n",
            "b is Banana b is Book\n"
          ]
        }
      ]
    },
    {
      "cell_type": "markdown",
      "source": [
        "**예제 20**\n",
        "\n",
        "아래와 같이 딕셔너리가 정의되어 있습니다. 알파벳을 입력하면 아래와 같은 실행 결과를 내는 코드를 작성하세요.\n",
        "\n",
        "```\n",
        "abc_dict = {'a': ['apple', 'air'], 'b': ['banana', 'book'] , 'c' : ['cherry', 'car']}\n",
        "```\n",
        "\n",
        "* 실행 결과\n",
        "```\n",
        ">> alphabet : a\n",
        ">> num : 0\n",
        "a is Apple\n",
        "```\n",
        "\n",
        "* 실행 결과\n",
        "```\n",
        ">> alphabet : b\n",
        ">> num : 1\n",
        "b is Book\n",
        "```\n"
      ],
      "metadata": {
        "id": "xTC4HPlzuF-i"
      }
    },
    {
      "cell_type": "code",
      "source": [
        "abc_dict = {'a': ['apple', 'air'], 'b': ['banana', 'book'] , 'c' : ['cherry', 'car']}\n",
        "b=input('alphabet : ')\n",
        "d=input('num : ')\n",
        "print(b,\"is\",abc_dict.get(b)[int(d)].capitalize())"
      ],
      "metadata": {
        "id": "TMyWR9-buF-p",
        "colab": {
          "base_uri": "https://localhost:8080/"
        },
        "outputId": "5b8580f5-89f5-4665-d449-52f628963c5c"
      },
      "execution_count": null,
      "outputs": [
        {
          "output_type": "stream",
          "name": "stdout",
          "text": [
            "alphabet : b\n",
            "num : 1\n",
            "b is Book\n"
          ]
        }
      ]
    }
  ]
}