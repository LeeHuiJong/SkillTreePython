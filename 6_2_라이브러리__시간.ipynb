{
  "nbformat": 4,
  "nbformat_minor": 0,
  "metadata": {
    "colab": {
      "name": "6-2.라이브러리_ 시간.ipynb",
      "provenance": [],
      "collapsed_sections": [],
      "include_colab_link": true
    },
    "kernelspec": {
      "name": "python3",
      "display_name": "Python 3"
    },
    "language_info": {
      "name": "python"
    }
  },
  "cells": [
    {
      "cell_type": "markdown",
      "metadata": {
        "id": "view-in-github",
        "colab_type": "text"
      },
      "source": [
        "<a href=\"https://colab.research.google.com/github/LeeHuiJong/SkillTreePython/blob/main/6_2_%EB%9D%BC%EC%9D%B4%EB%B8%8C%EB%9F%AC%EB%A6%AC__%EC%8B%9C%EA%B0%84.ipynb\" target=\"_parent\"><img src=\"https://colab.research.google.com/assets/colab-badge.svg\" alt=\"Open In Colab\"/></a>"
      ]
    },
    {
      "cell_type": "markdown",
      "metadata": {
        "id": "jgFAOz-Tw1VI"
      },
      "source": [
        "# 6-2.라이브러리: 시간\n",
        "---\n",
        "* 날짜:\n",
        "* 이름:\n"
      ]
    },
    {
      "cell_type": "markdown",
      "metadata": {
        "id": "roC8A6Ro6THT"
      },
      "source": [
        "## 개념정리\n",
        "---\n",
        "\n",
        "시간과 관련된 프로그램은 아주 많습니다. 이를 위해 유용한 라이브러리인 `time` 과 `calendar`을 알아봅니다. 두 라이브러리에는 시간 관련 함수가 굉장히 많습니다. 그 중 자주 사용되는 함수 몇가지 위주로 공부해봅니다.\n"
      ]
    },
    {
      "cell_type": "markdown",
      "metadata": {
        "id": "H2HY9CbXvBoB"
      },
      "source": [
        "### **(1) 라이브러리 임포트 : `time`**\n",
        "\n",
        "아래와 같이 `time` 모듈을 `import` 해줍니다.\n",
        "\n",
        "```\n",
        "import time\n",
        "```\n"
      ]
    },
    {
      "cell_type": "code",
      "metadata": {
        "id": "5mAKOlI-vBoD"
      },
      "source": [
        "import time"
      ],
      "execution_count": 1,
      "outputs": []
    },
    {
      "cell_type": "markdown",
      "source": [
        "### **(2) 기본 사용 : `time`**\n"
      ],
      "metadata": {
        "id": "7tKI5oCovsJ5"
      }
    },
    {
      "cell_type": "markdown",
      "metadata": {
        "id": "UdnlqgsIvBoD"
      },
      "source": [
        "#### **시간확인**\n",
        "\n"
      ]
    },
    {
      "cell_type": "markdown",
      "metadata": {
        "id": "SjGX5RIJu7SG"
      },
      "source": [
        "* `time.time`\n",
        "\n",
        "`time.time()`은 UTC(Universal Time Coordinated 협정 세계 표준시)를 사용하여 1970년 1월 1일 0시 0분 0초를 기준으로 현재 시간을 초 단위로 돌려줍니다. 따라서 이 함수를 써서는 정확한 시간을 이해하기 힘듭니다. \n",
        "\n",
        "```\n",
        "time.time()\n",
        "```\n",
        "\n"
      ]
    },
    {
      "cell_type": "code",
      "metadata": {
        "id": "gERBDDc8u7SJ",
        "colab": {
          "base_uri": "https://localhost:8080/"
        },
        "outputId": "c23d70c9-f28e-4d01-f750-b7528550173e"
      },
      "source": [
        "time.time()"
      ],
      "execution_count": 4,
      "outputs": [
        {
          "output_type": "execute_result",
          "data": {
            "text/plain": [
              "1649051109.291909"
            ]
          },
          "metadata": {},
          "execution_count": 4
        }
      ]
    },
    {
      "cell_type": "markdown",
      "metadata": {
        "id": "zD6gfuVD3xwx"
      },
      "source": [
        "* `time.ctime` \n",
        "\n",
        "현재 시간을 알아보기 쉬운 문자열 형식으로 반환합니다.\n",
        "\n",
        "```\n",
        "t = time.ctime()\n",
        "print(t)\n",
        "print(type(t))\n",
        "\n",
        "```\n",
        "\n"
      ]
    },
    {
      "cell_type": "code",
      "metadata": {
        "id": "OaowHk_83leh",
        "colab": {
          "base_uri": "https://localhost:8080/",
          "height": 35
        },
        "outputId": "35b7d261-d252-47ac-886e-fa39ae13f11c"
      },
      "source": [
        "time.ctime()"
      ],
      "execution_count": 5,
      "outputs": [
        {
          "output_type": "execute_result",
          "data": {
            "text/plain": [
              "'Mon Apr  4 05:45:23 2022'"
            ],
            "application/vnd.google.colaboratory.intrinsic+json": {
              "type": "string"
            }
          },
          "metadata": {},
          "execution_count": 5
        }
      ]
    },
    {
      "cell_type": "markdown",
      "metadata": {
        "id": "DJsRofyYwcCG"
      },
      "source": [
        "#### **시간조절**\n",
        "\n"
      ]
    },
    {
      "cell_type": "markdown",
      "metadata": {
        "id": "ZywpY9IBwcCM"
      },
      "source": [
        "* `time.sleep`\n",
        "\n",
        "`time.sleep`은 코드를 일정 시간동안 멈출 수 있습니다. 주로 반복문 내에서 시간 간격을 두고 실행하고 싶을 때 쓰입니다.\n",
        "\n",
        "```\n",
        "for i in range(10):\n",
        "    print(i)\n",
        "    time.sleep(1)\n",
        "```\n",
        "\n"
      ]
    },
    {
      "cell_type": "code",
      "metadata": {
        "id": "M3D3N6rewcCM",
        "colab": {
          "base_uri": "https://localhost:8080/"
        },
        "outputId": "74f6490f-c736-4d9e-8d39-02f4944cc9b7"
      },
      "source": [
        "for i in range(1,6):\n",
        "  print(f'{i}초 지났습니다')\n",
        "  time.sleep(3)"
      ],
      "execution_count": 9,
      "outputs": [
        {
          "output_type": "stream",
          "name": "stdout",
          "text": [
            "1초 지났습니다\n",
            "2초 지났습니다\n",
            "3초 지났습니다\n",
            "4초 지났습니다\n",
            "5초 지났습니다\n"
          ]
        }
      ]
    },
    {
      "cell_type": "markdown",
      "metadata": {
        "id": "a3YlZx2lOstl"
      },
      "source": [
        "### **(3) 라이브러리 임포트(import) : `calendar`**\n",
        "\n",
        "\n",
        "```\n",
        "import calendar\n",
        "```\n"
      ]
    },
    {
      "cell_type": "code",
      "metadata": {
        "id": "-KkhR9yaOstm"
      },
      "source": [
        "import calendar"
      ],
      "execution_count": 10,
      "outputs": []
    },
    {
      "cell_type": "markdown",
      "source": [
        "### **(4) 기본 사용 : `calendar`**"
      ],
      "metadata": {
        "id": "x4b6XE2IwWCR"
      }
    },
    {
      "cell_type": "markdown",
      "metadata": {
        "id": "u0q6rzI-PA6i"
      },
      "source": [
        "#### **달력 보기**\n",
        "\n"
      ]
    },
    {
      "cell_type": "markdown",
      "metadata": {
        "id": "y6imlv3cPA6i"
      },
      "source": [
        "* `calendar.prmonth`\n",
        "\n",
        "`calendar.prmonth`는 연도와 월을 입력하면 해당 월의 달력을 출력해줍니다.\n",
        "\n",
        "```\n",
        "calendar.prmonth(연도, 월)\n",
        "```\n",
        "\n"
      ]
    },
    {
      "cell_type": "code",
      "metadata": {
        "id": "ofTbeRnIPA6j",
        "colab": {
          "base_uri": "https://localhost:8080/"
        },
        "outputId": "99840b2a-3ed8-4a9c-b9c1-b12a21bfa530"
      },
      "source": [
        "calendar.prmonth(2022,4)"
      ],
      "execution_count": 11,
      "outputs": [
        {
          "output_type": "stream",
          "name": "stdout",
          "text": [
            "     April 2022\n",
            "Mo Tu We Th Fr Sa Su\n",
            "             1  2  3\n",
            " 4  5  6  7  8  9 10\n",
            "11 12 13 14 15 16 17\n",
            "18 19 20 21 22 23 24\n",
            "25 26 27 28 29 30\n"
          ]
        }
      ]
    },
    {
      "cell_type": "markdown",
      "metadata": {
        "id": "BFHm6JKmPc2r"
      },
      "source": [
        "#### **날짜 반환**\n",
        "\n"
      ]
    },
    {
      "cell_type": "markdown",
      "metadata": {
        "id": "TfxqY2sIPc2s"
      },
      "source": [
        "* `calendar.weekday`\n",
        "\n",
        "`weekday` 함수는 연도, 월, 일을 입력하면 0에서 6까지의 정수 반환합니다. 각 숫자는 월요일 부터 일요일을 의미합니다. \n",
        "\n",
        "```\n",
        "정수 = calendar.weekday(연도, 월, 일)\n",
        "# 정수값은 0~6 이며, 월~일을 의미\n",
        "```\n",
        "\n"
      ]
    },
    {
      "cell_type": "code",
      "metadata": {
        "id": "dAgIvgfVPc2t",
        "colab": {
          "base_uri": "https://localhost:8080/"
        },
        "outputId": "fb69466f-0035-4e92-fece-fbb56969d40b"
      },
      "source": [
        "calendar.weekday(2022,4,4)"
      ],
      "execution_count": 12,
      "outputs": [
        {
          "output_type": "execute_result",
          "data": {
            "text/plain": [
              "0"
            ]
          },
          "metadata": {},
          "execution_count": 12
        }
      ]
    },
    {
      "cell_type": "markdown",
      "metadata": {
        "id": "5niolBqHPVLj"
      },
      "source": [
        "* `calendar.monthrange()`\n",
        "\n",
        "`calendar.monthrange`는 연도와 월을 입력하면 이달이 무슨 요일인지,그리고 며칠까지 있는지를 튜플 형태로 출력합니다. \n",
        "\n",
        "```\n",
        "첫번째요일, 일수 = calendar.monthrange(연도, 월)\n",
        "```\n",
        "\n"
      ]
    },
    {
      "cell_type": "code",
      "metadata": {
        "id": "nMGHfL0fPVLj",
        "colab": {
          "base_uri": "https://localhost:8080/"
        },
        "outputId": "4e73e8c5-c41d-484f-8bfb-4045c8c82488"
      },
      "source": [
        "calendar.monthrange(2022,4)"
      ],
      "execution_count": 13,
      "outputs": [
        {
          "output_type": "execute_result",
          "data": {
            "text/plain": [
              "(4, 30)"
            ]
          },
          "metadata": {},
          "execution_count": 13
        }
      ]
    },
    {
      "cell_type": "markdown",
      "metadata": {
        "id": "Iflmv_G4M7Qs"
      },
      "source": [
        "## 예제\n",
        "---"
      ]
    },
    {
      "cell_type": "markdown",
      "metadata": {
        "id": "d9o7kBXoNlE3"
      },
      "source": [
        "**예제 01**\n",
        "\n",
        "타이머를 만듭시다. 이 타이머는 10초 단위로 알림을 하고 10 부터는 카운트 합니다. (실제로 초단위의 타이머를 만듭니다.)\n",
        "\n",
        "```\n",
        ">> 타이머(60)\n",
        "60\n",
        "50\n",
        "40\n",
        "30\n",
        "20\n",
        "10\n",
        "9!\n",
        "8!\n",
        "7!\n",
        "6!\n",
        "5!\n",
        "4!\n",
        "3!\n",
        "2!\n",
        "1!\n",
        "삐빅\n",
        "```\n",
        "\n",
        "\n",
        ">>\n",
        "\n"
      ]
    },
    {
      "cell_type": "code",
      "source": [
        "for i in range(1,6):\n",
        "  print(f'{i}초 지났습니다')\n",
        "  time.sleep(3)"
      ],
      "metadata": {
        "id": "rjdAg0-RJxso"
      },
      "execution_count": null,
      "outputs": []
    },
    {
      "cell_type": "code",
      "metadata": {
        "id": "Gwir0bafNlE9",
        "colab": {
          "base_uri": "https://localhost:8080/"
        },
        "outputId": "b00ef5bb-ce16-467b-f4ec-0e37b3d9ae4f"
      },
      "source": [
        "def 타이머(a):\n",
        "  for i in range(a,9,-10):\n",
        "    print(f'{i}')\n",
        "    time.sleep(10)\n",
        "  for j in range(9,0,-1):\n",
        "    print(f'{j}')\n",
        "    time.sleep(1)\n",
        "  print(\"삐빅\")\n",
        "타이머(60)"
      ],
      "execution_count": 172,
      "outputs": [
        {
          "output_type": "stream",
          "name": "stdout",
          "text": [
            "60\n",
            "50\n",
            "40\n",
            "30\n",
            "20\n",
            "10\n",
            "10\n",
            "9\n",
            "8\n",
            "7\n",
            "6\n",
            "5\n",
            "4\n",
            "3\n",
            "2\n",
            "1\n",
            "삐빅\n"
          ]
        }
      ]
    },
    {
      "cell_type": "markdown",
      "metadata": {
        "id": "xjss54fvOD3D"
      },
      "source": [
        "**예제 02**\n",
        "\n",
        "시간을 알려주는 챗봇을 만들어 봅시다. 사용자가 입력한 문장에서 다음과 같은 문장이 있으면 그에 따른 대답을 합니다.\n",
        "\n",
        "단어|대답|\n",
        "--|--\n",
        "몇시| 시간 출력\n",
        "몇분| 분 출력\n",
        "무슨요일| 요일 출력\n",
        "몇월| 월 출력\n",
        "며칠or 몇일 | 일 출력\n",
        "그만 | 종료\n",
        "\n",
        "```\n",
        ">> 시리()\n",
        ">> 질문해주세요: 지금몇시니?\n",
        "지금은 8시 입니다.\n",
        ">> 질문해주세요: 오늘 무슨요일이야\n",
        "오늘은 금요일 입니다.\n",
        ">> 질문해주세요: 그만\n",
        "종료되었습니다.\n",
        "```\n",
        "\n",
        "\n",
        ">>\n",
        "\n"
      ]
    },
    {
      "cell_type": "code",
      "metadata": {
        "id": "R-XoEQc7OG1T",
        "colab": {
          "base_uri": "https://localhost:8080/"
        },
        "outputId": "7715c04b-f9f2-47f3-b63f-8494e570607d"
      },
      "source": [
        "a=input(\"질문해주세요: \")\n",
        "def 시리():\n",
        "  if \"몇시\" in a:\n",
        "    print(time.ctime()[12],\"시 입니다\")\n",
        "  elif \"몇분\" in a:\n",
        "    print(time.ctime()[14:16],\"분 입니다\")\n",
        "  elif \"무슨요일\" in a:\n",
        "    print(time.ctime()[:3],\"요일 입니다\")\n",
        "  elif \"몇월\" in a:\n",
        "    print(time.ctime()[9],\"월 입니다\")\n",
        "  elif \"몇일\" or \"며칠\" in a:\n",
        "    print(time.ctime()[9],\"일 입니다\")\n",
        "  if \"그만\" in a:\n",
        "    print(\"종료\")\n",
        "시리()"
      ],
      "execution_count": 162,
      "outputs": [
        {
          "output_type": "stream",
          "name": "stdout",
          "text": [
            "질문해주세요: 오늘 몇일이니\n",
            "4 일 입니다\n"
          ]
        }
      ]
    },
    {
      "cell_type": "code",
      "source": [
        "time.ctime()"
      ],
      "metadata": {
        "colab": {
          "base_uri": "https://localhost:8080/",
          "height": 35
        },
        "id": "aNUDOr42PHwG",
        "outputId": "8e841054-2bd4-4cd1-8b2b-90e5b1a827c8"
      },
      "execution_count": 41,
      "outputs": [
        {
          "output_type": "execute_result",
          "data": {
            "text/plain": [
              "'Mon Apr  4 06:24:35 2022'"
            ],
            "application/vnd.google.colaboratory.intrinsic+json": {
              "type": "string"
            }
          },
          "metadata": {},
          "execution_count": 41
        }
      ]
    },
    {
      "cell_type": "code",
      "source": [
        "time.ctime()[:3] #요일"
      ],
      "metadata": {
        "colab": {
          "base_uri": "https://localhost:8080/",
          "height": 35
        },
        "id": "1eidnjK_PsAF",
        "outputId": "474fba5e-f453-4b5a-9d5f-9a4be5433b70"
      },
      "execution_count": 65,
      "outputs": [
        {
          "output_type": "execute_result",
          "data": {
            "text/plain": [
              "'Mon'"
            ],
            "application/vnd.google.colaboratory.intrinsic+json": {
              "type": "string"
            }
          },
          "metadata": {},
          "execution_count": 65
        }
      ]
    },
    {
      "cell_type": "code",
      "source": [
        "time.ctime()[9] #월"
      ],
      "metadata": {
        "colab": {
          "base_uri": "https://localhost:8080/",
          "height": 35
        },
        "id": "rtlSdojIPdCe",
        "outputId": "6252edf4-4027-4a9e-a587-764b39693e5a"
      },
      "execution_count": 39,
      "outputs": [
        {
          "output_type": "execute_result",
          "data": {
            "text/plain": [
              "'4'"
            ],
            "application/vnd.google.colaboratory.intrinsic+json": {
              "type": "string"
            }
          },
          "metadata": {},
          "execution_count": 39
        }
      ]
    },
    {
      "cell_type": "code",
      "source": [
        "time.ctime()[12] #시"
      ],
      "metadata": {
        "colab": {
          "base_uri": "https://localhost:8080/",
          "height": 35
        },
        "id": "x070rM7jN8zO",
        "outputId": "2a31d5df-1714-410b-a935-fd90e63381b3"
      },
      "execution_count": 48,
      "outputs": [
        {
          "output_type": "execute_result",
          "data": {
            "text/plain": [
              "'6'"
            ],
            "application/vnd.google.colaboratory.intrinsic+json": {
              "type": "string"
            }
          },
          "metadata": {},
          "execution_count": 48
        }
      ]
    },
    {
      "cell_type": "code",
      "source": [
        "time.ctime()[14:16] #분"
      ],
      "metadata": {
        "colab": {
          "base_uri": "https://localhost:8080/",
          "height": 35
        },
        "id": "5yHUgWP8PLQv",
        "outputId": "e793412d-a6f5-4971-a7c1-e41b221df805"
      },
      "execution_count": 35,
      "outputs": [
        {
          "output_type": "execute_result",
          "data": {
            "text/plain": [
              "'22'"
            ],
            "application/vnd.google.colaboratory.intrinsic+json": {
              "type": "string"
            }
          },
          "metadata": {},
          "execution_count": 35
        }
      ]
    },
    {
      "cell_type": "code",
      "source": [
        "time.ctime()[17:19] #초"
      ],
      "metadata": {
        "colab": {
          "base_uri": "https://localhost:8080/",
          "height": 35
        },
        "id": "3NNRybPQPSTe",
        "outputId": "2c8642f4-3224-4439-89c9-e0a933cf8370"
      },
      "execution_count": 38,
      "outputs": [
        {
          "output_type": "execute_result",
          "data": {
            "text/plain": [
              "'52'"
            ],
            "application/vnd.google.colaboratory.intrinsic+json": {
              "type": "string"
            }
          },
          "metadata": {},
          "execution_count": 38
        }
      ]
    },
    {
      "cell_type": "code",
      "source": [
        "a=input()\n",
        "if \"몇시\" in a:\n",
        "  print(time.ctime()[9],\"시 입니다\")\n",
        "elif \"몇분\" in a:\n",
        "  print(7,\"분 입니다\")"
      ],
      "metadata": {
        "colab": {
          "base_uri": "https://localhost:8080/"
        },
        "id": "kC5aQwUSNNoe",
        "outputId": "836d33db-a865-40e3-dd80-ad405902a6ef"
      },
      "execution_count": 59,
      "outputs": [
        {
          "output_type": "stream",
          "name": "stdout",
          "text": [
            "몇시입니까\n",
            "4 시 입니다\n"
          ]
        }
      ]
    },
    {
      "cell_type": "code",
      "source": [
        "a=\"몇시야\"\n",
        "x='몇시'\n",
        "x in a"
      ],
      "metadata": {
        "colab": {
          "base_uri": "https://localhost:8080/"
        },
        "id": "tMNGqq5dNzmu",
        "outputId": "7d45fc39-c2be-4962-b05c-4259dcf8de12"
      },
      "execution_count": 69,
      "outputs": [
        {
          "output_type": "execute_result",
          "data": {
            "text/plain": [
              "True"
            ]
          },
          "metadata": {},
          "execution_count": 69
        }
      ]
    },
    {
      "cell_type": "markdown",
      "metadata": {
        "id": "X2rC9t0WQfsi"
      },
      "source": [
        "**예제 03**\n",
        "\n",
        "2000년부터 2020년까지 각 해의 날짜의 수를 구하세요\n",
        "\n",
        "```\n",
        "2000년의 날짜는 총 ~~~일 입니다.\n",
        "2001년의 날짜는 총 ~~~일 입니다.\n",
        "...\n",
        "\n",
        "2020년의 날짜는 총 ~~~일 입니다.\n",
        "```"
      ]
    },
    {
      "cell_type": "code",
      "source": [
        "for j in range(2000,2021):\n",
        "  print(f'{j}년의 날짜는 총x일 입니다')"
      ],
      "metadata": {
        "colab": {
          "base_uri": "https://localhost:8080/"
        },
        "id": "RhC-1YWPak9h",
        "outputId": "b863e6e6-97f7-41f4-a646-7e095ad90eb0"
      },
      "execution_count": 127,
      "outputs": [
        {
          "output_type": "stream",
          "name": "stdout",
          "text": [
            "2000년의 날짜는 총x일 입니다\n",
            "2001년의 날짜는 총x일 입니다\n",
            "2002년의 날짜는 총x일 입니다\n",
            "2003년의 날짜는 총x일 입니다\n",
            "2004년의 날짜는 총x일 입니다\n",
            "2005년의 날짜는 총x일 입니다\n",
            "2006년의 날짜는 총x일 입니다\n",
            "2007년의 날짜는 총x일 입니다\n",
            "2008년의 날짜는 총x일 입니다\n",
            "2009년의 날짜는 총x일 입니다\n",
            "2010년의 날짜는 총x일 입니다\n",
            "2011년의 날짜는 총x일 입니다\n",
            "2012년의 날짜는 총x일 입니다\n",
            "2013년의 날짜는 총x일 입니다\n",
            "2014년의 날짜는 총x일 입니다\n",
            "2015년의 날짜는 총x일 입니다\n",
            "2016년의 날짜는 총x일 입니다\n",
            "2017년의 날짜는 총x일 입니다\n",
            "2018년의 날짜는 총x일 입니다\n",
            "2019년의 날짜는 총x일 입니다\n",
            "2020년의 날짜는 총x일 입니다\n"
          ]
        }
      ]
    },
    {
      "cell_type": "code",
      "metadata": {
        "id": "3319F20DQfsl",
        "colab": {
          "base_uri": "https://localhost:8080/"
        },
        "outputId": "ca7463c4-2534-41ae-8f50-33eb0645a400"
      },
      "source": [
        "x=0\n",
        "for i in range(1,13):\n",
        "  x+=calendar.monthrange(2001,i)[1]\n",
        "print(x) #위의 코드와 이 코드를 합친다"
      ],
      "execution_count": 122,
      "outputs": [
        {
          "output_type": "stream",
          "name": "stdout",
          "text": [
            "365\n"
          ]
        }
      ]
    },
    {
      "cell_type": "code",
      "source": [
        "for j in range(2000,2021):\n",
        "  print(f'{j}년의 날짜는 총{x}일 입니다.')\n",
        "  x=0\n",
        "  for i in range(1,13):\n",
        "    x+=calendar.monthrange(j,i)[1]"
      ],
      "metadata": {
        "colab": {
          "base_uri": "https://localhost:8080/"
        },
        "id": "j-17lFmKV7LC",
        "outputId": "77865705-b991-40bb-bd9c-de65b5f71bd7"
      },
      "execution_count": 123,
      "outputs": [
        {
          "output_type": "stream",
          "name": "stdout",
          "text": [
            "2000년의 날짜는 총365일 입니다.\n",
            "2001년의 날짜는 총366일 입니다.\n",
            "2002년의 날짜는 총365일 입니다.\n",
            "2003년의 날짜는 총365일 입니다.\n",
            "2004년의 날짜는 총365일 입니다.\n",
            "2005년의 날짜는 총366일 입니다.\n",
            "2006년의 날짜는 총365일 입니다.\n",
            "2007년의 날짜는 총365일 입니다.\n",
            "2008년의 날짜는 총365일 입니다.\n",
            "2009년의 날짜는 총366일 입니다.\n",
            "2010년의 날짜는 총365일 입니다.\n",
            "2011년의 날짜는 총365일 입니다.\n",
            "2012년의 날짜는 총365일 입니다.\n",
            "2013년의 날짜는 총366일 입니다.\n",
            "2014년의 날짜는 총365일 입니다.\n",
            "2015년의 날짜는 총365일 입니다.\n",
            "2016년의 날짜는 총365일 입니다.\n",
            "2017년의 날짜는 총366일 입니다.\n",
            "2018년의 날짜는 총365일 입니다.\n",
            "2019년의 날짜는 총365일 입니다.\n",
            "2020년의 날짜는 총365일 입니다.\n"
          ]
        }
      ]
    },
    {
      "cell_type": "markdown",
      "metadata": {
        "id": "A7pDCvOJQ6LD"
      },
      "source": [
        "**예제 04**\n",
        "\n",
        "아래형식으로 문자열을 입력했을 때 달력과 요일을 알려주는 코드를 작성하세요. 연도를 쓰지 않으면 올해의 연도가 자동으로 나오게 하세요\n",
        "\n",
        "\n",
        "\n",
        "```\n",
        ">> 날짜를 입력하세요: 2015/12/1\n",
        "   December 2015\n",
        "Mo Tu We Th Fr Sa Su\n",
        "    1  2  3  4  5  6\n",
        " 7  8  9 10 11 12 13\n",
        "14 15 16 17 18 19 20\n",
        "21 22 23 24 25 26 27\n",
        "28 29 30 31\n",
        "* 2015년 12월 1일은 화요일이네요!\n",
        "\n",
        ">> 날짜를 입력하세요: 12/1\n",
        "   December 2021\n",
        "Mo Tu We Th Fr Sa Su\n",
        "       1  2  3  4  5\n",
        " 6  7  8  9 10 11 12\n",
        "13 14 15 16 17 18 19\n",
        "20 21 22 23 24 25 26\n",
        "27 28 29 30 31\n",
        "* 2021년 12월 1일은 수요일이네요!\n",
        "\n",
        ">> 날짜를 입력하세요: 1\n",
        "* 입력형식오류\n",
        "\n",
        "```\n",
        "\n",
        "\n",
        "\n"
      ]
    },
    {
      "cell_type": "code",
      "metadata": {
        "id": "XFWcOHrRQ6LE",
        "colab": {
          "base_uri": "https://localhost:8080/"
        },
        "outputId": "366502fd-ae82-4fa4-c787-1fd468d70bda"
      },
      "source": [
        "calendar.prmonth(2022,4)"
      ],
      "execution_count": 128,
      "outputs": [
        {
          "output_type": "stream",
          "name": "stdout",
          "text": [
            "     April 2022\n",
            "Mo Tu We Th Fr Sa Su\n",
            "             1  2  3\n",
            " 4  5  6  7  8  9 10\n",
            "11 12 13 14 15 16 17\n",
            "18 19 20 21 22 23 24\n",
            "25 26 27 28 29 30\n"
          ]
        }
      ]
    },
    {
      "cell_type": "code",
      "source": [
        "calendar.prmonth(2022,4)"
      ],
      "metadata": {
        "colab": {
          "base_uri": "https://localhost:8080/"
        },
        "id": "nRhUaTiybjVp",
        "outputId": "243bb09c-a0e4-4cdd-d76f-49f9ffc4549e"
      },
      "execution_count": 134,
      "outputs": [
        {
          "output_type": "stream",
          "name": "stdout",
          "text": [
            "     April 2022\n",
            "Mo Tu We Th Fr Sa Su\n",
            "             1  2  3\n",
            " 4  5  6  7  8  9 10\n",
            "11 12 13 14 15 16 17\n",
            "18 19 20 21 22 23 24\n",
            "25 26 27 28 29 30\n"
          ]
        }
      ]
    },
    {
      "cell_type": "code",
      "source": [
        "a=2022\n",
        "b=4\n",
        "c=10\n",
        "calendar.weekday(a,b,c)"
      ],
      "metadata": {
        "colab": {
          "base_uri": "https://localhost:8080/"
        },
        "id": "VXG9GNV1g1oH",
        "outputId": "4c77dd0e-5599-4201-8849-04259f50afd3"
      },
      "execution_count": 142,
      "outputs": [
        {
          "output_type": "execute_result",
          "data": {
            "text/plain": [
              "6"
            ]
          },
          "metadata": {},
          "execution_count": 142
        }
      ]
    },
    {
      "cell_type": "code",
      "source": [
        "x=input(\"날짜를 입력하세요\")\n",
        "type(x)"
      ],
      "metadata": {
        "colab": {
          "base_uri": "https://localhost:8080/"
        },
        "id": "Q9aeC-5whunc",
        "outputId": "422fd94c-ecc5-4ef0-b31a-8280282f1260"
      },
      "execution_count": 153,
      "outputs": [
        {
          "name": "stdout",
          "output_type": "stream",
          "text": [
            "날짜를 입력하세요2020/12/5\n"
          ]
        },
        {
          "output_type": "execute_result",
          "data": {
            "text/plain": [
              "str"
            ]
          },
          "metadata": {},
          "execution_count": 153
        }
      ]
    },
    {
      "cell_type": "code",
      "source": [
        "a=int(input(\"년도를 입력하세요\"))\n",
        "b=int(input(\"월을 입력하세요\"))\n",
        "c=int(input(\"일을 입력하세요\"))\n",
        "if calendar.weekday(a,b,c)==0:\n",
        "  print(f\"{a}년 {b}월 {c}일은 월요일이네요!\")\n",
        "elif calendar.weekday(a,b,c)==1:\n",
        "  print(f\"{a}년 {b}월 {c}일은 화요일이네요!\")\n",
        "elif calendar.weekday(a,b,c)==2:\n",
        "  print(f\"{a}년 {b}월 {c}일은 수요일이네요!\")\n",
        "elif calendar.weekday(a,b,c)==3:\n",
        "  print(f\"{a}년 {b}월 {c}일은 목요일이네요!\")\n",
        "elif calendar.weekday(a,b,c)==4:\n",
        "  print(f\"{a}년 {b}월 {c}일은 금요일이네요!\")\n",
        "elif calendar.weekday(a,b,c)==5:\n",
        "  print(f\"{a}년 {b}월 {c}일은 토요일이네요!\")\n",
        "elif calendar.weekday(a,b,c)==6:\n",
        "  print(f\"{a}년 {b}월 {c}일은 일요일이네요!\")\n",
        "else:\n",
        "  print(\"입력형식오류\")"
      ],
      "metadata": {
        "colab": {
          "base_uri": "https://localhost:8080/"
        },
        "id": "QLiNPQMjbuvI",
        "outputId": "8b661aa1-e922-46cf-d696-a456a592b5d1"
      },
      "execution_count": 156,
      "outputs": [
        {
          "output_type": "stream",
          "name": "stdout",
          "text": [
            "년도를 입력하세요2022\n",
            "월을 입력하세요4\n",
            "일을 입력하세요4\n",
            "2022년 4월 4일은 월요일이네요!\n"
          ]
        }
      ]
    },
    {
      "cell_type": "code",
      "source": [
        ""
      ],
      "metadata": {
        "id": "-VUgpbE9eAmH"
      },
      "execution_count": null,
      "outputs": []
    }
  ]
}